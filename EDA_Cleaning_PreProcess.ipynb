{
 "cells": [
  {
   "cell_type": "code",
   "execution_count": 1,
   "metadata": {
    "collapsed": true
   },
   "outputs": [],
   "source": [
    "#import statements\n",
    "\n",
    "#data frames\n",
    "import pandas as pd\n",
    "import numpy as np\n",
    "\n",
    "#graphics\n",
    "import matplotlib.pyplot as plt\n",
    "import seaborn as sns\n",
    "%matplotlib inline "
   ]
  },
  {
   "cell_type": "code",
   "execution_count": 2,
   "metadata": {
    "collapsed": true
   },
   "outputs": [],
   "source": [
    "#format pandas for reading\n",
    "pd.set_option('display.max_columns',100)\n",
    "pd.set_option('display.max_colwidth', -1)"
   ]
  },
  {
   "cell_type": "code",
   "execution_count": 3,
   "metadata": {
    "collapsed": true
   },
   "outputs": [],
   "source": [
    "#read data\n",
    "\n",
    "train = pd.read_csv(\"train.csv\")\n",
    "test = pd.read_csv(\"test.csv\")\n",
    "feature_desc = pd.read_csv(\"feature_descriptions.csv\")\n",
    "\n",
    "train_labels = pd.read_csv(\"train_labels.csv\")"
   ]
  },
  {
   "cell_type": "code",
   "execution_count": 4,
   "metadata": {
    "collapsed": true
   },
   "outputs": [],
   "source": [
    "#concate train_labels to train\n",
    "train = pd.merge(train,\n",
    "                 train_labels,\n",
    "                 on = 'id')"
   ]
  },
  {
   "cell_type": "code",
   "execution_count": 5,
   "metadata": {
    "collapsed": true
   },
   "outputs": [],
   "source": [
    "#label data as test/train\n",
    "train['dataType'] = 'train'\n",
    "test['dataType'] = 'test'"
   ]
  },
  {
   "cell_type": "code",
   "execution_count": 6,
   "metadata": {
    "collapsed": true
   },
   "outputs": [],
   "source": [
    "trainTest = pd.concat([train,test], sort=True)"
   ]
  },
  {
   "cell_type": "code",
   "execution_count": 7,
   "metadata": {
    "collapsed": false
   },
   "outputs": [
    {
     "data": {
      "text/plain": [
       "(59400, 42)"
      ]
     },
     "execution_count": 7,
     "metadata": {},
     "output_type": "execute_result"
    }
   ],
   "source": [
    "train.shape"
   ]
  },
  {
   "cell_type": "code",
   "execution_count": 8,
   "metadata": {
    "collapsed": false
   },
   "outputs": [
    {
     "data": {
      "text/html": [
       "<div>\n",
       "<style scoped>\n",
       "    .dataframe tbody tr th:only-of-type {\n",
       "        vertical-align: middle;\n",
       "    }\n",
       "\n",
       "    .dataframe tbody tr th {\n",
       "        vertical-align: top;\n",
       "    }\n",
       "\n",
       "    .dataframe thead th {\n",
       "        text-align: right;\n",
       "    }\n",
       "</style>\n",
       "<table border=\"1\" class=\"dataframe\">\n",
       "  <thead>\n",
       "    <tr style=\"text-align: right;\">\n",
       "      <th></th>\n",
       "      <th>id</th>\n",
       "      <th>amount_tsh</th>\n",
       "      <th>date_recorded</th>\n",
       "      <th>funder</th>\n",
       "      <th>gps_height</th>\n",
       "      <th>installer</th>\n",
       "      <th>longitude</th>\n",
       "      <th>latitude</th>\n",
       "      <th>wpt_name</th>\n",
       "      <th>num_private</th>\n",
       "      <th>basin</th>\n",
       "      <th>subvillage</th>\n",
       "      <th>region</th>\n",
       "      <th>region_code</th>\n",
       "      <th>district_code</th>\n",
       "      <th>lga</th>\n",
       "      <th>ward</th>\n",
       "      <th>population</th>\n",
       "      <th>public_meeting</th>\n",
       "      <th>recorded_by</th>\n",
       "      <th>scheme_management</th>\n",
       "      <th>scheme_name</th>\n",
       "      <th>permit</th>\n",
       "      <th>construction_year</th>\n",
       "      <th>extraction_type</th>\n",
       "      <th>extraction_type_group</th>\n",
       "      <th>extraction_type_class</th>\n",
       "      <th>management</th>\n",
       "      <th>management_group</th>\n",
       "      <th>payment</th>\n",
       "      <th>payment_type</th>\n",
       "      <th>water_quality</th>\n",
       "      <th>quality_group</th>\n",
       "      <th>quantity</th>\n",
       "      <th>quantity_group</th>\n",
       "      <th>source</th>\n",
       "      <th>source_type</th>\n",
       "      <th>source_class</th>\n",
       "      <th>waterpoint_type</th>\n",
       "      <th>waterpoint_type_group</th>\n",
       "      <th>status_group</th>\n",
       "      <th>dataType</th>\n",
       "    </tr>\n",
       "  </thead>\n",
       "  <tbody>\n",
       "    <tr>\n",
       "      <th>0</th>\n",
       "      <td>69572</td>\n",
       "      <td>6000.0</td>\n",
       "      <td>3/14/11</td>\n",
       "      <td>Roman</td>\n",
       "      <td>1390</td>\n",
       "      <td>Roman</td>\n",
       "      <td>34.938093</td>\n",
       "      <td>-9.856322</td>\n",
       "      <td>none</td>\n",
       "      <td>0</td>\n",
       "      <td>Lake Nyasa</td>\n",
       "      <td>Mnyusi B</td>\n",
       "      <td>Iringa</td>\n",
       "      <td>11</td>\n",
       "      <td>5</td>\n",
       "      <td>Ludewa</td>\n",
       "      <td>Mundindi</td>\n",
       "      <td>109</td>\n",
       "      <td>True</td>\n",
       "      <td>GeoData Consultants Ltd</td>\n",
       "      <td>VWC</td>\n",
       "      <td>Roman</td>\n",
       "      <td>False</td>\n",
       "      <td>1999</td>\n",
       "      <td>gravity</td>\n",
       "      <td>gravity</td>\n",
       "      <td>gravity</td>\n",
       "      <td>vwc</td>\n",
       "      <td>user-group</td>\n",
       "      <td>pay annually</td>\n",
       "      <td>annually</td>\n",
       "      <td>soft</td>\n",
       "      <td>good</td>\n",
       "      <td>enough</td>\n",
       "      <td>enough</td>\n",
       "      <td>spring</td>\n",
       "      <td>spring</td>\n",
       "      <td>groundwater</td>\n",
       "      <td>communal standpipe</td>\n",
       "      <td>communal standpipe</td>\n",
       "      <td>functional</td>\n",
       "      <td>train</td>\n",
       "    </tr>\n",
       "    <tr>\n",
       "      <th>1</th>\n",
       "      <td>8776</td>\n",
       "      <td>0.0</td>\n",
       "      <td>3/6/13</td>\n",
       "      <td>Grumeti</td>\n",
       "      <td>1399</td>\n",
       "      <td>GRUMETI</td>\n",
       "      <td>34.698766</td>\n",
       "      <td>-2.147466</td>\n",
       "      <td>Zahanati</td>\n",
       "      <td>0</td>\n",
       "      <td>Lake Victoria</td>\n",
       "      <td>Nyamara</td>\n",
       "      <td>Mara</td>\n",
       "      <td>20</td>\n",
       "      <td>2</td>\n",
       "      <td>Serengeti</td>\n",
       "      <td>Natta</td>\n",
       "      <td>280</td>\n",
       "      <td>NaN</td>\n",
       "      <td>GeoData Consultants Ltd</td>\n",
       "      <td>Other</td>\n",
       "      <td>NaN</td>\n",
       "      <td>True</td>\n",
       "      <td>2010</td>\n",
       "      <td>gravity</td>\n",
       "      <td>gravity</td>\n",
       "      <td>gravity</td>\n",
       "      <td>wug</td>\n",
       "      <td>user-group</td>\n",
       "      <td>never pay</td>\n",
       "      <td>never pay</td>\n",
       "      <td>soft</td>\n",
       "      <td>good</td>\n",
       "      <td>insufficient</td>\n",
       "      <td>insufficient</td>\n",
       "      <td>rainwater harvesting</td>\n",
       "      <td>rainwater harvesting</td>\n",
       "      <td>surface</td>\n",
       "      <td>communal standpipe</td>\n",
       "      <td>communal standpipe</td>\n",
       "      <td>functional</td>\n",
       "      <td>train</td>\n",
       "    </tr>\n",
       "    <tr>\n",
       "      <th>2</th>\n",
       "      <td>34310</td>\n",
       "      <td>25.0</td>\n",
       "      <td>2/25/13</td>\n",
       "      <td>Lottery Club</td>\n",
       "      <td>686</td>\n",
       "      <td>World vision</td>\n",
       "      <td>37.460664</td>\n",
       "      <td>-3.821329</td>\n",
       "      <td>Kwa Mahundi</td>\n",
       "      <td>0</td>\n",
       "      <td>Pangani</td>\n",
       "      <td>Majengo</td>\n",
       "      <td>Manyara</td>\n",
       "      <td>21</td>\n",
       "      <td>4</td>\n",
       "      <td>Simanjiro</td>\n",
       "      <td>Ngorika</td>\n",
       "      <td>250</td>\n",
       "      <td>True</td>\n",
       "      <td>GeoData Consultants Ltd</td>\n",
       "      <td>VWC</td>\n",
       "      <td>Nyumba ya mungu pipe scheme</td>\n",
       "      <td>True</td>\n",
       "      <td>2009</td>\n",
       "      <td>gravity</td>\n",
       "      <td>gravity</td>\n",
       "      <td>gravity</td>\n",
       "      <td>vwc</td>\n",
       "      <td>user-group</td>\n",
       "      <td>pay per bucket</td>\n",
       "      <td>per bucket</td>\n",
       "      <td>soft</td>\n",
       "      <td>good</td>\n",
       "      <td>enough</td>\n",
       "      <td>enough</td>\n",
       "      <td>dam</td>\n",
       "      <td>dam</td>\n",
       "      <td>surface</td>\n",
       "      <td>communal standpipe multiple</td>\n",
       "      <td>communal standpipe</td>\n",
       "      <td>functional</td>\n",
       "      <td>train</td>\n",
       "    </tr>\n",
       "    <tr>\n",
       "      <th>3</th>\n",
       "      <td>67743</td>\n",
       "      <td>0.0</td>\n",
       "      <td>1/28/13</td>\n",
       "      <td>Unicef</td>\n",
       "      <td>263</td>\n",
       "      <td>UNICEF</td>\n",
       "      <td>38.486161</td>\n",
       "      <td>-11.155298</td>\n",
       "      <td>Zahanati Ya Nanyumbu</td>\n",
       "      <td>0</td>\n",
       "      <td>Ruvuma / Southern Coast</td>\n",
       "      <td>Mahakamani</td>\n",
       "      <td>Mtwara</td>\n",
       "      <td>90</td>\n",
       "      <td>63</td>\n",
       "      <td>Nanyumbu</td>\n",
       "      <td>Nanyumbu</td>\n",
       "      <td>58</td>\n",
       "      <td>True</td>\n",
       "      <td>GeoData Consultants Ltd</td>\n",
       "      <td>VWC</td>\n",
       "      <td>NaN</td>\n",
       "      <td>True</td>\n",
       "      <td>1986</td>\n",
       "      <td>submersible</td>\n",
       "      <td>submersible</td>\n",
       "      <td>submersible</td>\n",
       "      <td>vwc</td>\n",
       "      <td>user-group</td>\n",
       "      <td>never pay</td>\n",
       "      <td>never pay</td>\n",
       "      <td>soft</td>\n",
       "      <td>good</td>\n",
       "      <td>dry</td>\n",
       "      <td>dry</td>\n",
       "      <td>machine dbh</td>\n",
       "      <td>borehole</td>\n",
       "      <td>groundwater</td>\n",
       "      <td>communal standpipe multiple</td>\n",
       "      <td>communal standpipe</td>\n",
       "      <td>non functional</td>\n",
       "      <td>train</td>\n",
       "    </tr>\n",
       "    <tr>\n",
       "      <th>4</th>\n",
       "      <td>19728</td>\n",
       "      <td>0.0</td>\n",
       "      <td>7/13/11</td>\n",
       "      <td>Action In A</td>\n",
       "      <td>0</td>\n",
       "      <td>Artisan</td>\n",
       "      <td>31.130847</td>\n",
       "      <td>-1.825359</td>\n",
       "      <td>Shuleni</td>\n",
       "      <td>0</td>\n",
       "      <td>Lake Victoria</td>\n",
       "      <td>Kyanyamisa</td>\n",
       "      <td>Kagera</td>\n",
       "      <td>18</td>\n",
       "      <td>1</td>\n",
       "      <td>Karagwe</td>\n",
       "      <td>Nyakasimbi</td>\n",
       "      <td>0</td>\n",
       "      <td>True</td>\n",
       "      <td>GeoData Consultants Ltd</td>\n",
       "      <td>NaN</td>\n",
       "      <td>NaN</td>\n",
       "      <td>True</td>\n",
       "      <td>0</td>\n",
       "      <td>gravity</td>\n",
       "      <td>gravity</td>\n",
       "      <td>gravity</td>\n",
       "      <td>other</td>\n",
       "      <td>other</td>\n",
       "      <td>never pay</td>\n",
       "      <td>never pay</td>\n",
       "      <td>soft</td>\n",
       "      <td>good</td>\n",
       "      <td>seasonal</td>\n",
       "      <td>seasonal</td>\n",
       "      <td>rainwater harvesting</td>\n",
       "      <td>rainwater harvesting</td>\n",
       "      <td>surface</td>\n",
       "      <td>communal standpipe</td>\n",
       "      <td>communal standpipe</td>\n",
       "      <td>functional</td>\n",
       "      <td>train</td>\n",
       "    </tr>\n",
       "  </tbody>\n",
       "</table>\n",
       "</div>"
      ],
      "text/plain": [
       "      id  amount_tsh date_recorded        funder  gps_height     installer  \\\n",
       "0  69572  6000.0      3/14/11       Roman         1390        Roman          \n",
       "1  8776   0.0         3/6/13        Grumeti       1399        GRUMETI        \n",
       "2  34310  25.0        2/25/13       Lottery Club  686         World vision   \n",
       "3  67743  0.0         1/28/13       Unicef        263         UNICEF         \n",
       "4  19728  0.0         7/13/11       Action In A   0           Artisan        \n",
       "\n",
       "   longitude   latitude              wpt_name  num_private  \\\n",
       "0  34.938093 -9.856322   none                  0             \n",
       "1  34.698766 -2.147466   Zahanati              0             \n",
       "2  37.460664 -3.821329   Kwa Mahundi           0             \n",
       "3  38.486161 -11.155298  Zahanati Ya Nanyumbu  0             \n",
       "4  31.130847 -1.825359   Shuleni               0             \n",
       "\n",
       "                     basin  subvillage   region  region_code  district_code  \\\n",
       "0  Lake Nyasa               Mnyusi B    Iringa   11           5               \n",
       "1  Lake Victoria            Nyamara     Mara     20           2               \n",
       "2  Pangani                  Majengo     Manyara  21           4               \n",
       "3  Ruvuma / Southern Coast  Mahakamani  Mtwara   90           63              \n",
       "4  Lake Victoria            Kyanyamisa  Kagera   18           1               \n",
       "\n",
       "         lga        ward  population public_meeting              recorded_by  \\\n",
       "0  Ludewa     Mundindi    109         True           GeoData Consultants Ltd   \n",
       "1  Serengeti  Natta       280         NaN            GeoData Consultants Ltd   \n",
       "2  Simanjiro  Ngorika     250         True           GeoData Consultants Ltd   \n",
       "3  Nanyumbu   Nanyumbu    58          True           GeoData Consultants Ltd   \n",
       "4  Karagwe    Nyakasimbi  0           True           GeoData Consultants Ltd   \n",
       "\n",
       "  scheme_management                  scheme_name permit  construction_year  \\\n",
       "0  VWC               Roman                        False  1999                \n",
       "1  Other             NaN                          True   2010                \n",
       "2  VWC               Nyumba ya mungu pipe scheme  True   2009                \n",
       "3  VWC               NaN                          True   1986                \n",
       "4  NaN               NaN                          True   0                   \n",
       "\n",
       "  extraction_type extraction_type_group extraction_type_class management  \\\n",
       "0  gravity         gravity               gravity               vwc         \n",
       "1  gravity         gravity               gravity               wug         \n",
       "2  gravity         gravity               gravity               vwc         \n",
       "3  submersible     submersible           submersible           vwc         \n",
       "4  gravity         gravity               gravity               other       \n",
       "\n",
       "  management_group         payment payment_type water_quality quality_group  \\\n",
       "0  user-group       pay annually    annually     soft          good           \n",
       "1  user-group       never pay       never pay    soft          good           \n",
       "2  user-group       pay per bucket  per bucket   soft          good           \n",
       "3  user-group       never pay       never pay    soft          good           \n",
       "4  other            never pay       never pay    soft          good           \n",
       "\n",
       "       quantity quantity_group                source           source_type  \\\n",
       "0  enough        enough         spring                spring                 \n",
       "1  insufficient  insufficient   rainwater harvesting  rainwater harvesting   \n",
       "2  enough        enough         dam                   dam                    \n",
       "3  dry           dry            machine dbh           borehole               \n",
       "4  seasonal      seasonal       rainwater harvesting  rainwater harvesting   \n",
       "\n",
       "  source_class              waterpoint_type waterpoint_type_group  \\\n",
       "0  groundwater  communal standpipe           communal standpipe     \n",
       "1  surface      communal standpipe           communal standpipe     \n",
       "2  surface      communal standpipe multiple  communal standpipe     \n",
       "3  groundwater  communal standpipe multiple  communal standpipe     \n",
       "4  surface      communal standpipe           communal standpipe     \n",
       "\n",
       "     status_group dataType  \n",
       "0  functional      train    \n",
       "1  functional      train    \n",
       "2  functional      train    \n",
       "3  non functional  train    \n",
       "4  functional      train    "
      ]
     },
     "execution_count": 8,
     "metadata": {},
     "output_type": "execute_result"
    }
   ],
   "source": [
    "train.head()"
   ]
  },
  {
   "cell_type": "code",
   "execution_count": 9,
   "metadata": {
    "collapsed": false
   },
   "outputs": [
    {
     "data": {
      "text/plain": [
       "id                       0    \n",
       "amount_tsh               0    \n",
       "date_recorded            0    \n",
       "funder                   3635 \n",
       "gps_height               0    \n",
       "installer                3655 \n",
       "longitude                0    \n",
       "latitude                 0    \n",
       "wpt_name                 0    \n",
       "num_private              0    \n",
       "basin                    0    \n",
       "subvillage               371  \n",
       "region                   0    \n",
       "region_code              0    \n",
       "district_code            0    \n",
       "lga                      0    \n",
       "ward                     0    \n",
       "population               0    \n",
       "public_meeting           3334 \n",
       "recorded_by              0    \n",
       "scheme_management        3877 \n",
       "scheme_name              28166\n",
       "permit                   3056 \n",
       "construction_year        0    \n",
       "extraction_type          0    \n",
       "extraction_type_group    0    \n",
       "extraction_type_class    0    \n",
       "management               0    \n",
       "management_group         0    \n",
       "payment                  0    \n",
       "payment_type             0    \n",
       "water_quality            0    \n",
       "quality_group            0    \n",
       "quantity                 0    \n",
       "quantity_group           0    \n",
       "source                   0    \n",
       "source_type              0    \n",
       "source_class             0    \n",
       "waterpoint_type          0    \n",
       "waterpoint_type_group    0    \n",
       "status_group             0    \n",
       "dataType                 0    \n",
       "dtype: int64"
      ]
     },
     "execution_count": 9,
     "metadata": {},
     "output_type": "execute_result"
    }
   ],
   "source": [
    "train.isnull().sum()"
   ]
  },
  {
   "cell_type": "code",
   "execution_count": 10,
   "metadata": {
    "collapsed": true
   },
   "outputs": [],
   "source": [
    "threshold5per = len(train)*.05"
   ]
  },
  {
   "cell_type": "code",
   "execution_count": 11,
   "metadata": {
    "collapsed": true
   },
   "outputs": [],
   "source": [
    "columns2Drop = train.columns[train.isnull().sum()>threshold5per]"
   ]
  },
  {
   "cell_type": "code",
   "execution_count": 12,
   "metadata": {
    "collapsed": false
   },
   "outputs": [
    {
     "data": {
      "text/plain": [
       "Index(['funder', 'installer', 'public_meeting', 'scheme_management',\n",
       "       'scheme_name', 'permit'],\n",
       "      dtype='object')"
      ]
     },
     "execution_count": 12,
     "metadata": {},
     "output_type": "execute_result"
    }
   ],
   "source": [
    "columns2Drop"
   ]
  },
  {
   "cell_type": "code",
   "execution_count": 13,
   "metadata": {
    "collapsed": true
   },
   "outputs": [],
   "source": [
    "cat_col = list(train.select_dtypes(include = ['object']).columns)\n",
    "num_col = list(train.select_dtypes(exclude = ['object']).columns)"
   ]
  },
  {
   "cell_type": "code",
   "execution_count": 14,
   "metadata": {
    "collapsed": false
   },
   "outputs": [
    {
     "name": "stdout",
     "output_type": "stream",
     "text": [
      "['date_recorded', 'funder', 'installer', 'wpt_name', 'basin', 'subvillage', 'region', 'lga', 'ward', 'public_meeting', 'recorded_by', 'scheme_management', 'scheme_name', 'permit', 'extraction_type', 'extraction_type_group', 'extraction_type_class', 'management', 'management_group', 'payment', 'payment_type', 'water_quality', 'quality_group', 'quantity', 'quantity_group', 'source', 'source_type', 'source_class', 'waterpoint_type', 'waterpoint_type_group', 'status_group', 'dataType']\n"
     ]
    }
   ],
   "source": [
    "print(cat_col)"
   ]
  },
  {
   "cell_type": "code",
   "execution_count": 15,
   "metadata": {
    "collapsed": false
   },
   "outputs": [
    {
     "name": "stdout",
     "output_type": "stream",
     "text": [
      "date_recorded            356  \n",
      "funder                   1897 \n",
      "installer                2145 \n",
      "wpt_name                 37400\n",
      "basin                    9    \n",
      "subvillage               19287\n",
      "region                   21   \n",
      "lga                      125  \n",
      "ward                     2092 \n",
      "public_meeting           2    \n",
      "recorded_by              1    \n",
      "scheme_management        12   \n",
      "scheme_name              2696 \n",
      "permit                   2    \n",
      "extraction_type          18   \n",
      "extraction_type_group    13   \n",
      "extraction_type_class    7    \n",
      "management               12   \n",
      "management_group         5    \n",
      "payment                  7    \n",
      "payment_type             7    \n",
      "water_quality            8    \n",
      "quality_group            6    \n",
      "quantity                 5    \n",
      "quantity_group           5    \n",
      "source                   10   \n",
      "source_type              7    \n",
      "source_class             3    \n",
      "waterpoint_type          7    \n",
      "waterpoint_type_group    6    \n",
      "status_group             3    \n",
      "dataType                 1    \n",
      "dtype: int64\n",
      "\n",
      "date_recorded            True \n",
      "funder                   True \n",
      "installer                True \n",
      "wpt_name                 True \n",
      "basin                    False\n",
      "subvillage               True \n",
      "region                   False\n",
      "lga                      True \n",
      "ward                     True \n",
      "public_meeting           False\n",
      "recorded_by              False\n",
      "scheme_management        False\n",
      "scheme_name              True \n",
      "permit                   False\n",
      "extraction_type          False\n",
      "extraction_type_group    False\n",
      "extraction_type_class    False\n",
      "management               False\n",
      "management_group         False\n",
      "payment                  False\n",
      "payment_type             False\n",
      "water_quality            False\n",
      "quality_group            False\n",
      "quantity                 False\n",
      "quantity_group           False\n",
      "source                   False\n",
      "source_type              False\n",
      "source_class             False\n",
      "waterpoint_type          False\n",
      "waterpoint_type_group    False\n",
      "status_group             False\n",
      "dataType                 False\n",
      "dtype: bool\n"
     ]
    }
   ],
   "source": [
    "print(train[cat_col].nunique())\n",
    "print()\n",
    "print(train[cat_col].nunique()>21)\n",
    "\n",
    "#convert date_recorded into an actual date\n",
    "#drop anything with more than 21 different categories\n",
    "#drop recorded_by as only has 1 unique value\n",
    "\n",
    "#needed to update my pandas on mac.  Now working.  \n",
    "\n",
    "#LESSONS LEARNED\n",
    "#if something works on one computer, and not the other, update the packates"
   ]
  },
  {
   "cell_type": "code",
   "execution_count": 16,
   "metadata": {
    "collapsed": true
   },
   "outputs": [],
   "source": [
    "columns2drop2 = ['wpt_name','subvillage','lga','ward','recorded_by','id']"
   ]
  },
  {
   "cell_type": "code",
   "execution_count": 17,
   "metadata": {
    "collapsed": true
   },
   "outputs": [],
   "source": [
    "cat_col = list(train.select_dtypes(include = ['object']).columns)\n",
    "num_col = list(train.select_dtypes(exclude = ['object']).columns)"
   ]
  },
  {
   "cell_type": "code",
   "execution_count": 18,
   "metadata": {
    "collapsed": true
   },
   "outputs": [],
   "source": [
    "#convert string date to date time\n",
    "train['date_recorded'] = pd.to_datetime(train['date_recorded'])\n",
    "trainTest['date_recorded'] = pd.to_datetime(trainTest['date_recorded'])"
   ]
  },
  {
   "cell_type": "code",
   "execution_count": 19,
   "metadata": {
    "collapsed": true
   },
   "outputs": [],
   "source": [
    "#create columns to split out the data\n",
    "train['year'] = pd.DatetimeIndex(train['date_recorded']).year\n",
    "train['month'] = pd.DatetimeIndex(train['date_recorded']).month\n",
    "train['day'] = pd.DatetimeIndex(train['date_recorded']).day\n",
    "\n",
    "trainTest['year'] = pd.DatetimeIndex(trainTest['date_recorded']).year\n",
    "trainTest['month'] = pd.DatetimeIndex(trainTest['date_recorded']).month\n",
    "trainTest['day'] = pd.DatetimeIndex(trainTest['date_recorded']).day"
   ]
  },
  {
   "cell_type": "code",
   "execution_count": 20,
   "metadata": {
    "collapsed": false
   },
   "outputs": [
    {
     "name": "stdout",
     "output_type": "stream",
     "text": [
      "Unique Years: 5\n",
      "Unique Months: 12\n",
      "Unique Days: 31\n"
     ]
    }
   ],
   "source": [
    "print('Unique Years: {}'.format(train.year.nunique()))\n",
    "print('Unique Months: {}'.format(train.month.nunique()))\n",
    "print('Unique Days: {}'.format(train.day.nunique()))"
   ]
  },
  {
   "cell_type": "code",
   "execution_count": 21,
   "metadata": {
    "collapsed": false
   },
   "outputs": [
    {
     "name": "stdout",
     "output_type": "stream",
     "text": [
      "2011    28674\n",
      "2013    24271\n",
      "2012    6424 \n",
      "2004    30   \n",
      "2002    1    \n",
      "Name: year, dtype: int64\n"
     ]
    },
    {
     "data": {
      "image/png": "[encoded data removed]",
      "text/plain": [
       "<Figure size 1080x432 with 1 Axes>"
      ]
     },
     "metadata": {},
     "output_type": "display_data"
    }
   ],
   "source": [
    "plt.rcParams['figure.figsize']=(15,6)\n",
    "\n",
    "train.groupby('year').status_group.value_counts(\n",
    "    normalize = True).unstack().sort_values(['functional'],ascending=False).plot(\n",
    "    kind='bar',stacked = True)\n",
    "\n",
    "#how many counts did we have for 2002 and 2004?\n",
    "print(train.year.value_counts())\n",
    "\n",
    "#any data before 2011 may not be helpful.  Possible that the data is way less accurate"
   ]
  },
  {
   "cell_type": "code",
   "execution_count": 22,
   "metadata": {
    "collapsed": false
   },
   "outputs": [
    {
     "data": {
      "text/plain": [
       "0    74207\n",
       "1    43   \n",
       "Name: pre2011, dtype: int64"
      ]
     },
     "execution_count": 22,
     "metadata": {},
     "output_type": "execute_result"
    }
   ],
   "source": [
    "#pre2011 engineering\n",
    "def pre2011(x):\n",
    "    if x < 2011:\n",
    "        return(1)\n",
    "    else:\n",
    "        return(0)\n",
    "\n",
    "trainTest['pre2011'] = trainTest['year'].apply(pre2011)\n",
    "\n",
    "trainTest.pre2011.value_counts()"
   ]
  },
  {
   "cell_type": "code",
   "execution_count": 23,
   "metadata": {
    "collapsed": false
   },
   "outputs": [
    {
     "data": {
      "text/plain": [
       "<matplotlib.axes._subplots.AxesSubplot at 0x1101329b0>"
      ]
     },
     "execution_count": 23,
     "metadata": {},
     "output_type": "execute_result"
    },
    {
     "data": {
      "image/png": "[encoded data removed]",
      "text/plain": [
       "<Figure size 1080x432 with 1 Axes>"
      ]
     },
     "metadata": {},
     "output_type": "display_data"
    }
   ],
   "source": [
    "train.groupby('month').status_group.value_counts(\n",
    "    normalize = True).unstack().plot(\n",
    "    kind='bar',stacked = True)\n",
    "\n",
    "#Observations\n",
    "\n",
    "#June is by far the highest - feature engineering\n",
    "#last month of the quarter is the best - feature engineering \n",
    "\n",
    "#hypothesis that non profits or NGOs have money they need to use at by the end of the quarter, so use it or lose it\n",
    "#and spend on making wells"
   ]
  },
  {
   "cell_type": "code",
   "execution_count": 24,
   "metadata": {
    "collapsed": true
   },
   "outputs": [],
   "source": [
    "def quartermonth(x):\n",
    "    if x % 3 == 0:\n",
    "        return(3)\n",
    "    if x % 3 == 2:\n",
    "        return(2)\n",
    "    if x % 3 == 1:\n",
    "        return(1)        "
   ]
  },
  {
   "cell_type": "code",
   "execution_count": 25,
   "metadata": {
    "collapsed": true
   },
   "outputs": [],
   "source": [
    "train['quarterMonth'] = train['month'].apply(quartermonth)\n",
    "trainTest['quarterMonth'] = trainTest['month'].apply(quartermonth)"
   ]
  },
  {
   "cell_type": "code",
   "execution_count": 26,
   "metadata": {
    "collapsed": false
   },
   "outputs": [
    {
     "name": "stdout",
     "output_type": "stream",
     "text": [
      "['id', 'amount_tsh', 'date_recorded', 'gps_height', 'longitude', 'latitude', 'num_private', 'region_code', 'district_code', 'population', 'construction_year', 'year', 'month', 'day', 'quarterMonth']\n"
     ]
    }
   ],
   "source": [
    "num_col = list(train.select_dtypes(exclude = ['object']).columns)\n",
    "print(num_col)"
   ]
  },
  {
   "cell_type": "code",
   "execution_count": 27,
   "metadata": {
    "collapsed": true
   },
   "outputs": [],
   "source": [
    "# ['amount_tsh','gps_height','longitude','latitude', 'num_private', 'region_code', 'district_code']\n",
    "# ['population','construction_year', 'year', 'month', 'day', 'quarterMonth']"
   ]
  },
  {
   "cell_type": "code",
   "execution_count": 28,
   "metadata": {
    "collapsed": false
   },
   "outputs": [
    {
     "data": {
      "text/plain": [
       "count    59400.000000\n",
       "mean     0.474141    \n",
       "std      12.236230   \n",
       "min      0.000000    \n",
       "25%      0.000000    \n",
       "50%      0.000000    \n",
       "75%      0.000000    \n",
       "max      1776.000000 \n",
       "Name: num_private, dtype: float64"
      ]
     },
     "execution_count": 28,
     "metadata": {},
     "output_type": "execute_result"
    }
   ],
   "source": [
    "train.num_private.describe()"
   ]
  },
  {
   "cell_type": "code",
   "execution_count": 29,
   "metadata": {
    "collapsed": false
   },
   "outputs": [
    {
     "data": {
      "text/plain": [
       "\"\\nsns.pairplot(train[['amount_tsh','gps_height','longitude','latitude',\\n                    'status_group']], \\n             hue = 'status_group',\\n            diag_kind = 'kde')\\n\""
      ]
     },
     "execution_count": 29,
     "metadata": {},
     "output_type": "execute_result"
    }
   ],
   "source": [
    "\"\"\"\n",
    "sns.pairplot(train[['amount_tsh','gps_height','longitude','latitude',\n",
    "                    'status_group']], \n",
    "             hue = 'status_group',\n",
    "            diag_kind = 'kde')\n",
    "\"\"\"\n",
    "#things to clean\n",
    "\n",
    "#clean the weird latitude and longitude\n",
    "#lots of amount_tsh\n",
    "#lots of 0 depth of the well"
   ]
  },
  {
   "cell_type": "code",
   "execution_count": 30,
   "metadata": {
    "collapsed": false
   },
   "outputs": [
    {
     "data": {
      "text/plain": [
       "<seaborn.axisgrid.FacetGrid at 0x1101422e8>"
      ]
     },
     "execution_count": 30,
     "metadata": {},
     "output_type": "execute_result"
    },
    {
     "data": {
      "image/png": "[encoded data removed]",
      "text/plain": [
       "<Figure size 512.125x360 with 1 Axes>"
      ]
     },
     "metadata": {},
     "output_type": "display_data"
    }
   ],
   "source": [
    "sns.lmplot(x = 'latitude', y = 'longitude', data = train, hue = 'status_group',fit_reg = False)\n",
    "#need to get rid of the combo 0 latitude and 0 longitude"
   ]
  },
  {
   "cell_type": "code",
   "execution_count": 31,
   "metadata": {
    "collapsed": false
   },
   "outputs": [
    {
     "name": "stdout",
     "output_type": "stream",
     "text": [
      "Lake Victoria      1713\n",
      "Lake Tanganyika    99  \n",
      "Name: basin, dtype: int64\n",
      "\n",
      "Lake Victoria      1713\n",
      "Lake Tanganyika    99  \n",
      "Name: basin, dtype: int64\n"
     ]
    }
   ],
   "source": [
    "#explore which ones are missing values\n",
    "print(train['basin'][train.latitude == -2.000000e-08].value_counts())\n",
    "print()\n",
    "print(train['basin'][train.longitude == 0].value_counts())\n",
    "\n",
    "#only Lake Vic & Tang are missing values "
   ]
  },
  {
   "cell_type": "code",
   "execution_count": 32,
   "metadata": {
    "collapsed": true
   },
   "outputs": [],
   "source": [
    "#Replace off values with NaNs\n",
    "train.latitude.replace(to_replace = -2.000000e-08,value = np.nan,inplace = True)\n",
    "train.longitude.replace(to_replace = 0,value = np.nan,inplace = True)\n",
    "\n",
    "trainTest.latitude.replace(to_replace = -2.000000e-08,value = np.nan,inplace = True)\n",
    "trainTest.longitude.replace(to_replace = 0,value = np.nan,inplace = True)"
   ]
  },
  {
   "cell_type": "code",
   "execution_count": 33,
   "metadata": {
    "collapsed": false
   },
   "outputs": [
    {
     "name": "stdout",
     "output_type": "stream",
     "text": [
      "Lake Victoria      432\n",
      "Lake Tanganyika    25 \n",
      "Name: basin, dtype: int64\n",
      "\n",
      "Lake Victoria      432\n",
      "Lake Tanganyika    25 \n",
      "Name: basin, dtype: int64\n"
     ]
    }
   ],
   "source": [
    "#explore which ones are missing values\n",
    "print(test['basin'][test.latitude == -2.000000e-08].value_counts())\n",
    "print()\n",
    "print(test['basin'][test.longitude == 0].value_counts())"
   ]
  },
  {
   "cell_type": "code",
   "execution_count": 34,
   "metadata": {
    "collapsed": true
   },
   "outputs": [],
   "source": [
    "# replace the missing value \n",
    "\n",
    "#no longer need some of the manual calculations I did above\n",
    "train['latitude'].fillna(train.groupby('basin')['latitude'].transform('mean'), inplace = True)\n",
    "train['longitude'].fillna(train.groupby('basin')['longitude'].transform('mean'), inplace = True)\n",
    "\n",
    "trainTest['latitude'].fillna(trainTest.groupby('basin')['latitude'].transform('mean'), inplace = True)\n",
    "trainTest['longitude'].fillna(trainTest.groupby('basin')['longitude'].transform('mean'), inplace = True)"
   ]
  },
  {
   "cell_type": "code",
   "execution_count": 35,
   "metadata": {
    "collapsed": false
   },
   "outputs": [
    {
     "data": {
      "text/plain": [
       "<seaborn.axisgrid.FacetGrid at 0x110f5c278>"
      ]
     },
     "execution_count": 35,
     "metadata": {},
     "output_type": "execute_result"
    },
    {
     "data": {
      "image/png": "[encoded data removed]",
      "text/plain": [
       "<Figure size 512.125x360 with 1 Axes>"
      ]
     },
     "metadata": {},
     "output_type": "display_data"
    }
   ],
   "source": [
    "sns.lmplot(x = 'latitude', y = 'longitude', \n",
    "           data = train, hue = 'status_group',fit_reg = False, \n",
    "           scatter_kws={'alpha':0.5})"
   ]
  },
  {
   "cell_type": "code",
   "execution_count": 36,
   "metadata": {
    "collapsed": false
   },
   "outputs": [
    {
     "data": {
      "text/plain": [
       "'\\nLatitude is written before longitude. \\nLatitude is written with a number, followed by either “north” or “south”\\ndepending on whether it is located north or south of the equator. \\n\\nLongitude is written with a number, followed by either “east” or “west” \\ndepending on whether it is located east or west of the Prime Meridian.\\n'"
      ]
     },
     "execution_count": 36,
     "metadata": {},
     "output_type": "execute_result"
    }
   ],
   "source": [
    "\"\"\"\n",
    "Latitude is written before longitude. \n",
    "Latitude is written with a number, followed by either “north” or “south”\n",
    "depending on whether it is located north or south of the equator. \n",
    "\n",
    "Longitude is written with a number, followed by either “east” or “west” \n",
    "depending on whether it is located east or west of the Prime Meridian.\n",
    "\"\"\""
   ]
  },
  {
   "cell_type": "code",
   "execution_count": 37,
   "metadata": {
    "collapsed": false
   },
   "outputs": [
    {
     "data": {
      "text/plain": [
       "\"\\nsns.pairplot(train[['amount_tsh','gps_height','longitude','latitude',\\n                    'status_group']], \\n             hue = 'status_group',\\n            diag_kind = 'kde')\\n\""
      ]
     },
     "execution_count": 37,
     "metadata": {},
     "output_type": "execute_result"
    }
   ],
   "source": [
    "\"\"\"\n",
    "sns.pairplot(train[['amount_tsh','gps_height','longitude','latitude',\n",
    "                    'status_group']], \n",
    "             hue = 'status_group',\n",
    "            diag_kind = 'kde')\n",
    "\"\"\""
   ]
  },
  {
   "cell_type": "code",
   "execution_count": 38,
   "metadata": {
    "collapsed": false
   },
   "outputs": [
    {
     "data": {
      "text/plain": [
       "0.00         41639\n",
       "500.00       3102 \n",
       "50.00        2472 \n",
       "1000.00      1488 \n",
       "20.00        1463 \n",
       "200.00       1220 \n",
       "100.00       816  \n",
       "10.00        806  \n",
       "30.00        743  \n",
       "2000.00      704  \n",
       "250.00       569  \n",
       "300.00       557  \n",
       "5000.00      450  \n",
       "5.00         376  \n",
       "25.00        356  \n",
       "3000.00      334  \n",
       "1200.00      267  \n",
       "1500.00      197  \n",
       "6.00         190  \n",
       "600.00       176  \n",
       "4000.00      156  \n",
       "2400.00      145  \n",
       "2500.00      139  \n",
       "6000.00      125  \n",
       "7.00         69   \n",
       "8000.00      61   \n",
       "750.00       59   \n",
       "40.00        59   \n",
       "10000.00     57   \n",
       "12000.00     51   \n",
       "             ..   \n",
       "16000.00     2    \n",
       "16300.00     2    \n",
       "800.00       2    \n",
       "11000.00     2    \n",
       "590.00       2    \n",
       "520.00       2    \n",
       "26000.00     2    \n",
       "13000.00     2    \n",
       "9.00         1    \n",
       "170000.00    1    \n",
       "200000.00    1    \n",
       "900.00       1    \n",
       "0.25         1    \n",
       "53.00        1    \n",
       "350000.00    1    \n",
       "306.00       1    \n",
       "120000.00    1    \n",
       "26.00        1    \n",
       "59.00        1    \n",
       "60000.00     1    \n",
       "5400.00      1    \n",
       "70000.00     1    \n",
       "250000.00    1    \n",
       "38000.00     1    \n",
       "1400.00      1    \n",
       "8500.00      1    \n",
       "6300.00      1    \n",
       "220.00       1    \n",
       "138000.00    1    \n",
       "12.00        1    \n",
       "Name: amount_tsh, Length: 98, dtype: int64"
      ]
     },
     "execution_count": 38,
     "metadata": {},
     "output_type": "execute_result"
    }
   ],
   "source": [
    "train['amount_tsh'].value_counts()\n",
    "#drop amount_tsh, not convinced it should be 0 "
   ]
  },
  {
   "cell_type": "code",
   "execution_count": 39,
   "metadata": {
    "collapsed": false
   },
   "outputs": [
    {
     "data": {
      "text/plain": [
       " 0       20438\n",
       "-15      60   \n",
       "-16      55   \n",
       "-13      55   \n",
       "-20      52   \n",
       " 1290    52   \n",
       "-14      51   \n",
       " 303     51   \n",
       "-18      49   \n",
       "-19      47   \n",
       " 1269    46   \n",
       " 1295    46   \n",
       " 1304    45   \n",
       "-23      45   \n",
       " 280     44   \n",
       " 1538    44   \n",
       " 1286    44   \n",
       "-8       44   \n",
       "-17      44   \n",
       " 1332    43   \n",
       " 320     43   \n",
       " 1317    42   \n",
       " 1293    42   \n",
       " 1319    42   \n",
       " 1359    42   \n",
       " 1264    42   \n",
       " 1288    42   \n",
       " 1401    42   \n",
       " 1303    42   \n",
       "-27      42   \n",
       "         ..   \n",
       " 2506    1    \n",
       " 2023    1    \n",
       "-53      1    \n",
       " 2364    1    \n",
       " 2332    1    \n",
       " 2402    1    \n",
       " 2236    1    \n",
       " 2420    1    \n",
       " 2291    1    \n",
       " 2407    1    \n",
       " 2080    1    \n",
       " 2250    1    \n",
       " 591     1    \n",
       " 2378    1    \n",
       " 2535    1    \n",
       " 2614    1    \n",
       " 2484    1    \n",
       " 2450    1    \n",
       " 2072    1    \n",
       " 2286    1    \n",
       " 2567    1    \n",
       " 2322    1    \n",
       " 2254    1    \n",
       " 2264    1    \n",
       " 2464    1    \n",
       " 2285    1    \n",
       " 2424    1    \n",
       " 2552    1    \n",
       " 2413    1    \n",
       " 2385    1    \n",
       "Name: gps_height, Length: 2428, dtype: int64"
      ]
     },
     "execution_count": 39,
     "metadata": {},
     "output_type": "execute_result"
    }
   ],
   "source": [
    "train['gps_height'].value_counts()\n",
    "#going to drop this as well"
   ]
  },
  {
   "cell_type": "code",
   "execution_count": 40,
   "metadata": {
    "collapsed": true
   },
   "outputs": [],
   "source": [
    "columns2drop3 = ['amount_tsh','gps_height']"
   ]
  },
  {
   "cell_type": "code",
   "execution_count": 41,
   "metadata": {
    "collapsed": false
   },
   "outputs": [
    {
     "data": {
      "text/plain": [
       "\"\\nsns.pairplot(train[['population','construction_year', 'year', 'month', 'day', 'quarterMonth',\\n                    'status_group']], \\n             hue = 'status_group',\\n            diag_kind = 'kde')\\n\""
      ]
     },
     "execution_count": 41,
     "metadata": {},
     "output_type": "execute_result"
    }
   ],
   "source": [
    "\"\"\"\n",
    "sns.pairplot(train[['population','construction_year', 'year', 'month', 'day', 'quarterMonth',\n",
    "                    'status_group']], \n",
    "             hue = 'status_group',\n",
    "            diag_kind = 'kde')\n",
    "\"\"\"\n",
    "#given these discrete values, not super helpful"
   ]
  },
  {
   "cell_type": "code",
   "execution_count": 42,
   "metadata": {
    "collapsed": false
   },
   "outputs": [
    {
     "data": {
      "text/plain": [
       "<matplotlib.axes._subplots.AxesSubplot at 0x10ec6def0>"
      ]
     },
     "execution_count": 42,
     "metadata": {},
     "output_type": "execute_result"
    },
    {
     "data": {
      "image/png": "[encoded data removed]",
      "text/plain": [
       "<Figure size 1080x432 with 1 Axes>"
      ]
     },
     "metadata": {},
     "output_type": "display_data"
    }
   ],
   "source": [
    "train.groupby('day').status_group.value_counts(\n",
    "    normalize = True).unstack().plot(\n",
    "    kind='bar',stacked = True)\n",
    "\n",
    "#observations"
   ]
  },
  {
   "cell_type": "code",
   "execution_count": 43,
   "metadata": {
    "collapsed": false
   },
   "outputs": [
    {
     "data": {
      "text/plain": [
       "Index(['date_recorded', 'funder', 'installer', 'wpt_name', 'basin',\n",
       "       'subvillage', 'region', 'lga', 'ward', 'public_meeting', 'recorded_by',\n",
       "       'scheme_management', 'scheme_name', 'permit', 'extraction_type',\n",
       "       'extraction_type_group', 'extraction_type_class', 'management',\n",
       "       'management_group', 'payment', 'payment_type', 'water_quality',\n",
       "       'quality_group', 'quantity', 'quantity_group', 'source', 'source_type',\n",
       "       'source_class', 'waterpoint_type', 'waterpoint_type_group',\n",
       "       'status_group', 'dataType'],\n",
       "      dtype='object')"
      ]
     },
     "execution_count": 43,
     "metadata": {},
     "output_type": "execute_result"
    }
   ],
   "source": [
    "train[cat_col].columns"
   ]
  },
  {
   "cell_type": "code",
   "execution_count": 44,
   "metadata": {
    "collapsed": false
   },
   "outputs": [
    {
     "data": {
      "text/plain": [
       "functional                 0.543081\n",
       "non functional             0.384242\n",
       "functional needs repair    0.072677\n",
       "Name: status_group, dtype: float64"
      ]
     },
     "execution_count": 44,
     "metadata": {},
     "output_type": "execute_result"
    }
   ],
   "source": [
    "train.status_group.value_counts(normalize = True)"
   ]
  },
  {
   "cell_type": "markdown",
   "metadata": {},
   "source": [
    "Need to look at a differnet feature groups to see if they are the same or if they have any differences\n",
    "\n",
    "extraction_type, extraction_type_group, extraction_type_group\n",
    "management, management_group\n",
    "payment, payment_type\n",
    "water_quality, quality_group\n",
    "quantity, quantity_group\n",
    "source, source_type, source_group\n",
    "waterpoint_type, waterpoint_group"
   ]
  },
  {
   "cell_type": "code",
   "execution_count": 45,
   "metadata": {
    "collapsed": false
   },
   "outputs": [
    {
     "data": {
      "text/html": [
       "<div>\n",
       "<style scoped>\n",
       "    .dataframe tbody tr th:only-of-type {\n",
       "        vertical-align: middle;\n",
       "    }\n",
       "\n",
       "    .dataframe tbody tr th {\n",
       "        vertical-align: top;\n",
       "    }\n",
       "\n",
       "    .dataframe thead th {\n",
       "        text-align: right;\n",
       "    }\n",
       "</style>\n",
       "<table border=\"1\" class=\"dataframe\">\n",
       "  <thead>\n",
       "    <tr style=\"text-align: right;\">\n",
       "      <th>status_group</th>\n",
       "      <th>functional</th>\n",
       "      <th>functional needs repair</th>\n",
       "      <th>non functional</th>\n",
       "    </tr>\n",
       "    <tr>\n",
       "      <th>basin</th>\n",
       "      <th></th>\n",
       "      <th></th>\n",
       "      <th></th>\n",
       "    </tr>\n",
       "  </thead>\n",
       "  <tbody>\n",
       "    <tr>\n",
       "      <th>Lake Nyasa</th>\n",
       "      <td>0.653687</td>\n",
       "      <td>0.049164</td>\n",
       "      <td>0.297148</td>\n",
       "    </tr>\n",
       "    <tr>\n",
       "      <th>Rufiji</th>\n",
       "      <td>0.635406</td>\n",
       "      <td>0.054789</td>\n",
       "      <td>0.309804</td>\n",
       "    </tr>\n",
       "    <tr>\n",
       "      <th>Pangani</th>\n",
       "      <td>0.600895</td>\n",
       "      <td>0.053356</td>\n",
       "      <td>0.345749</td>\n",
       "    </tr>\n",
       "    <tr>\n",
       "      <th>Internal</th>\n",
       "      <td>0.575723</td>\n",
       "      <td>0.071548</td>\n",
       "      <td>0.352730</td>\n",
       "    </tr>\n",
       "    <tr>\n",
       "      <th>Wami / Ruvu</th>\n",
       "      <td>0.523802</td>\n",
       "      <td>0.044931</td>\n",
       "      <td>0.431268</td>\n",
       "    </tr>\n",
       "    <tr>\n",
       "      <th>Lake Victoria</th>\n",
       "      <td>0.497658</td>\n",
       "      <td>0.096507</td>\n",
       "      <td>0.405835</td>\n",
       "    </tr>\n",
       "    <tr>\n",
       "      <th>Lake Tanganyika</th>\n",
       "      <td>0.483053</td>\n",
       "      <td>0.115361</td>\n",
       "      <td>0.401586</td>\n",
       "    </tr>\n",
       "    <tr>\n",
       "      <th>Lake Rukwa</th>\n",
       "      <td>0.407498</td>\n",
       "      <td>0.110024</td>\n",
       "      <td>0.482478</td>\n",
       "    </tr>\n",
       "    <tr>\n",
       "      <th>Ruvuma / Southern Coast</th>\n",
       "      <td>0.371689</td>\n",
       "      <td>0.072557</td>\n",
       "      <td>0.555753</td>\n",
       "    </tr>\n",
       "  </tbody>\n",
       "</table>\n",
       "</div>"
      ],
      "text/plain": [
       "status_group             functional  functional needs repair  non functional\n",
       "basin                                                                       \n",
       "Lake Nyasa               0.653687    0.049164                 0.297148      \n",
       "Rufiji                   0.635406    0.054789                 0.309804      \n",
       "Pangani                  0.600895    0.053356                 0.345749      \n",
       "Internal                 0.575723    0.071548                 0.352730      \n",
       "Wami / Ruvu              0.523802    0.044931                 0.431268      \n",
       "Lake Victoria            0.497658    0.096507                 0.405835      \n",
       "Lake Tanganyika          0.483053    0.115361                 0.401586      \n",
       "Lake Rukwa               0.407498    0.110024                 0.482478      \n",
       "Ruvuma / Southern Coast  0.371689    0.072557                 0.555753      "
      ]
     },
     "execution_count": 45,
     "metadata": {},
     "output_type": "execute_result"
    }
   ],
   "source": [
    "train.groupby('basin').status_group.value_counts(\n",
    "    normalize = True).unstack().sort_values('functional',ascending=False)"
   ]
  },
  {
   "cell_type": "code",
   "execution_count": 46,
   "metadata": {
    "collapsed": false
   },
   "outputs": [
    {
     "data": {
      "text/plain": [
       "<matplotlib.axes._subplots.AxesSubplot at 0x1107af2b0>"
      ]
     },
     "execution_count": 46,
     "metadata": {},
     "output_type": "execute_result"
    },
    {
     "data": {
      "image/png": "[encoded data removed]",
      "text/plain": [
       "<Figure size 1080x432 with 1 Axes>"
      ]
     },
     "metadata": {},
     "output_type": "display_data"
    }
   ],
   "source": [
    "plt.rcParams['figure.figsize']=(15,6)\n",
    "\n",
    "train.groupby('basin').status_group.value_counts(\n",
    "    normalize = True).unstack().sort_values(['functional'],ascending=False).plot(\n",
    "    kind='bar',stacked = True)"
   ]
  },
  {
   "cell_type": "code",
   "execution_count": 47,
   "metadata": {
    "collapsed": false
   },
   "outputs": [
    {
     "data": {
      "text/plain": [
       "<matplotlib.axes._subplots.AxesSubplot at 0x1107a1c50>"
      ]
     },
     "execution_count": 47,
     "metadata": {},
     "output_type": "execute_result"
    },
    {
     "data": {
      "image/png": "[encoded data removed]",
      "text/plain": [
       "<Figure size 1080x432 with 1 Axes>"
      ]
     },
     "metadata": {},
     "output_type": "display_data"
    }
   ],
   "source": [
    "#region\n",
    "train.groupby('region').status_group.value_counts(\n",
    "    normalize = True).unstack().sort_values(['functional'],ascending=False).plot(\n",
    "    kind='bar',stacked = True)"
   ]
  },
  {
   "cell_type": "code",
   "execution_count": 48,
   "metadata": {
    "collapsed": false
   },
   "outputs": [
    {
     "data": {
      "text/plain": [
       "extraction_type          18\n",
       "extraction_type_group    13\n",
       "extraction_type_class    7 \n",
       "dtype: int64"
      ]
     },
     "execution_count": 48,
     "metadata": {},
     "output_type": "execute_result"
    }
   ],
   "source": [
    "train[['extraction_type','extraction_type_group','extraction_type_class']].nunique()"
   ]
  },
  {
   "cell_type": "code",
   "execution_count": 49,
   "metadata": {
    "collapsed": false
   },
   "outputs": [
    {
     "data": {
      "text/plain": [
       "<matplotlib.axes._subplots.AxesSubplot at 0x10fff9da0>"
      ]
     },
     "execution_count": 49,
     "metadata": {},
     "output_type": "execute_result"
    },
    {
     "data": {
      "image/png": "[encoded data removed]",
      "text/plain": [
       "<Figure size 1080x432 with 1 Axes>"
      ]
     },
     "metadata": {},
     "output_type": "display_data"
    }
   ],
   "source": [
    "train.groupby('extraction_type_class').status_group.value_counts(\n",
    "    normalize = True).unstack().sort_values(['functional'],ascending=False).plot(\n",
    "    kind='bar',stacked = True)"
   ]
  },
  {
   "cell_type": "code",
   "execution_count": 50,
   "metadata": {
    "collapsed": false
   },
   "outputs": [
    {
     "data": {
      "text/plain": [
       "management          12\n",
       "management_group    5 \n",
       "dtype: int64"
      ]
     },
     "execution_count": 50,
     "metadata": {},
     "output_type": "execute_result"
    }
   ],
   "source": [
    "train[['management','management_group']].nunique()"
   ]
  },
  {
   "cell_type": "code",
   "execution_count": 51,
   "metadata": {
    "collapsed": false
   },
   "outputs": [
    {
     "data": {
      "text/plain": [
       "<matplotlib.axes._subplots.AxesSubplot at 0x110c7c748>"
      ]
     },
     "execution_count": 51,
     "metadata": {},
     "output_type": "execute_result"
    },
    {
     "data": {
      "image/png": "[encoded data removed]",
      "text/plain": [
       "<Figure size 1080x432 with 1 Axes>"
      ]
     },
     "metadata": {},
     "output_type": "display_data"
    }
   ],
   "source": [
    "#managment_group\n",
    "train.groupby('management_group').status_group.value_counts(\n",
    "    normalize = True).unstack().sort_values(['functional'],ascending=False).plot(\n",
    "    kind='bar',stacked = True)"
   ]
  },
  {
   "cell_type": "code",
   "execution_count": 52,
   "metadata": {
    "collapsed": false
   },
   "outputs": [
    {
     "data": {
      "text/plain": [
       "payment         7\n",
       "payment_type    7\n",
       "dtype: int64"
      ]
     },
     "execution_count": 52,
     "metadata": {},
     "output_type": "execute_result"
    }
   ],
   "source": [
    "train[['payment','payment_type']].nunique()"
   ]
  },
  {
   "cell_type": "code",
   "execution_count": 53,
   "metadata": {
    "collapsed": false
   },
   "outputs": [
    {
     "name": "stdout",
     "output_type": "stream",
     "text": [
      "never pay                25348\n",
      "pay per bucket           8985 \n",
      "pay monthly              8300 \n",
      "unknown                  8157 \n",
      "pay when scheme fails    3914 \n",
      "pay annually             3642 \n",
      "other                    1054 \n",
      "Name: payment, dtype: int64\n",
      "\n",
      "never pay     25348\n",
      "per bucket    8985 \n",
      "monthly       8300 \n",
      "unknown       8157 \n",
      "on failure    3914 \n",
      "annually      3642 \n",
      "other         1054 \n",
      "Name: payment_type, dtype: int64\n"
     ]
    }
   ],
   "source": [
    "print(train.payment.value_counts())\n",
    "print()\n",
    "print(train.payment_type.value_counts())"
   ]
  },
  {
   "cell_type": "code",
   "execution_count": 54,
   "metadata": {
    "collapsed": false
   },
   "outputs": [
    {
     "data": {
      "text/html": [
       "<div>\n",
       "<style scoped>\n",
       "    .dataframe tbody tr th:only-of-type {\n",
       "        vertical-align: middle;\n",
       "    }\n",
       "\n",
       "    .dataframe tbody tr th {\n",
       "        vertical-align: top;\n",
       "    }\n",
       "\n",
       "    .dataframe thead th {\n",
       "        text-align: right;\n",
       "    }\n",
       "</style>\n",
       "<table border=\"1\" class=\"dataframe\">\n",
       "  <thead>\n",
       "    <tr style=\"text-align: right;\">\n",
       "      <th></th>\n",
       "      <th>payment</th>\n",
       "      <th>payment_type</th>\n",
       "    </tr>\n",
       "  </thead>\n",
       "  <tbody>\n",
       "    <tr>\n",
       "      <th>12</th>\n",
       "      <td>other</td>\n",
       "      <td>other</td>\n",
       "    </tr>\n",
       "    <tr>\n",
       "      <th>73</th>\n",
       "      <td>other</td>\n",
       "      <td>other</td>\n",
       "    </tr>\n",
       "    <tr>\n",
       "      <th>96</th>\n",
       "      <td>other</td>\n",
       "      <td>other</td>\n",
       "    </tr>\n",
       "    <tr>\n",
       "      <th>106</th>\n",
       "      <td>other</td>\n",
       "      <td>other</td>\n",
       "    </tr>\n",
       "    <tr>\n",
       "      <th>107</th>\n",
       "      <td>other</td>\n",
       "      <td>other</td>\n",
       "    </tr>\n",
       "    <tr>\n",
       "      <th>123</th>\n",
       "      <td>other</td>\n",
       "      <td>other</td>\n",
       "    </tr>\n",
       "    <tr>\n",
       "      <th>158</th>\n",
       "      <td>other</td>\n",
       "      <td>other</td>\n",
       "    </tr>\n",
       "    <tr>\n",
       "      <th>168</th>\n",
       "      <td>other</td>\n",
       "      <td>other</td>\n",
       "    </tr>\n",
       "    <tr>\n",
       "      <th>287</th>\n",
       "      <td>other</td>\n",
       "      <td>other</td>\n",
       "    </tr>\n",
       "    <tr>\n",
       "      <th>334</th>\n",
       "      <td>other</td>\n",
       "      <td>other</td>\n",
       "    </tr>\n",
       "    <tr>\n",
       "      <th>520</th>\n",
       "      <td>other</td>\n",
       "      <td>other</td>\n",
       "    </tr>\n",
       "    <tr>\n",
       "      <th>623</th>\n",
       "      <td>other</td>\n",
       "      <td>other</td>\n",
       "    </tr>\n",
       "    <tr>\n",
       "      <th>687</th>\n",
       "      <td>other</td>\n",
       "      <td>other</td>\n",
       "    </tr>\n",
       "    <tr>\n",
       "      <th>728</th>\n",
       "      <td>other</td>\n",
       "      <td>other</td>\n",
       "    </tr>\n",
       "    <tr>\n",
       "      <th>759</th>\n",
       "      <td>other</td>\n",
       "      <td>other</td>\n",
       "    </tr>\n",
       "    <tr>\n",
       "      <th>813</th>\n",
       "      <td>other</td>\n",
       "      <td>other</td>\n",
       "    </tr>\n",
       "    <tr>\n",
       "      <th>871</th>\n",
       "      <td>other</td>\n",
       "      <td>other</td>\n",
       "    </tr>\n",
       "    <tr>\n",
       "      <th>911</th>\n",
       "      <td>other</td>\n",
       "      <td>other</td>\n",
       "    </tr>\n",
       "    <tr>\n",
       "      <th>985</th>\n",
       "      <td>other</td>\n",
       "      <td>other</td>\n",
       "    </tr>\n",
       "    <tr>\n",
       "      <th>1117</th>\n",
       "      <td>other</td>\n",
       "      <td>other</td>\n",
       "    </tr>\n",
       "    <tr>\n",
       "      <th>1353</th>\n",
       "      <td>other</td>\n",
       "      <td>other</td>\n",
       "    </tr>\n",
       "    <tr>\n",
       "      <th>1446</th>\n",
       "      <td>other</td>\n",
       "      <td>other</td>\n",
       "    </tr>\n",
       "    <tr>\n",
       "      <th>1525</th>\n",
       "      <td>other</td>\n",
       "      <td>other</td>\n",
       "    </tr>\n",
       "    <tr>\n",
       "      <th>1601</th>\n",
       "      <td>other</td>\n",
       "      <td>other</td>\n",
       "    </tr>\n",
       "    <tr>\n",
       "      <th>1661</th>\n",
       "      <td>other</td>\n",
       "      <td>other</td>\n",
       "    </tr>\n",
       "    <tr>\n",
       "      <th>1667</th>\n",
       "      <td>other</td>\n",
       "      <td>other</td>\n",
       "    </tr>\n",
       "    <tr>\n",
       "      <th>1678</th>\n",
       "      <td>other</td>\n",
       "      <td>other</td>\n",
       "    </tr>\n",
       "    <tr>\n",
       "      <th>1699</th>\n",
       "      <td>other</td>\n",
       "      <td>other</td>\n",
       "    </tr>\n",
       "    <tr>\n",
       "      <th>1849</th>\n",
       "      <td>other</td>\n",
       "      <td>other</td>\n",
       "    </tr>\n",
       "    <tr>\n",
       "      <th>1870</th>\n",
       "      <td>other</td>\n",
       "      <td>other</td>\n",
       "    </tr>\n",
       "    <tr>\n",
       "      <th>...</th>\n",
       "      <td>...</td>\n",
       "      <td>...</td>\n",
       "    </tr>\n",
       "    <tr>\n",
       "      <th>57696</th>\n",
       "      <td>other</td>\n",
       "      <td>other</td>\n",
       "    </tr>\n",
       "    <tr>\n",
       "      <th>57707</th>\n",
       "      <td>other</td>\n",
       "      <td>other</td>\n",
       "    </tr>\n",
       "    <tr>\n",
       "      <th>57750</th>\n",
       "      <td>other</td>\n",
       "      <td>other</td>\n",
       "    </tr>\n",
       "    <tr>\n",
       "      <th>57797</th>\n",
       "      <td>other</td>\n",
       "      <td>other</td>\n",
       "    </tr>\n",
       "    <tr>\n",
       "      <th>57930</th>\n",
       "      <td>other</td>\n",
       "      <td>other</td>\n",
       "    </tr>\n",
       "    <tr>\n",
       "      <th>57952</th>\n",
       "      <td>other</td>\n",
       "      <td>other</td>\n",
       "    </tr>\n",
       "    <tr>\n",
       "      <th>57986</th>\n",
       "      <td>other</td>\n",
       "      <td>other</td>\n",
       "    </tr>\n",
       "    <tr>\n",
       "      <th>58002</th>\n",
       "      <td>other</td>\n",
       "      <td>other</td>\n",
       "    </tr>\n",
       "    <tr>\n",
       "      <th>58003</th>\n",
       "      <td>other</td>\n",
       "      <td>other</td>\n",
       "    </tr>\n",
       "    <tr>\n",
       "      <th>58077</th>\n",
       "      <td>other</td>\n",
       "      <td>other</td>\n",
       "    </tr>\n",
       "    <tr>\n",
       "      <th>58125</th>\n",
       "      <td>other</td>\n",
       "      <td>other</td>\n",
       "    </tr>\n",
       "    <tr>\n",
       "      <th>58182</th>\n",
       "      <td>other</td>\n",
       "      <td>other</td>\n",
       "    </tr>\n",
       "    <tr>\n",
       "      <th>58205</th>\n",
       "      <td>other</td>\n",
       "      <td>other</td>\n",
       "    </tr>\n",
       "    <tr>\n",
       "      <th>58213</th>\n",
       "      <td>other</td>\n",
       "      <td>other</td>\n",
       "    </tr>\n",
       "    <tr>\n",
       "      <th>58220</th>\n",
       "      <td>other</td>\n",
       "      <td>other</td>\n",
       "    </tr>\n",
       "    <tr>\n",
       "      <th>58267</th>\n",
       "      <td>other</td>\n",
       "      <td>other</td>\n",
       "    </tr>\n",
       "    <tr>\n",
       "      <th>58354</th>\n",
       "      <td>other</td>\n",
       "      <td>other</td>\n",
       "    </tr>\n",
       "    <tr>\n",
       "      <th>58415</th>\n",
       "      <td>other</td>\n",
       "      <td>other</td>\n",
       "    </tr>\n",
       "    <tr>\n",
       "      <th>58447</th>\n",
       "      <td>other</td>\n",
       "      <td>other</td>\n",
       "    </tr>\n",
       "    <tr>\n",
       "      <th>58589</th>\n",
       "      <td>other</td>\n",
       "      <td>other</td>\n",
       "    </tr>\n",
       "    <tr>\n",
       "      <th>58728</th>\n",
       "      <td>other</td>\n",
       "      <td>other</td>\n",
       "    </tr>\n",
       "    <tr>\n",
       "      <th>58752</th>\n",
       "      <td>other</td>\n",
       "      <td>other</td>\n",
       "    </tr>\n",
       "    <tr>\n",
       "      <th>59011</th>\n",
       "      <td>other</td>\n",
       "      <td>other</td>\n",
       "    </tr>\n",
       "    <tr>\n",
       "      <th>59018</th>\n",
       "      <td>other</td>\n",
       "      <td>other</td>\n",
       "    </tr>\n",
       "    <tr>\n",
       "      <th>59040</th>\n",
       "      <td>other</td>\n",
       "      <td>other</td>\n",
       "    </tr>\n",
       "    <tr>\n",
       "      <th>59089</th>\n",
       "      <td>other</td>\n",
       "      <td>other</td>\n",
       "    </tr>\n",
       "    <tr>\n",
       "      <th>59189</th>\n",
       "      <td>other</td>\n",
       "      <td>other</td>\n",
       "    </tr>\n",
       "    <tr>\n",
       "      <th>59196</th>\n",
       "      <td>other</td>\n",
       "      <td>other</td>\n",
       "    </tr>\n",
       "    <tr>\n",
       "      <th>59262</th>\n",
       "      <td>other</td>\n",
       "      <td>other</td>\n",
       "    </tr>\n",
       "    <tr>\n",
       "      <th>59374</th>\n",
       "      <td>other</td>\n",
       "      <td>other</td>\n",
       "    </tr>\n",
       "  </tbody>\n",
       "</table>\n",
       "<p>1054 rows × 2 columns</p>\n",
       "</div>"
      ],
      "text/plain": [
       "      payment payment_type\n",
       "12     other   other      \n",
       "73     other   other      \n",
       "96     other   other      \n",
       "106    other   other      \n",
       "107    other   other      \n",
       "123    other   other      \n",
       "158    other   other      \n",
       "168    other   other      \n",
       "287    other   other      \n",
       "334    other   other      \n",
       "520    other   other      \n",
       "623    other   other      \n",
       "687    other   other      \n",
       "728    other   other      \n",
       "759    other   other      \n",
       "813    other   other      \n",
       "871    other   other      \n",
       "911    other   other      \n",
       "985    other   other      \n",
       "1117   other   other      \n",
       "1353   other   other      \n",
       "1446   other   other      \n",
       "1525   other   other      \n",
       "1601   other   other      \n",
       "1661   other   other      \n",
       "1667   other   other      \n",
       "1678   other   other      \n",
       "1699   other   other      \n",
       "1849   other   other      \n",
       "1870   other   other      \n",
       "...      ...     ...      \n",
       "57696  other   other      \n",
       "57707  other   other      \n",
       "57750  other   other      \n",
       "57797  other   other      \n",
       "57930  other   other      \n",
       "57952  other   other      \n",
       "57986  other   other      \n",
       "58002  other   other      \n",
       "58003  other   other      \n",
       "58077  other   other      \n",
       "58125  other   other      \n",
       "58182  other   other      \n",
       "58205  other   other      \n",
       "58213  other   other      \n",
       "58220  other   other      \n",
       "58267  other   other      \n",
       "58354  other   other      \n",
       "58415  other   other      \n",
       "58447  other   other      \n",
       "58589  other   other      \n",
       "58728  other   other      \n",
       "58752  other   other      \n",
       "59011  other   other      \n",
       "59018  other   other      \n",
       "59040  other   other      \n",
       "59089  other   other      \n",
       "59189  other   other      \n",
       "59196  other   other      \n",
       "59262  other   other      \n",
       "59374  other   other      \n",
       "\n",
       "[1054 rows x 2 columns]"
      ]
     },
     "execution_count": 54,
     "metadata": {},
     "output_type": "execute_result"
    }
   ],
   "source": [
    "#strongly suspect that payment and payment_type are exactly the same\n",
    "#and can drop one\n",
    "\n",
    "poc = train[['payment','payment_type']].copy()\n",
    "\n",
    "#never pay - confirmed\n",
    "#pay per buckect - confirmed\n",
    "#pay monthly - confirmed\n",
    "#unknown - confirmed\n",
    "#pay when scheme fails - confirmed\n",
    "#pay annually - confirmed\n",
    "#other - confirmed\n",
    "\n",
    "poc[poc['payment']=='other']\n"
   ]
  },
  {
   "cell_type": "code",
   "execution_count": 55,
   "metadata": {
    "collapsed": true
   },
   "outputs": [],
   "source": [
    "columns2drop4 = ['id','payment']"
   ]
  },
  {
   "cell_type": "code",
   "execution_count": 56,
   "metadata": {
    "collapsed": false
   },
   "outputs": [
    {
     "data": {
      "text/plain": [
       "<matplotlib.axes._subplots.AxesSubplot at 0x1121fe9e8>"
      ]
     },
     "execution_count": 56,
     "metadata": {},
     "output_type": "execute_result"
    },
    {
     "data": {
      "image/png": "[encoded data removed]",
      "text/plain": [
       "<Figure size 1080x432 with 1 Axes>"
      ]
     },
     "metadata": {},
     "output_type": "display_data"
    }
   ],
   "source": [
    "#payment_type\n",
    "train.groupby('payment_type').status_group.value_counts(\n",
    "    normalize = True).unstack().sort_values(['functional'],ascending=False).plot(\n",
    "    kind='bar',stacked = True)"
   ]
  },
  {
   "cell_type": "code",
   "execution_count": 57,
   "metadata": {
    "collapsed": false
   },
   "outputs": [
    {
     "data": {
      "text/plain": [
       "1    41861\n",
       "0    32389\n",
       "Name: unknownNeverPaymentType, dtype: int64"
      ]
     },
     "execution_count": 57,
     "metadata": {},
     "output_type": "execute_result"
    }
   ],
   "source": [
    "#unknownPaymentType\n",
    "def unknownNeverPaymentType(x):\n",
    "    if x == ('unknown') or (x == 'never pay'):\n",
    "        return(1)\n",
    "    else:\n",
    "        return(0)\n",
    "\n",
    "trainTest['unknownNeverPaymentType'] = trainTest['payment_type'].apply(unknownNeverPaymentType)\n",
    "trainTest['unknownNeverPaymentType'].value_counts()"
   ]
  },
  {
   "cell_type": "code",
   "execution_count": 58,
   "metadata": {
    "collapsed": false
   },
   "outputs": [
    {
     "data": {
      "text/plain": [
       "water_quality     8\n",
       "quantity_group    5\n",
       "dtype: int64"
      ]
     },
     "execution_count": 58,
     "metadata": {},
     "output_type": "execute_result"
    }
   ],
   "source": [
    "train[['water_quality','quantity_group']].nunique()"
   ]
  },
  {
   "cell_type": "code",
   "execution_count": 59,
   "metadata": {
    "collapsed": false
   },
   "outputs": [
    {
     "data": {
      "text/plain": [
       "<matplotlib.axes._subplots.AxesSubplot at 0x1109ce6d8>"
      ]
     },
     "execution_count": 59,
     "metadata": {},
     "output_type": "execute_result"
    },
    {
     "data": {
      "image/png": "[encoded data removed]",
      "text/plain": [
       "<Figure size 1080x432 with 1 Axes>"
      ]
     },
     "metadata": {},
     "output_type": "display_data"
    }
   ],
   "source": [
    "#quanity_group\n",
    "train.groupby('quantity_group').status_group.value_counts(\n",
    "    normalize = True).unstack().sort_values(['functional'],ascending=False).plot(\n",
    "    kind='bar',stacked = True)"
   ]
  },
  {
   "cell_type": "code",
   "execution_count": 60,
   "metadata": {
    "collapsed": false
   },
   "outputs": [
    {
     "data": {
      "text/plain": [
       "source          10\n",
       "source_type     7 \n",
       "source_class    3 \n",
       "dtype: int64"
      ]
     },
     "execution_count": 60,
     "metadata": {},
     "output_type": "execute_result"
    }
   ],
   "source": [
    "train[['source','source_type','source_class']].nunique()"
   ]
  },
  {
   "cell_type": "code",
   "execution_count": 61,
   "metadata": {
    "collapsed": false
   },
   "outputs": [
    {
     "data": {
      "text/plain": [
       "<matplotlib.axes._subplots.AxesSubplot at 0x1122e0a58>"
      ]
     },
     "execution_count": 61,
     "metadata": {},
     "output_type": "execute_result"
    },
    {
     "data": {
      "image/png": "[encoded data removed]",
      "text/plain": [
       "<Figure size 1080x432 with 1 Axes>"
      ]
     },
     "metadata": {},
     "output_type": "display_data"
    }
   ],
   "source": [
    "#source_class\n",
    "train.groupby('source_class').status_group.value_counts(\n",
    "    normalize = True).unstack().sort_values(['functional'],ascending=False).plot(\n",
    "    kind='bar',stacked = True)"
   ]
  },
  {
   "cell_type": "code",
   "execution_count": 62,
   "metadata": {
    "collapsed": false
   },
   "outputs": [
    {
     "data": {
      "text/plain": [
       "waterpoint_type          7\n",
       "waterpoint_type_group    6\n",
       "dtype: int64"
      ]
     },
     "execution_count": 62,
     "metadata": {},
     "output_type": "execute_result"
    }
   ],
   "source": [
    "train[['waterpoint_type','waterpoint_type_group']].nunique()"
   ]
  },
  {
   "cell_type": "code",
   "execution_count": 63,
   "metadata": {
    "collapsed": false
   },
   "outputs": [
    {
     "data": {
      "text/plain": [
       "<matplotlib.axes._subplots.AxesSubplot at 0x11230c160>"
      ]
     },
     "execution_count": 63,
     "metadata": {},
     "output_type": "execute_result"
    },
    {
     "data": {
      "image/png": "[encoded data removed]",
      "text/plain": [
       "<Figure size 1080x432 with 1 Axes>"
      ]
     },
     "metadata": {},
     "output_type": "display_data"
    }
   ],
   "source": [
    "#water_type_group\n",
    "train.groupby('waterpoint_type_group').status_group.value_counts(\n",
    "    normalize = True).unstack().sort_values(['functional'],ascending=False).plot(\n",
    "    kind='bar',stacked = True)"
   ]
  },
  {
   "cell_type": "code",
   "execution_count": 64,
   "metadata": {
    "collapsed": false
   },
   "outputs": [
    {
     "data": {
      "text/html": [
       "<div>\n",
       "<style scoped>\n",
       "    .dataframe tbody tr th:only-of-type {\n",
       "        vertical-align: middle;\n",
       "    }\n",
       "\n",
       "    .dataframe tbody tr th {\n",
       "        vertical-align: top;\n",
       "    }\n",
       "\n",
       "    .dataframe thead th {\n",
       "        text-align: right;\n",
       "    }\n",
       "</style>\n",
       "<table border=\"1\" class=\"dataframe\">\n",
       "  <thead>\n",
       "    <tr style=\"text-align: right;\">\n",
       "      <th></th>\n",
       "      <th>amount_tsh</th>\n",
       "      <th>basin</th>\n",
       "      <th>construction_year</th>\n",
       "      <th>dataType</th>\n",
       "      <th>date_recorded</th>\n",
       "      <th>district_code</th>\n",
       "      <th>extraction_type</th>\n",
       "      <th>extraction_type_class</th>\n",
       "      <th>extraction_type_group</th>\n",
       "      <th>funder</th>\n",
       "      <th>gps_height</th>\n",
       "      <th>id</th>\n",
       "      <th>installer</th>\n",
       "      <th>latitude</th>\n",
       "      <th>lga</th>\n",
       "      <th>longitude</th>\n",
       "      <th>management</th>\n",
       "      <th>management_group</th>\n",
       "      <th>num_private</th>\n",
       "      <th>payment</th>\n",
       "      <th>payment_type</th>\n",
       "      <th>permit</th>\n",
       "      <th>population</th>\n",
       "      <th>public_meeting</th>\n",
       "      <th>quality_group</th>\n",
       "      <th>quantity</th>\n",
       "      <th>quantity_group</th>\n",
       "      <th>recorded_by</th>\n",
       "      <th>region</th>\n",
       "      <th>region_code</th>\n",
       "      <th>scheme_management</th>\n",
       "      <th>scheme_name</th>\n",
       "      <th>source</th>\n",
       "      <th>source_class</th>\n",
       "      <th>source_type</th>\n",
       "      <th>status_group</th>\n",
       "      <th>subvillage</th>\n",
       "      <th>ward</th>\n",
       "      <th>water_quality</th>\n",
       "      <th>waterpoint_type</th>\n",
       "      <th>waterpoint_type_group</th>\n",
       "      <th>wpt_name</th>\n",
       "      <th>year</th>\n",
       "      <th>month</th>\n",
       "      <th>day</th>\n",
       "      <th>pre2011</th>\n",
       "      <th>quarterMonth</th>\n",
       "      <th>unknownNeverPaymentType</th>\n",
       "    </tr>\n",
       "  </thead>\n",
       "  <tbody>\n",
       "    <tr>\n",
       "      <th>0</th>\n",
       "      <td>6000.0</td>\n",
       "      <td>Lake Nyasa</td>\n",
       "      <td>1999</td>\n",
       "      <td>train</td>\n",
       "      <td>2011-03-14</td>\n",
       "      <td>5</td>\n",
       "      <td>gravity</td>\n",
       "      <td>gravity</td>\n",
       "      <td>gravity</td>\n",
       "      <td>Roman</td>\n",
       "      <td>1390</td>\n",
       "      <td>69572</td>\n",
       "      <td>Roman</td>\n",
       "      <td>-9.856322</td>\n",
       "      <td>Ludewa</td>\n",
       "      <td>34.938093</td>\n",
       "      <td>vwc</td>\n",
       "      <td>user-group</td>\n",
       "      <td>0</td>\n",
       "      <td>pay annually</td>\n",
       "      <td>annually</td>\n",
       "      <td>False</td>\n",
       "      <td>109</td>\n",
       "      <td>True</td>\n",
       "      <td>good</td>\n",
       "      <td>enough</td>\n",
       "      <td>enough</td>\n",
       "      <td>GeoData Consultants Ltd</td>\n",
       "      <td>Iringa</td>\n",
       "      <td>11</td>\n",
       "      <td>VWC</td>\n",
       "      <td>Roman</td>\n",
       "      <td>spring</td>\n",
       "      <td>groundwater</td>\n",
       "      <td>spring</td>\n",
       "      <td>functional</td>\n",
       "      <td>Mnyusi B</td>\n",
       "      <td>Mundindi</td>\n",
       "      <td>soft</td>\n",
       "      <td>communal standpipe</td>\n",
       "      <td>communal standpipe</td>\n",
       "      <td>none</td>\n",
       "      <td>2011</td>\n",
       "      <td>3</td>\n",
       "      <td>14</td>\n",
       "      <td>0</td>\n",
       "      <td>3</td>\n",
       "      <td>0</td>\n",
       "    </tr>\n",
       "    <tr>\n",
       "      <th>1</th>\n",
       "      <td>0.0</td>\n",
       "      <td>Lake Victoria</td>\n",
       "      <td>2010</td>\n",
       "      <td>train</td>\n",
       "      <td>2013-03-06</td>\n",
       "      <td>2</td>\n",
       "      <td>gravity</td>\n",
       "      <td>gravity</td>\n",
       "      <td>gravity</td>\n",
       "      <td>Grumeti</td>\n",
       "      <td>1399</td>\n",
       "      <td>8776</td>\n",
       "      <td>GRUMETI</td>\n",
       "      <td>-2.147466</td>\n",
       "      <td>Serengeti</td>\n",
       "      <td>34.698766</td>\n",
       "      <td>wug</td>\n",
       "      <td>user-group</td>\n",
       "      <td>0</td>\n",
       "      <td>never pay</td>\n",
       "      <td>never pay</td>\n",
       "      <td>True</td>\n",
       "      <td>280</td>\n",
       "      <td>NaN</td>\n",
       "      <td>good</td>\n",
       "      <td>insufficient</td>\n",
       "      <td>insufficient</td>\n",
       "      <td>GeoData Consultants Ltd</td>\n",
       "      <td>Mara</td>\n",
       "      <td>20</td>\n",
       "      <td>Other</td>\n",
       "      <td>NaN</td>\n",
       "      <td>rainwater harvesting</td>\n",
       "      <td>surface</td>\n",
       "      <td>rainwater harvesting</td>\n",
       "      <td>functional</td>\n",
       "      <td>Nyamara</td>\n",
       "      <td>Natta</td>\n",
       "      <td>soft</td>\n",
       "      <td>communal standpipe</td>\n",
       "      <td>communal standpipe</td>\n",
       "      <td>Zahanati</td>\n",
       "      <td>2013</td>\n",
       "      <td>3</td>\n",
       "      <td>6</td>\n",
       "      <td>0</td>\n",
       "      <td>3</td>\n",
       "      <td>1</td>\n",
       "    </tr>\n",
       "    <tr>\n",
       "      <th>2</th>\n",
       "      <td>25.0</td>\n",
       "      <td>Pangani</td>\n",
       "      <td>2009</td>\n",
       "      <td>train</td>\n",
       "      <td>2013-02-25</td>\n",
       "      <td>4</td>\n",
       "      <td>gravity</td>\n",
       "      <td>gravity</td>\n",
       "      <td>gravity</td>\n",
       "      <td>Lottery Club</td>\n",
       "      <td>686</td>\n",
       "      <td>34310</td>\n",
       "      <td>World vision</td>\n",
       "      <td>-3.821329</td>\n",
       "      <td>Simanjiro</td>\n",
       "      <td>37.460664</td>\n",
       "      <td>vwc</td>\n",
       "      <td>user-group</td>\n",
       "      <td>0</td>\n",
       "      <td>pay per bucket</td>\n",
       "      <td>per bucket</td>\n",
       "      <td>True</td>\n",
       "      <td>250</td>\n",
       "      <td>True</td>\n",
       "      <td>good</td>\n",
       "      <td>enough</td>\n",
       "      <td>enough</td>\n",
       "      <td>GeoData Consultants Ltd</td>\n",
       "      <td>Manyara</td>\n",
       "      <td>21</td>\n",
       "      <td>VWC</td>\n",
       "      <td>Nyumba ya mungu pipe scheme</td>\n",
       "      <td>dam</td>\n",
       "      <td>surface</td>\n",
       "      <td>dam</td>\n",
       "      <td>functional</td>\n",
       "      <td>Majengo</td>\n",
       "      <td>Ngorika</td>\n",
       "      <td>soft</td>\n",
       "      <td>communal standpipe multiple</td>\n",
       "      <td>communal standpipe</td>\n",
       "      <td>Kwa Mahundi</td>\n",
       "      <td>2013</td>\n",
       "      <td>2</td>\n",
       "      <td>25</td>\n",
       "      <td>0</td>\n",
       "      <td>2</td>\n",
       "      <td>0</td>\n",
       "    </tr>\n",
       "    <tr>\n",
       "      <th>3</th>\n",
       "      <td>0.0</td>\n",
       "      <td>Ruvuma / Southern Coast</td>\n",
       "      <td>1986</td>\n",
       "      <td>train</td>\n",
       "      <td>2013-01-28</td>\n",
       "      <td>63</td>\n",
       "      <td>submersible</td>\n",
       "      <td>submersible</td>\n",
       "      <td>submersible</td>\n",
       "      <td>Unicef</td>\n",
       "      <td>263</td>\n",
       "      <td>67743</td>\n",
       "      <td>UNICEF</td>\n",
       "      <td>-11.155298</td>\n",
       "      <td>Nanyumbu</td>\n",
       "      <td>38.486161</td>\n",
       "      <td>vwc</td>\n",
       "      <td>user-group</td>\n",
       "      <td>0</td>\n",
       "      <td>never pay</td>\n",
       "      <td>never pay</td>\n",
       "      <td>True</td>\n",
       "      <td>58</td>\n",
       "      <td>True</td>\n",
       "      <td>good</td>\n",
       "      <td>dry</td>\n",
       "      <td>dry</td>\n",
       "      <td>GeoData Consultants Ltd</td>\n",
       "      <td>Mtwara</td>\n",
       "      <td>90</td>\n",
       "      <td>VWC</td>\n",
       "      <td>NaN</td>\n",
       "      <td>machine dbh</td>\n",
       "      <td>groundwater</td>\n",
       "      <td>borehole</td>\n",
       "      <td>non functional</td>\n",
       "      <td>Mahakamani</td>\n",
       "      <td>Nanyumbu</td>\n",
       "      <td>soft</td>\n",
       "      <td>communal standpipe multiple</td>\n",
       "      <td>communal standpipe</td>\n",
       "      <td>Zahanati Ya Nanyumbu</td>\n",
       "      <td>2013</td>\n",
       "      <td>1</td>\n",
       "      <td>28</td>\n",
       "      <td>0</td>\n",
       "      <td>1</td>\n",
       "      <td>1</td>\n",
       "    </tr>\n",
       "    <tr>\n",
       "      <th>4</th>\n",
       "      <td>0.0</td>\n",
       "      <td>Lake Victoria</td>\n",
       "      <td>0</td>\n",
       "      <td>train</td>\n",
       "      <td>2011-07-13</td>\n",
       "      <td>1</td>\n",
       "      <td>gravity</td>\n",
       "      <td>gravity</td>\n",
       "      <td>gravity</td>\n",
       "      <td>Action In A</td>\n",
       "      <td>0</td>\n",
       "      <td>19728</td>\n",
       "      <td>Artisan</td>\n",
       "      <td>-1.825359</td>\n",
       "      <td>Karagwe</td>\n",
       "      <td>31.130847</td>\n",
       "      <td>other</td>\n",
       "      <td>other</td>\n",
       "      <td>0</td>\n",
       "      <td>never pay</td>\n",
       "      <td>never pay</td>\n",
       "      <td>True</td>\n",
       "      <td>0</td>\n",
       "      <td>True</td>\n",
       "      <td>good</td>\n",
       "      <td>seasonal</td>\n",
       "      <td>seasonal</td>\n",
       "      <td>GeoData Consultants Ltd</td>\n",
       "      <td>Kagera</td>\n",
       "      <td>18</td>\n",
       "      <td>NaN</td>\n",
       "      <td>NaN</td>\n",
       "      <td>rainwater harvesting</td>\n",
       "      <td>surface</td>\n",
       "      <td>rainwater harvesting</td>\n",
       "      <td>functional</td>\n",
       "      <td>Kyanyamisa</td>\n",
       "      <td>Nyakasimbi</td>\n",
       "      <td>soft</td>\n",
       "      <td>communal standpipe</td>\n",
       "      <td>communal standpipe</td>\n",
       "      <td>Shuleni</td>\n",
       "      <td>2011</td>\n",
       "      <td>7</td>\n",
       "      <td>13</td>\n",
       "      <td>0</td>\n",
       "      <td>1</td>\n",
       "      <td>1</td>\n",
       "    </tr>\n",
       "  </tbody>\n",
       "</table>\n",
       "</div>"
      ],
      "text/plain": [
       "   amount_tsh                    basin  construction_year dataType  \\\n",
       "0  6000.0      Lake Nyasa               1999               train     \n",
       "1  0.0         Lake Victoria            2010               train     \n",
       "2  25.0        Pangani                  2009               train     \n",
       "3  0.0         Ruvuma / Southern Coast  1986               train     \n",
       "4  0.0         Lake Victoria            0                  train     \n",
       "\n",
       "  date_recorded  district_code extraction_type extraction_type_class  \\\n",
       "0 2011-03-14     5              gravity         gravity                \n",
       "1 2013-03-06     2              gravity         gravity                \n",
       "2 2013-02-25     4              gravity         gravity                \n",
       "3 2013-01-28     63             submersible     submersible            \n",
       "4 2011-07-13     1              gravity         gravity                \n",
       "\n",
       "  extraction_type_group        funder  gps_height     id     installer  \\\n",
       "0  gravity               Roman         1390        69572  Roman          \n",
       "1  gravity               Grumeti       1399        8776   GRUMETI        \n",
       "2  gravity               Lottery Club  686         34310  World vision   \n",
       "3  submersible           Unicef        263         67743  UNICEF         \n",
       "4  gravity               Action In A   0           19728  Artisan        \n",
       "\n",
       "    latitude        lga  longitude management management_group  num_private  \\\n",
       "0 -9.856322   Ludewa     34.938093  vwc        user-group       0             \n",
       "1 -2.147466   Serengeti  34.698766  wug        user-group       0             \n",
       "2 -3.821329   Simanjiro  37.460664  vwc        user-group       0             \n",
       "3 -11.155298  Nanyumbu   38.486161  vwc        user-group       0             \n",
       "4 -1.825359   Karagwe    31.130847  other      other            0             \n",
       "\n",
       "          payment payment_type permit  population public_meeting  \\\n",
       "0  pay annually    annually     False  109         True            \n",
       "1  never pay       never pay    True   280         NaN             \n",
       "2  pay per bucket  per bucket   True   250         True            \n",
       "3  never pay       never pay    True   58          True            \n",
       "4  never pay       never pay    True   0           True            \n",
       "\n",
       "  quality_group      quantity quantity_group              recorded_by  \\\n",
       "0  good          enough        enough         GeoData Consultants Ltd   \n",
       "1  good          insufficient  insufficient   GeoData Consultants Ltd   \n",
       "2  good          enough        enough         GeoData Consultants Ltd   \n",
       "3  good          dry           dry            GeoData Consultants Ltd   \n",
       "4  good          seasonal      seasonal       GeoData Consultants Ltd   \n",
       "\n",
       "    region  region_code scheme_management                  scheme_name  \\\n",
       "0  Iringa   11           VWC               Roman                         \n",
       "1  Mara     20           Other             NaN                           \n",
       "2  Manyara  21           VWC               Nyumba ya mungu pipe scheme   \n",
       "3  Mtwara   90           VWC               NaN                           \n",
       "4  Kagera   18           NaN               NaN                           \n",
       "\n",
       "                 source source_class           source_type    status_group  \\\n",
       "0  spring                groundwater  spring                functional       \n",
       "1  rainwater harvesting  surface      rainwater harvesting  functional       \n",
       "2  dam                   surface      dam                   functional       \n",
       "3  machine dbh           groundwater  borehole              non functional   \n",
       "4  rainwater harvesting  surface      rainwater harvesting  functional       \n",
       "\n",
       "   subvillage        ward water_quality              waterpoint_type  \\\n",
       "0  Mnyusi B    Mundindi    soft          communal standpipe            \n",
       "1  Nyamara     Natta       soft          communal standpipe            \n",
       "2  Majengo     Ngorika     soft          communal standpipe multiple   \n",
       "3  Mahakamani  Nanyumbu    soft          communal standpipe multiple   \n",
       "4  Kyanyamisa  Nyakasimbi  soft          communal standpipe            \n",
       "\n",
       "  waterpoint_type_group              wpt_name  year  month  day  pre2011  \\\n",
       "0  communal standpipe    none                  2011  3      14   0         \n",
       "1  communal standpipe    Zahanati              2013  3      6    0         \n",
       "2  communal standpipe    Kwa Mahundi           2013  2      25   0         \n",
       "3  communal standpipe    Zahanati Ya Nanyumbu  2013  1      28   0         \n",
       "4  communal standpipe    Shuleni               2011  7      13   0         \n",
       "\n",
       "   quarterMonth  unknownNeverPaymentType  \n",
       "0  3             0                        \n",
       "1  3             1                        \n",
       "2  2             0                        \n",
       "3  1             1                        \n",
       "4  1             1                        "
      ]
     },
     "execution_count": 64,
     "metadata": {},
     "output_type": "execute_result"
    }
   ],
   "source": [
    "trainTest.head()"
   ]
  },
  {
   "cell_type": "code",
   "execution_count": 65,
   "metadata": {
    "collapsed": false
   },
   "outputs": [
    {
     "name": "stdout",
     "output_type": "stream",
     "text": [
      "Index(['funder', 'installer', 'public_meeting', 'scheme_management',\n",
      "       'scheme_name', 'permit'],\n",
      "      dtype='object')\n",
      "['wpt_name', 'subvillage', 'lga', 'ward', 'recorded_by', 'id']\n",
      "['amount_tsh', 'gps_height']\n",
      "['id', 'payment']\n"
     ]
    }
   ],
   "source": [
    "print(columns2Drop)\n",
    "print(columns2drop2)\n",
    "print(columns2drop3)\n",
    "print(columns2drop4)"
   ]
  },
  {
   "cell_type": "code",
   "execution_count": 66,
   "metadata": {
    "collapsed": true
   },
   "outputs": [],
   "source": [
    "columns2drop = list(columns2Drop)"
   ]
  },
  {
   "cell_type": "code",
   "execution_count": 67,
   "metadata": {
    "collapsed": true
   },
   "outputs": [],
   "source": [
    "###NEED TO DROP PRIVATE NUMBER EARLIER!!\n",
    "\n",
    "columns2dropMaster = (columns2drop + columns2drop2 + columns2drop3 + columns2drop4)"
   ]
  },
  {
   "cell_type": "code",
   "execution_count": 68,
   "metadata": {
    "collapsed": false
   },
   "outputs": [
    {
     "data": {
      "text/plain": [
       "['funder',\n",
       " 'installer',\n",
       " 'public_meeting',\n",
       " 'scheme_management',\n",
       " 'scheme_name',\n",
       " 'permit',\n",
       " 'wpt_name',\n",
       " 'subvillage',\n",
       " 'lga',\n",
       " 'ward',\n",
       " 'recorded_by',\n",
       " 'id',\n",
       " 'amount_tsh',\n",
       " 'gps_height',\n",
       " 'id',\n",
       " 'payment']"
      ]
     },
     "execution_count": 68,
     "metadata": {},
     "output_type": "execute_result"
    }
   ],
   "source": [
    "columns2dropMaster"
   ]
  },
  {
   "cell_type": "code",
   "execution_count": 69,
   "metadata": {
    "collapsed": true
   },
   "outputs": [],
   "source": [
    "trainTest.drop(labels = columns2dropMaster, inplace=True, axis =1)"
   ]
  },
  {
   "cell_type": "code",
   "execution_count": 70,
   "metadata": {
    "collapsed": true
   },
   "outputs": [],
   "source": [
    "#do I need to get rid of construction year?  \n",
    "trainTest.construction_year.value_counts()\n",
    "\n",
    "#also is district code are region code are categorical variables, even though they are numbers?\n",
    "trainTest.drop(labels = ['construction_year','district_code','region_code'], inplace=True, axis =1)"
   ]
  },
  {
   "cell_type": "code",
   "execution_count": 71,
   "metadata": {
    "collapsed": false
   },
   "outputs": [
    {
     "data": {
      "text/html": [
       "<div>\n",
       "<style scoped>\n",
       "    .dataframe tbody tr th:only-of-type {\n",
       "        vertical-align: middle;\n",
       "    }\n",
       "\n",
       "    .dataframe tbody tr th {\n",
       "        vertical-align: top;\n",
       "    }\n",
       "\n",
       "    .dataframe thead th {\n",
       "        text-align: right;\n",
       "    }\n",
       "</style>\n",
       "<table border=\"1\" class=\"dataframe\">\n",
       "  <thead>\n",
       "    <tr style=\"text-align: right;\">\n",
       "      <th></th>\n",
       "      <th>basin</th>\n",
       "      <th>dataType</th>\n",
       "      <th>date_recorded</th>\n",
       "      <th>extraction_type</th>\n",
       "      <th>extraction_type_class</th>\n",
       "      <th>extraction_type_group</th>\n",
       "      <th>latitude</th>\n",
       "      <th>longitude</th>\n",
       "      <th>management</th>\n",
       "      <th>management_group</th>\n",
       "      <th>num_private</th>\n",
       "      <th>payment_type</th>\n",
       "      <th>population</th>\n",
       "      <th>quality_group</th>\n",
       "      <th>quantity</th>\n",
       "      <th>quantity_group</th>\n",
       "      <th>region</th>\n",
       "      <th>source</th>\n",
       "      <th>source_class</th>\n",
       "      <th>source_type</th>\n",
       "      <th>status_group</th>\n",
       "      <th>water_quality</th>\n",
       "      <th>waterpoint_type</th>\n",
       "      <th>waterpoint_type_group</th>\n",
       "      <th>year</th>\n",
       "      <th>month</th>\n",
       "      <th>day</th>\n",
       "      <th>pre2011</th>\n",
       "      <th>quarterMonth</th>\n",
       "      <th>unknownNeverPaymentType</th>\n",
       "    </tr>\n",
       "  </thead>\n",
       "  <tbody>\n",
       "    <tr>\n",
       "      <th>14845</th>\n",
       "      <td>Wami / Ruvu</td>\n",
       "      <td>test</td>\n",
       "      <td>2011-02-24</td>\n",
       "      <td>mono</td>\n",
       "      <td>motorpump</td>\n",
       "      <td>mono</td>\n",
       "      <td>-6.582841</td>\n",
       "      <td>38.852669</td>\n",
       "      <td>vwc</td>\n",
       "      <td>user-group</td>\n",
       "      <td>0</td>\n",
       "      <td>never pay</td>\n",
       "      <td>20</td>\n",
       "      <td>good</td>\n",
       "      <td>enough</td>\n",
       "      <td>enough</td>\n",
       "      <td>Pwani</td>\n",
       "      <td>river</td>\n",
       "      <td>surface</td>\n",
       "      <td>river/lake</td>\n",
       "      <td>NaN</td>\n",
       "      <td>soft</td>\n",
       "      <td>communal standpipe</td>\n",
       "      <td>communal standpipe</td>\n",
       "      <td>2011</td>\n",
       "      <td>2</td>\n",
       "      <td>24</td>\n",
       "      <td>0</td>\n",
       "      <td>2</td>\n",
       "      <td>1</td>\n",
       "    </tr>\n",
       "    <tr>\n",
       "      <th>14846</th>\n",
       "      <td>Pangani</td>\n",
       "      <td>test</td>\n",
       "      <td>2011-03-21</td>\n",
       "      <td>nira/tanira</td>\n",
       "      <td>handpump</td>\n",
       "      <td>nira/tanira</td>\n",
       "      <td>-5.350428</td>\n",
       "      <td>37.451633</td>\n",
       "      <td>vwc</td>\n",
       "      <td>user-group</td>\n",
       "      <td>0</td>\n",
       "      <td>annually</td>\n",
       "      <td>2960</td>\n",
       "      <td>salty</td>\n",
       "      <td>insufficient</td>\n",
       "      <td>insufficient</td>\n",
       "      <td>Tanga</td>\n",
       "      <td>shallow well</td>\n",
       "      <td>groundwater</td>\n",
       "      <td>shallow well</td>\n",
       "      <td>NaN</td>\n",
       "      <td>salty</td>\n",
       "      <td>hand pump</td>\n",
       "      <td>hand pump</td>\n",
       "      <td>2011</td>\n",
       "      <td>3</td>\n",
       "      <td>21</td>\n",
       "      <td>0</td>\n",
       "      <td>3</td>\n",
       "      <td>0</td>\n",
       "    </tr>\n",
       "    <tr>\n",
       "      <th>14847</th>\n",
       "      <td>Internal</td>\n",
       "      <td>test</td>\n",
       "      <td>2013-03-04</td>\n",
       "      <td>gravity</td>\n",
       "      <td>gravity</td>\n",
       "      <td>gravity</td>\n",
       "      <td>-4.585587</td>\n",
       "      <td>34.739804</td>\n",
       "      <td>vwc</td>\n",
       "      <td>user-group</td>\n",
       "      <td>0</td>\n",
       "      <td>never pay</td>\n",
       "      <td>200</td>\n",
       "      <td>good</td>\n",
       "      <td>insufficient</td>\n",
       "      <td>insufficient</td>\n",
       "      <td>Singida</td>\n",
       "      <td>dam</td>\n",
       "      <td>surface</td>\n",
       "      <td>dam</td>\n",
       "      <td>NaN</td>\n",
       "      <td>soft</td>\n",
       "      <td>communal standpipe</td>\n",
       "      <td>communal standpipe</td>\n",
       "      <td>2013</td>\n",
       "      <td>3</td>\n",
       "      <td>4</td>\n",
       "      <td>0</td>\n",
       "      <td>3</td>\n",
       "      <td>1</td>\n",
       "    </tr>\n",
       "    <tr>\n",
       "      <th>14848</th>\n",
       "      <td>Lake Nyasa</td>\n",
       "      <td>test</td>\n",
       "      <td>2013-02-18</td>\n",
       "      <td>gravity</td>\n",
       "      <td>gravity</td>\n",
       "      <td>gravity</td>\n",
       "      <td>-10.584159</td>\n",
       "      <td>35.432732</td>\n",
       "      <td>vwc</td>\n",
       "      <td>user-group</td>\n",
       "      <td>0</td>\n",
       "      <td>never pay</td>\n",
       "      <td>150</td>\n",
       "      <td>good</td>\n",
       "      <td>insufficient</td>\n",
       "      <td>insufficient</td>\n",
       "      <td>Ruvuma</td>\n",
       "      <td>river</td>\n",
       "      <td>surface</td>\n",
       "      <td>river/lake</td>\n",
       "      <td>NaN</td>\n",
       "      <td>soft</td>\n",
       "      <td>communal standpipe</td>\n",
       "      <td>communal standpipe</td>\n",
       "      <td>2013</td>\n",
       "      <td>2</td>\n",
       "      <td>18</td>\n",
       "      <td>0</td>\n",
       "      <td>2</td>\n",
       "      <td>1</td>\n",
       "    </tr>\n",
       "    <tr>\n",
       "      <th>14849</th>\n",
       "      <td>Lake Nyasa</td>\n",
       "      <td>test</td>\n",
       "      <td>2013-02-13</td>\n",
       "      <td>gravity</td>\n",
       "      <td>gravity</td>\n",
       "      <td>gravity</td>\n",
       "      <td>-11.226012</td>\n",
       "      <td>34.765054</td>\n",
       "      <td>vwc</td>\n",
       "      <td>user-group</td>\n",
       "      <td>0</td>\n",
       "      <td>never pay</td>\n",
       "      <td>40</td>\n",
       "      <td>good</td>\n",
       "      <td>dry</td>\n",
       "      <td>dry</td>\n",
       "      <td>Ruvuma</td>\n",
       "      <td>spring</td>\n",
       "      <td>groundwater</td>\n",
       "      <td>spring</td>\n",
       "      <td>NaN</td>\n",
       "      <td>soft</td>\n",
       "      <td>communal standpipe</td>\n",
       "      <td>communal standpipe</td>\n",
       "      <td>2013</td>\n",
       "      <td>2</td>\n",
       "      <td>13</td>\n",
       "      <td>0</td>\n",
       "      <td>2</td>\n",
       "      <td>1</td>\n",
       "    </tr>\n",
       "  </tbody>\n",
       "</table>\n",
       "</div>"
      ],
      "text/plain": [
       "             basin dataType date_recorded extraction_type  \\\n",
       "14845  Wami / Ruvu  test    2011-02-24     mono             \n",
       "14846  Pangani      test    2011-03-21     nira/tanira      \n",
       "14847  Internal     test    2013-03-04     gravity          \n",
       "14848  Lake Nyasa   test    2013-02-18     gravity          \n",
       "14849  Lake Nyasa   test    2013-02-13     gravity          \n",
       "\n",
       "      extraction_type_class extraction_type_group   latitude  longitude  \\\n",
       "14845  motorpump             mono                 -6.582841   38.852669   \n",
       "14846  handpump              nira/tanira          -5.350428   37.451633   \n",
       "14847  gravity               gravity              -4.585587   34.739804   \n",
       "14848  gravity               gravity              -10.584159  35.432732   \n",
       "14849  gravity               gravity              -11.226012  34.765054   \n",
       "\n",
       "      management management_group  num_private payment_type  population  \\\n",
       "14845  vwc        user-group       0            never pay    20           \n",
       "14846  vwc        user-group       0            annually     2960         \n",
       "14847  vwc        user-group       0            never pay    200          \n",
       "14848  vwc        user-group       0            never pay    150          \n",
       "14849  vwc        user-group       0            never pay    40           \n",
       "\n",
       "      quality_group      quantity quantity_group   region        source  \\\n",
       "14845  good          enough        enough         Pwani    river          \n",
       "14846  salty         insufficient  insufficient   Tanga    shallow well   \n",
       "14847  good          insufficient  insufficient   Singida  dam            \n",
       "14848  good          insufficient  insufficient   Ruvuma   river          \n",
       "14849  good          dry           dry            Ruvuma   spring         \n",
       "\n",
       "      source_class   source_type status_group water_quality  \\\n",
       "14845  surface      river/lake    NaN          soft           \n",
       "14846  groundwater  shallow well  NaN          salty          \n",
       "14847  surface      dam           NaN          soft           \n",
       "14848  surface      river/lake    NaN          soft           \n",
       "14849  groundwater  spring        NaN          soft           \n",
       "\n",
       "          waterpoint_type waterpoint_type_group  year  month  day  pre2011  \\\n",
       "14845  communal standpipe  communal standpipe    2011  2      24   0         \n",
       "14846  hand pump           hand pump             2011  3      21   0         \n",
       "14847  communal standpipe  communal standpipe    2013  3      4    0         \n",
       "14848  communal standpipe  communal standpipe    2013  2      18   0         \n",
       "14849  communal standpipe  communal standpipe    2013  2      13   0         \n",
       "\n",
       "       quarterMonth  unknownNeverPaymentType  \n",
       "14845  2             1                        \n",
       "14846  3             0                        \n",
       "14847  3             1                        \n",
       "14848  2             1                        \n",
       "14849  2             1                        "
      ]
     },
     "execution_count": 71,
     "metadata": {},
     "output_type": "execute_result"
    }
   ],
   "source": [
    "trainTest.tail()"
   ]
  },
  {
   "cell_type": "code",
   "execution_count": 72,
   "metadata": {
    "collapsed": false
   },
   "outputs": [
    {
     "data": {
      "text/html": [
       "<div>\n",
       "<style scoped>\n",
       "    .dataframe tbody tr th:only-of-type {\n",
       "        vertical-align: middle;\n",
       "    }\n",
       "\n",
       "    .dataframe tbody tr th {\n",
       "        vertical-align: top;\n",
       "    }\n",
       "\n",
       "    .dataframe thead th {\n",
       "        text-align: right;\n",
       "    }\n",
       "</style>\n",
       "<table border=\"1\" class=\"dataframe\">\n",
       "  <thead>\n",
       "    <tr style=\"text-align: right;\">\n",
       "      <th></th>\n",
       "      <th>basin</th>\n",
       "      <th>dataType</th>\n",
       "      <th>date_recorded</th>\n",
       "      <th>extraction_type</th>\n",
       "      <th>extraction_type_class</th>\n",
       "      <th>extraction_type_group</th>\n",
       "      <th>latitude</th>\n",
       "      <th>longitude</th>\n",
       "      <th>management</th>\n",
       "      <th>management_group</th>\n",
       "      <th>num_private</th>\n",
       "      <th>payment_type</th>\n",
       "      <th>population</th>\n",
       "      <th>quality_group</th>\n",
       "      <th>quantity</th>\n",
       "      <th>quantity_group</th>\n",
       "      <th>region</th>\n",
       "      <th>source</th>\n",
       "      <th>source_class</th>\n",
       "      <th>source_type</th>\n",
       "      <th>status_group</th>\n",
       "      <th>water_quality</th>\n",
       "      <th>waterpoint_type</th>\n",
       "      <th>waterpoint_type_group</th>\n",
       "      <th>year</th>\n",
       "      <th>month</th>\n",
       "      <th>day</th>\n",
       "      <th>pre2011</th>\n",
       "      <th>quarterMonth</th>\n",
       "      <th>unknownNeverPaymentType</th>\n",
       "    </tr>\n",
       "  </thead>\n",
       "  <tbody>\n",
       "    <tr>\n",
       "      <th>0</th>\n",
       "      <td>Lake Nyasa</td>\n",
       "      <td>train</td>\n",
       "      <td>2011-03-14</td>\n",
       "      <td>gravity</td>\n",
       "      <td>gravity</td>\n",
       "      <td>gravity</td>\n",
       "      <td>-9.856322</td>\n",
       "      <td>34.938093</td>\n",
       "      <td>vwc</td>\n",
       "      <td>user-group</td>\n",
       "      <td>0</td>\n",
       "      <td>annually</td>\n",
       "      <td>109</td>\n",
       "      <td>good</td>\n",
       "      <td>enough</td>\n",
       "      <td>enough</td>\n",
       "      <td>Iringa</td>\n",
       "      <td>spring</td>\n",
       "      <td>groundwater</td>\n",
       "      <td>spring</td>\n",
       "      <td>functional</td>\n",
       "      <td>soft</td>\n",
       "      <td>communal standpipe</td>\n",
       "      <td>communal standpipe</td>\n",
       "      <td>2011</td>\n",
       "      <td>3</td>\n",
       "      <td>14</td>\n",
       "      <td>0</td>\n",
       "      <td>3</td>\n",
       "      <td>0</td>\n",
       "    </tr>\n",
       "    <tr>\n",
       "      <th>1</th>\n",
       "      <td>Lake Victoria</td>\n",
       "      <td>train</td>\n",
       "      <td>2013-03-06</td>\n",
       "      <td>gravity</td>\n",
       "      <td>gravity</td>\n",
       "      <td>gravity</td>\n",
       "      <td>-2.147466</td>\n",
       "      <td>34.698766</td>\n",
       "      <td>wug</td>\n",
       "      <td>user-group</td>\n",
       "      <td>0</td>\n",
       "      <td>never pay</td>\n",
       "      <td>280</td>\n",
       "      <td>good</td>\n",
       "      <td>insufficient</td>\n",
       "      <td>insufficient</td>\n",
       "      <td>Mara</td>\n",
       "      <td>rainwater harvesting</td>\n",
       "      <td>surface</td>\n",
       "      <td>rainwater harvesting</td>\n",
       "      <td>functional</td>\n",
       "      <td>soft</td>\n",
       "      <td>communal standpipe</td>\n",
       "      <td>communal standpipe</td>\n",
       "      <td>2013</td>\n",
       "      <td>3</td>\n",
       "      <td>6</td>\n",
       "      <td>0</td>\n",
       "      <td>3</td>\n",
       "      <td>1</td>\n",
       "    </tr>\n",
       "    <tr>\n",
       "      <th>2</th>\n",
       "      <td>Pangani</td>\n",
       "      <td>train</td>\n",
       "      <td>2013-02-25</td>\n",
       "      <td>gravity</td>\n",
       "      <td>gravity</td>\n",
       "      <td>gravity</td>\n",
       "      <td>-3.821329</td>\n",
       "      <td>37.460664</td>\n",
       "      <td>vwc</td>\n",
       "      <td>user-group</td>\n",
       "      <td>0</td>\n",
       "      <td>per bucket</td>\n",
       "      <td>250</td>\n",
       "      <td>good</td>\n",
       "      <td>enough</td>\n",
       "      <td>enough</td>\n",
       "      <td>Manyara</td>\n",
       "      <td>dam</td>\n",
       "      <td>surface</td>\n",
       "      <td>dam</td>\n",
       "      <td>functional</td>\n",
       "      <td>soft</td>\n",
       "      <td>communal standpipe multiple</td>\n",
       "      <td>communal standpipe</td>\n",
       "      <td>2013</td>\n",
       "      <td>2</td>\n",
       "      <td>25</td>\n",
       "      <td>0</td>\n",
       "      <td>2</td>\n",
       "      <td>0</td>\n",
       "    </tr>\n",
       "    <tr>\n",
       "      <th>3</th>\n",
       "      <td>Ruvuma / Southern Coast</td>\n",
       "      <td>train</td>\n",
       "      <td>2013-01-28</td>\n",
       "      <td>submersible</td>\n",
       "      <td>submersible</td>\n",
       "      <td>submersible</td>\n",
       "      <td>-11.155298</td>\n",
       "      <td>38.486161</td>\n",
       "      <td>vwc</td>\n",
       "      <td>user-group</td>\n",
       "      <td>0</td>\n",
       "      <td>never pay</td>\n",
       "      <td>58</td>\n",
       "      <td>good</td>\n",
       "      <td>dry</td>\n",
       "      <td>dry</td>\n",
       "      <td>Mtwara</td>\n",
       "      <td>machine dbh</td>\n",
       "      <td>groundwater</td>\n",
       "      <td>borehole</td>\n",
       "      <td>non functional</td>\n",
       "      <td>soft</td>\n",
       "      <td>communal standpipe multiple</td>\n",
       "      <td>communal standpipe</td>\n",
       "      <td>2013</td>\n",
       "      <td>1</td>\n",
       "      <td>28</td>\n",
       "      <td>0</td>\n",
       "      <td>1</td>\n",
       "      <td>1</td>\n",
       "    </tr>\n",
       "    <tr>\n",
       "      <th>4</th>\n",
       "      <td>Lake Victoria</td>\n",
       "      <td>train</td>\n",
       "      <td>2011-07-13</td>\n",
       "      <td>gravity</td>\n",
       "      <td>gravity</td>\n",
       "      <td>gravity</td>\n",
       "      <td>-1.825359</td>\n",
       "      <td>31.130847</td>\n",
       "      <td>other</td>\n",
       "      <td>other</td>\n",
       "      <td>0</td>\n",
       "      <td>never pay</td>\n",
       "      <td>0</td>\n",
       "      <td>good</td>\n",
       "      <td>seasonal</td>\n",
       "      <td>seasonal</td>\n",
       "      <td>Kagera</td>\n",
       "      <td>rainwater harvesting</td>\n",
       "      <td>surface</td>\n",
       "      <td>rainwater harvesting</td>\n",
       "      <td>functional</td>\n",
       "      <td>soft</td>\n",
       "      <td>communal standpipe</td>\n",
       "      <td>communal standpipe</td>\n",
       "      <td>2011</td>\n",
       "      <td>7</td>\n",
       "      <td>13</td>\n",
       "      <td>0</td>\n",
       "      <td>1</td>\n",
       "      <td>1</td>\n",
       "    </tr>\n",
       "  </tbody>\n",
       "</table>\n",
       "</div>"
      ],
      "text/plain": [
       "                     basin dataType date_recorded extraction_type  \\\n",
       "0  Lake Nyasa               train   2011-03-14     gravity          \n",
       "1  Lake Victoria            train   2013-03-06     gravity          \n",
       "2  Pangani                  train   2013-02-25     gravity          \n",
       "3  Ruvuma / Southern Coast  train   2013-01-28     submersible      \n",
       "4  Lake Victoria            train   2011-07-13     gravity          \n",
       "\n",
       "  extraction_type_class extraction_type_group   latitude  longitude  \\\n",
       "0  gravity               gravity              -9.856322   34.938093   \n",
       "1  gravity               gravity              -2.147466   34.698766   \n",
       "2  gravity               gravity              -3.821329   37.460664   \n",
       "3  submersible           submersible          -11.155298  38.486161   \n",
       "4  gravity               gravity              -1.825359   31.130847   \n",
       "\n",
       "  management management_group  num_private payment_type  population  \\\n",
       "0  vwc        user-group       0            annually     109          \n",
       "1  wug        user-group       0            never pay    280          \n",
       "2  vwc        user-group       0            per bucket   250          \n",
       "3  vwc        user-group       0            never pay    58           \n",
       "4  other      other            0            never pay    0            \n",
       "\n",
       "  quality_group      quantity quantity_group   region                source  \\\n",
       "0  good          enough        enough         Iringa   spring                 \n",
       "1  good          insufficient  insufficient   Mara     rainwater harvesting   \n",
       "2  good          enough        enough         Manyara  dam                    \n",
       "3  good          dry           dry            Mtwara   machine dbh            \n",
       "4  good          seasonal      seasonal       Kagera   rainwater harvesting   \n",
       "\n",
       "  source_class           source_type    status_group water_quality  \\\n",
       "0  groundwater  spring                functional      soft           \n",
       "1  surface      rainwater harvesting  functional      soft           \n",
       "2  surface      dam                   functional      soft           \n",
       "3  groundwater  borehole              non functional  soft           \n",
       "4  surface      rainwater harvesting  functional      soft           \n",
       "\n",
       "               waterpoint_type waterpoint_type_group  year  month  day  \\\n",
       "0  communal standpipe           communal standpipe    2011  3      14    \n",
       "1  communal standpipe           communal standpipe    2013  3      6     \n",
       "2  communal standpipe multiple  communal standpipe    2013  2      25    \n",
       "3  communal standpipe multiple  communal standpipe    2013  1      28    \n",
       "4  communal standpipe           communal standpipe    2011  7      13    \n",
       "\n",
       "   pre2011  quarterMonth  unknownNeverPaymentType  \n",
       "0  0        3             0                        \n",
       "1  0        3             1                        \n",
       "2  0        2             0                        \n",
       "3  0        1             1                        \n",
       "4  0        1             1                        "
      ]
     },
     "execution_count": 72,
     "metadata": {},
     "output_type": "execute_result"
    }
   ],
   "source": [
    "trainTest.head()"
   ]
  },
  {
   "cell_type": "code",
   "execution_count": 73,
   "metadata": {
    "collapsed": true
   },
   "outputs": [],
   "source": [
    "#machine learning imports\n",
    "#standard sklearn imports\n",
    "from sklearn.model_selection import train_test_split\n",
    "from sklearn import preprocessing\n",
    "\n",
    "#sklearn algorithms\n",
    "from sklearn import tree\n",
    "from sklearn.ensemble import RandomForestClassifier\n",
    "from sklearn.ensemble import GradientBoostingClassifier"
   ]
  },
  {
   "cell_type": "code",
   "execution_count": 74,
   "metadata": {
    "collapsed": true
   },
   "outputs": [],
   "source": [
    "#load label encoder\n",
    "le = preprocessing.LabelEncoder()"
   ]
  },
  {
   "cell_type": "code",
   "execution_count": null,
   "metadata": {
    "collapsed": true
   },
   "outputs": [],
   "source": [
    "#NEED TO MAKE SURE KNOW WHERE THE DATA IS BEING USED!"
   ]
  },
  {
   "cell_type": "code",
   "execution_count": 76,
   "metadata": {
    "collapsed": false
   },
   "outputs": [],
   "source": [
    "testids = test['id']\n",
    "train = trainTest[trainTest['dataType'] == 'train'].copy()\n",
    "test = trainTest[trainTest['dataType'] == 'test'].copy()"
   ]
  },
  {
   "cell_type": "code",
   "execution_count": 81,
   "metadata": {
    "collapsed": false
   },
   "outputs": [],
   "source": [
    "train['status_group'] = le.fit_transform(train['status_group'])"
   ]
  },
  {
   "cell_type": "code",
   "execution_count": 85,
   "metadata": {
    "collapsed": true
   },
   "outputs": [],
   "source": [
    "#drop NUM PRIVATE\n",
    "train.drop(labels = ['num_private'], inplace=True, axis =1)\n",
    "test.drop(labels = ['num_private'], inplace=True, axis =1)"
   ]
  },
  {
   "cell_type": "code",
   "execution_count": 89,
   "metadata": {
    "collapsed": true
   },
   "outputs": [],
   "source": [
    "train.drop(labels = ['dataType'], inplace=True, axis =1)\n",
    "test.drop(labels = ['dataType'], inplace=True, axis =1)"
   ]
  },
  {
   "cell_type": "code",
   "execution_count": 91,
   "metadata": {
    "collapsed": false
   },
   "outputs": [],
   "source": [
    "#change categorical variables into dummy variables\n",
    "trainTest = pd.get_dummies(trainTest)\n",
    "#df = pd.get_dummies(df)"
   ]
  },
  {
   "cell_type": "code",
   "execution_count": 92,
   "metadata": {
    "collapsed": false
   },
   "outputs": [
    {
     "data": {
      "text/plain": [
       "(74250, 165)"
      ]
     },
     "execution_count": 92,
     "metadata": {},
     "output_type": "execute_result"
    }
   ],
   "source": [
    "#previous shape\n",
    "#(59400, 42)\n",
    "\n",
    "#new shape\n",
    "trainTest.shape"
   ]
  },
  {
   "cell_type": "code",
   "execution_count": 93,
   "metadata": {
    "collapsed": false
   },
   "outputs": [
    {
     "data": {
      "text/html": [
       "<div>\n",
       "<style scoped>\n",
       "    .dataframe tbody tr th:only-of-type {\n",
       "        vertical-align: middle;\n",
       "    }\n",
       "\n",
       "    .dataframe tbody tr th {\n",
       "        vertical-align: top;\n",
       "    }\n",
       "\n",
       "    .dataframe thead th {\n",
       "        text-align: right;\n",
       "    }\n",
       "</style>\n",
       "<table border=\"1\" class=\"dataframe\">\n",
       "  <thead>\n",
       "    <tr style=\"text-align: right;\">\n",
       "      <th></th>\n",
       "      <th>date_recorded</th>\n",
       "      <th>latitude</th>\n",
       "      <th>longitude</th>\n",
       "      <th>num_private</th>\n",
       "      <th>population</th>\n",
       "      <th>year</th>\n",
       "      <th>month</th>\n",
       "      <th>day</th>\n",
       "      <th>pre2011</th>\n",
       "      <th>quarterMonth</th>\n",
       "      <th>unknownNeverPaymentType</th>\n",
       "      <th>basin_Internal</th>\n",
       "      <th>basin_Lake Nyasa</th>\n",
       "      <th>basin_Lake Rukwa</th>\n",
       "      <th>basin_Lake Tanganyika</th>\n",
       "      <th>basin_Lake Victoria</th>\n",
       "      <th>basin_Pangani</th>\n",
       "      <th>basin_Rufiji</th>\n",
       "      <th>basin_Ruvuma / Southern Coast</th>\n",
       "      <th>basin_Wami / Ruvu</th>\n",
       "      <th>dataType_test</th>\n",
       "      <th>dataType_train</th>\n",
       "      <th>extraction_type_afridev</th>\n",
       "      <th>extraction_type_cemo</th>\n",
       "      <th>extraction_type_climax</th>\n",
       "      <th>extraction_type_gravity</th>\n",
       "      <th>extraction_type_india mark ii</th>\n",
       "      <th>extraction_type_india mark iii</th>\n",
       "      <th>extraction_type_ksb</th>\n",
       "      <th>extraction_type_mono</th>\n",
       "      <th>extraction_type_nira/tanira</th>\n",
       "      <th>extraction_type_other</th>\n",
       "      <th>extraction_type_other - mkulima/shinyanga</th>\n",
       "      <th>extraction_type_other - play pump</th>\n",
       "      <th>extraction_type_other - rope pump</th>\n",
       "      <th>extraction_type_other - swn 81</th>\n",
       "      <th>extraction_type_submersible</th>\n",
       "      <th>extraction_type_swn 80</th>\n",
       "      <th>extraction_type_walimi</th>\n",
       "      <th>extraction_type_windmill</th>\n",
       "      <th>extraction_type_class_gravity</th>\n",
       "      <th>extraction_type_class_handpump</th>\n",
       "      <th>extraction_type_class_motorpump</th>\n",
       "      <th>extraction_type_class_other</th>\n",
       "      <th>extraction_type_class_rope pump</th>\n",
       "      <th>extraction_type_class_submersible</th>\n",
       "      <th>extraction_type_class_wind-powered</th>\n",
       "      <th>extraction_type_group_afridev</th>\n",
       "      <th>extraction_type_group_gravity</th>\n",
       "      <th>extraction_type_group_india mark ii</th>\n",
       "      <th>...</th>\n",
       "      <th>region_Rukwa</th>\n",
       "      <th>region_Ruvuma</th>\n",
       "      <th>region_Shinyanga</th>\n",
       "      <th>region_Singida</th>\n",
       "      <th>region_Tabora</th>\n",
       "      <th>region_Tanga</th>\n",
       "      <th>source_dam</th>\n",
       "      <th>source_hand dtw</th>\n",
       "      <th>source_lake</th>\n",
       "      <th>source_machine dbh</th>\n",
       "      <th>source_other</th>\n",
       "      <th>source_rainwater harvesting</th>\n",
       "      <th>source_river</th>\n",
       "      <th>source_shallow well</th>\n",
       "      <th>source_spring</th>\n",
       "      <th>source_unknown</th>\n",
       "      <th>source_class_groundwater</th>\n",
       "      <th>source_class_surface</th>\n",
       "      <th>source_class_unknown</th>\n",
       "      <th>source_type_borehole</th>\n",
       "      <th>source_type_dam</th>\n",
       "      <th>source_type_other</th>\n",
       "      <th>source_type_rainwater harvesting</th>\n",
       "      <th>source_type_river/lake</th>\n",
       "      <th>source_type_shallow well</th>\n",
       "      <th>source_type_spring</th>\n",
       "      <th>status_group_functional</th>\n",
       "      <th>status_group_functional needs repair</th>\n",
       "      <th>status_group_non functional</th>\n",
       "      <th>water_quality_coloured</th>\n",
       "      <th>water_quality_fluoride</th>\n",
       "      <th>water_quality_fluoride abandoned</th>\n",
       "      <th>water_quality_milky</th>\n",
       "      <th>water_quality_salty</th>\n",
       "      <th>water_quality_salty abandoned</th>\n",
       "      <th>water_quality_soft</th>\n",
       "      <th>water_quality_unknown</th>\n",
       "      <th>waterpoint_type_cattle trough</th>\n",
       "      <th>waterpoint_type_communal standpipe</th>\n",
       "      <th>waterpoint_type_communal standpipe multiple</th>\n",
       "      <th>waterpoint_type_dam</th>\n",
       "      <th>waterpoint_type_hand pump</th>\n",
       "      <th>waterpoint_type_improved spring</th>\n",
       "      <th>waterpoint_type_other</th>\n",
       "      <th>waterpoint_type_group_cattle trough</th>\n",
       "      <th>waterpoint_type_group_communal standpipe</th>\n",
       "      <th>waterpoint_type_group_dam</th>\n",
       "      <th>waterpoint_type_group_hand pump</th>\n",
       "      <th>waterpoint_type_group_improved spring</th>\n",
       "      <th>waterpoint_type_group_other</th>\n",
       "    </tr>\n",
       "  </thead>\n",
       "  <tbody>\n",
       "    <tr>\n",
       "      <th>0</th>\n",
       "      <td>2011-03-14</td>\n",
       "      <td>-9.856322</td>\n",
       "      <td>34.938093</td>\n",
       "      <td>0</td>\n",
       "      <td>109</td>\n",
       "      <td>2011</td>\n",
       "      <td>3</td>\n",
       "      <td>14</td>\n",
       "      <td>0</td>\n",
       "      <td>3</td>\n",
       "      <td>0</td>\n",
       "      <td>0</td>\n",
       "      <td>1</td>\n",
       "      <td>0</td>\n",
       "      <td>0</td>\n",
       "      <td>0</td>\n",
       "      <td>0</td>\n",
       "      <td>0</td>\n",
       "      <td>0</td>\n",
       "      <td>0</td>\n",
       "      <td>0</td>\n",
       "      <td>1</td>\n",
       "      <td>0</td>\n",
       "      <td>0</td>\n",
       "      <td>0</td>\n",
       "      <td>1</td>\n",
       "      <td>0</td>\n",
       "      <td>0</td>\n",
       "      <td>0</td>\n",
       "      <td>0</td>\n",
       "      <td>0</td>\n",
       "      <td>0</td>\n",
       "      <td>0</td>\n",
       "      <td>0</td>\n",
       "      <td>0</td>\n",
       "      <td>0</td>\n",
       "      <td>0</td>\n",
       "      <td>0</td>\n",
       "      <td>0</td>\n",
       "      <td>0</td>\n",
       "      <td>1</td>\n",
       "      <td>0</td>\n",
       "      <td>0</td>\n",
       "      <td>0</td>\n",
       "      <td>0</td>\n",
       "      <td>0</td>\n",
       "      <td>0</td>\n",
       "      <td>0</td>\n",
       "      <td>1</td>\n",
       "      <td>0</td>\n",
       "      <td>...</td>\n",
       "      <td>0</td>\n",
       "      <td>0</td>\n",
       "      <td>0</td>\n",
       "      <td>0</td>\n",
       "      <td>0</td>\n",
       "      <td>0</td>\n",
       "      <td>0</td>\n",
       "      <td>0</td>\n",
       "      <td>0</td>\n",
       "      <td>0</td>\n",
       "      <td>0</td>\n",
       "      <td>0</td>\n",
       "      <td>0</td>\n",
       "      <td>0</td>\n",
       "      <td>1</td>\n",
       "      <td>0</td>\n",
       "      <td>1</td>\n",
       "      <td>0</td>\n",
       "      <td>0</td>\n",
       "      <td>0</td>\n",
       "      <td>0</td>\n",
       "      <td>0</td>\n",
       "      <td>0</td>\n",
       "      <td>0</td>\n",
       "      <td>0</td>\n",
       "      <td>1</td>\n",
       "      <td>1</td>\n",
       "      <td>0</td>\n",
       "      <td>0</td>\n",
       "      <td>0</td>\n",
       "      <td>0</td>\n",
       "      <td>0</td>\n",
       "      <td>0</td>\n",
       "      <td>0</td>\n",
       "      <td>0</td>\n",
       "      <td>1</td>\n",
       "      <td>0</td>\n",
       "      <td>0</td>\n",
       "      <td>1</td>\n",
       "      <td>0</td>\n",
       "      <td>0</td>\n",
       "      <td>0</td>\n",
       "      <td>0</td>\n",
       "      <td>0</td>\n",
       "      <td>0</td>\n",
       "      <td>1</td>\n",
       "      <td>0</td>\n",
       "      <td>0</td>\n",
       "      <td>0</td>\n",
       "      <td>0</td>\n",
       "    </tr>\n",
       "    <tr>\n",
       "      <th>1</th>\n",
       "      <td>2013-03-06</td>\n",
       "      <td>-2.147466</td>\n",
       "      <td>34.698766</td>\n",
       "      <td>0</td>\n",
       "      <td>280</td>\n",
       "      <td>2013</td>\n",
       "      <td>3</td>\n",
       "      <td>6</td>\n",
       "      <td>0</td>\n",
       "      <td>3</td>\n",
       "      <td>1</td>\n",
       "      <td>0</td>\n",
       "      <td>0</td>\n",
       "      <td>0</td>\n",
       "      <td>0</td>\n",
       "      <td>1</td>\n",
       "      <td>0</td>\n",
       "      <td>0</td>\n",
       "      <td>0</td>\n",
       "      <td>0</td>\n",
       "      <td>0</td>\n",
       "      <td>1</td>\n",
       "      <td>0</td>\n",
       "      <td>0</td>\n",
       "      <td>0</td>\n",
       "      <td>1</td>\n",
       "      <td>0</td>\n",
       "      <td>0</td>\n",
       "      <td>0</td>\n",
       "      <td>0</td>\n",
       "      <td>0</td>\n",
       "      <td>0</td>\n",
       "      <td>0</td>\n",
       "      <td>0</td>\n",
       "      <td>0</td>\n",
       "      <td>0</td>\n",
       "      <td>0</td>\n",
       "      <td>0</td>\n",
       "      <td>0</td>\n",
       "      <td>0</td>\n",
       "      <td>1</td>\n",
       "      <td>0</td>\n",
       "      <td>0</td>\n",
       "      <td>0</td>\n",
       "      <td>0</td>\n",
       "      <td>0</td>\n",
       "      <td>0</td>\n",
       "      <td>0</td>\n",
       "      <td>1</td>\n",
       "      <td>0</td>\n",
       "      <td>...</td>\n",
       "      <td>0</td>\n",
       "      <td>0</td>\n",
       "      <td>0</td>\n",
       "      <td>0</td>\n",
       "      <td>0</td>\n",
       "      <td>0</td>\n",
       "      <td>0</td>\n",
       "      <td>0</td>\n",
       "      <td>0</td>\n",
       "      <td>0</td>\n",
       "      <td>0</td>\n",
       "      <td>1</td>\n",
       "      <td>0</td>\n",
       "      <td>0</td>\n",
       "      <td>0</td>\n",
       "      <td>0</td>\n",
       "      <td>0</td>\n",
       "      <td>1</td>\n",
       "      <td>0</td>\n",
       "      <td>0</td>\n",
       "      <td>0</td>\n",
       "      <td>0</td>\n",
       "      <td>1</td>\n",
       "      <td>0</td>\n",
       "      <td>0</td>\n",
       "      <td>0</td>\n",
       "      <td>1</td>\n",
       "      <td>0</td>\n",
       "      <td>0</td>\n",
       "      <td>0</td>\n",
       "      <td>0</td>\n",
       "      <td>0</td>\n",
       "      <td>0</td>\n",
       "      <td>0</td>\n",
       "      <td>0</td>\n",
       "      <td>1</td>\n",
       "      <td>0</td>\n",
       "      <td>0</td>\n",
       "      <td>1</td>\n",
       "      <td>0</td>\n",
       "      <td>0</td>\n",
       "      <td>0</td>\n",
       "      <td>0</td>\n",
       "      <td>0</td>\n",
       "      <td>0</td>\n",
       "      <td>1</td>\n",
       "      <td>0</td>\n",
       "      <td>0</td>\n",
       "      <td>0</td>\n",
       "      <td>0</td>\n",
       "    </tr>\n",
       "    <tr>\n",
       "      <th>2</th>\n",
       "      <td>2013-02-25</td>\n",
       "      <td>-3.821329</td>\n",
       "      <td>37.460664</td>\n",
       "      <td>0</td>\n",
       "      <td>250</td>\n",
       "      <td>2013</td>\n",
       "      <td>2</td>\n",
       "      <td>25</td>\n",
       "      <td>0</td>\n",
       "      <td>2</td>\n",
       "      <td>0</td>\n",
       "      <td>0</td>\n",
       "      <td>0</td>\n",
       "      <td>0</td>\n",
       "      <td>0</td>\n",
       "      <td>0</td>\n",
       "      <td>1</td>\n",
       "      <td>0</td>\n",
       "      <td>0</td>\n",
       "      <td>0</td>\n",
       "      <td>0</td>\n",
       "      <td>1</td>\n",
       "      <td>0</td>\n",
       "      <td>0</td>\n",
       "      <td>0</td>\n",
       "      <td>1</td>\n",
       "      <td>0</td>\n",
       "      <td>0</td>\n",
       "      <td>0</td>\n",
       "      <td>0</td>\n",
       "      <td>0</td>\n",
       "      <td>0</td>\n",
       "      <td>0</td>\n",
       "      <td>0</td>\n",
       "      <td>0</td>\n",
       "      <td>0</td>\n",
       "      <td>0</td>\n",
       "      <td>0</td>\n",
       "      <td>0</td>\n",
       "      <td>0</td>\n",
       "      <td>1</td>\n",
       "      <td>0</td>\n",
       "      <td>0</td>\n",
       "      <td>0</td>\n",
       "      <td>0</td>\n",
       "      <td>0</td>\n",
       "      <td>0</td>\n",
       "      <td>0</td>\n",
       "      <td>1</td>\n",
       "      <td>0</td>\n",
       "      <td>...</td>\n",
       "      <td>0</td>\n",
       "      <td>0</td>\n",
       "      <td>0</td>\n",
       "      <td>0</td>\n",
       "      <td>0</td>\n",
       "      <td>0</td>\n",
       "      <td>1</td>\n",
       "      <td>0</td>\n",
       "      <td>0</td>\n",
       "      <td>0</td>\n",
       "      <td>0</td>\n",
       "      <td>0</td>\n",
       "      <td>0</td>\n",
       "      <td>0</td>\n",
       "      <td>0</td>\n",
       "      <td>0</td>\n",
       "      <td>0</td>\n",
       "      <td>1</td>\n",
       "      <td>0</td>\n",
       "      <td>0</td>\n",
       "      <td>1</td>\n",
       "      <td>0</td>\n",
       "      <td>0</td>\n",
       "      <td>0</td>\n",
       "      <td>0</td>\n",
       "      <td>0</td>\n",
       "      <td>1</td>\n",
       "      <td>0</td>\n",
       "      <td>0</td>\n",
       "      <td>0</td>\n",
       "      <td>0</td>\n",
       "      <td>0</td>\n",
       "      <td>0</td>\n",
       "      <td>0</td>\n",
       "      <td>0</td>\n",
       "      <td>1</td>\n",
       "      <td>0</td>\n",
       "      <td>0</td>\n",
       "      <td>0</td>\n",
       "      <td>1</td>\n",
       "      <td>0</td>\n",
       "      <td>0</td>\n",
       "      <td>0</td>\n",
       "      <td>0</td>\n",
       "      <td>0</td>\n",
       "      <td>1</td>\n",
       "      <td>0</td>\n",
       "      <td>0</td>\n",
       "      <td>0</td>\n",
       "      <td>0</td>\n",
       "    </tr>\n",
       "    <tr>\n",
       "      <th>3</th>\n",
       "      <td>2013-01-28</td>\n",
       "      <td>-11.155298</td>\n",
       "      <td>38.486161</td>\n",
       "      <td>0</td>\n",
       "      <td>58</td>\n",
       "      <td>2013</td>\n",
       "      <td>1</td>\n",
       "      <td>28</td>\n",
       "      <td>0</td>\n",
       "      <td>1</td>\n",
       "      <td>1</td>\n",
       "      <td>0</td>\n",
       "      <td>0</td>\n",
       "      <td>0</td>\n",
       "      <td>0</td>\n",
       "      <td>0</td>\n",
       "      <td>0</td>\n",
       "      <td>0</td>\n",
       "      <td>1</td>\n",
       "      <td>0</td>\n",
       "      <td>0</td>\n",
       "      <td>1</td>\n",
       "      <td>0</td>\n",
       "      <td>0</td>\n",
       "      <td>0</td>\n",
       "      <td>0</td>\n",
       "      <td>0</td>\n",
       "      <td>0</td>\n",
       "      <td>0</td>\n",
       "      <td>0</td>\n",
       "      <td>0</td>\n",
       "      <td>0</td>\n",
       "      <td>0</td>\n",
       "      <td>0</td>\n",
       "      <td>0</td>\n",
       "      <td>0</td>\n",
       "      <td>1</td>\n",
       "      <td>0</td>\n",
       "      <td>0</td>\n",
       "      <td>0</td>\n",
       "      <td>0</td>\n",
       "      <td>0</td>\n",
       "      <td>0</td>\n",
       "      <td>0</td>\n",
       "      <td>0</td>\n",
       "      <td>1</td>\n",
       "      <td>0</td>\n",
       "      <td>0</td>\n",
       "      <td>0</td>\n",
       "      <td>0</td>\n",
       "      <td>...</td>\n",
       "      <td>0</td>\n",
       "      <td>0</td>\n",
       "      <td>0</td>\n",
       "      <td>0</td>\n",
       "      <td>0</td>\n",
       "      <td>0</td>\n",
       "      <td>0</td>\n",
       "      <td>0</td>\n",
       "      <td>0</td>\n",
       "      <td>1</td>\n",
       "      <td>0</td>\n",
       "      <td>0</td>\n",
       "      <td>0</td>\n",
       "      <td>0</td>\n",
       "      <td>0</td>\n",
       "      <td>0</td>\n",
       "      <td>1</td>\n",
       "      <td>0</td>\n",
       "      <td>0</td>\n",
       "      <td>1</td>\n",
       "      <td>0</td>\n",
       "      <td>0</td>\n",
       "      <td>0</td>\n",
       "      <td>0</td>\n",
       "      <td>0</td>\n",
       "      <td>0</td>\n",
       "      <td>0</td>\n",
       "      <td>0</td>\n",
       "      <td>1</td>\n",
       "      <td>0</td>\n",
       "      <td>0</td>\n",
       "      <td>0</td>\n",
       "      <td>0</td>\n",
       "      <td>0</td>\n",
       "      <td>0</td>\n",
       "      <td>1</td>\n",
       "      <td>0</td>\n",
       "      <td>0</td>\n",
       "      <td>0</td>\n",
       "      <td>1</td>\n",
       "      <td>0</td>\n",
       "      <td>0</td>\n",
       "      <td>0</td>\n",
       "      <td>0</td>\n",
       "      <td>0</td>\n",
       "      <td>1</td>\n",
       "      <td>0</td>\n",
       "      <td>0</td>\n",
       "      <td>0</td>\n",
       "      <td>0</td>\n",
       "    </tr>\n",
       "    <tr>\n",
       "      <th>4</th>\n",
       "      <td>2011-07-13</td>\n",
       "      <td>-1.825359</td>\n",
       "      <td>31.130847</td>\n",
       "      <td>0</td>\n",
       "      <td>0</td>\n",
       "      <td>2011</td>\n",
       "      <td>7</td>\n",
       "      <td>13</td>\n",
       "      <td>0</td>\n",
       "      <td>1</td>\n",
       "      <td>1</td>\n",
       "      <td>0</td>\n",
       "      <td>0</td>\n",
       "      <td>0</td>\n",
       "      <td>0</td>\n",
       "      <td>1</td>\n",
       "      <td>0</td>\n",
       "      <td>0</td>\n",
       "      <td>0</td>\n",
       "      <td>0</td>\n",
       "      <td>0</td>\n",
       "      <td>1</td>\n",
       "      <td>0</td>\n",
       "      <td>0</td>\n",
       "      <td>0</td>\n",
       "      <td>1</td>\n",
       "      <td>0</td>\n",
       "      <td>0</td>\n",
       "      <td>0</td>\n",
       "      <td>0</td>\n",
       "      <td>0</td>\n",
       "      <td>0</td>\n",
       "      <td>0</td>\n",
       "      <td>0</td>\n",
       "      <td>0</td>\n",
       "      <td>0</td>\n",
       "      <td>0</td>\n",
       "      <td>0</td>\n",
       "      <td>0</td>\n",
       "      <td>0</td>\n",
       "      <td>1</td>\n",
       "      <td>0</td>\n",
       "      <td>0</td>\n",
       "      <td>0</td>\n",
       "      <td>0</td>\n",
       "      <td>0</td>\n",
       "      <td>0</td>\n",
       "      <td>0</td>\n",
       "      <td>1</td>\n",
       "      <td>0</td>\n",
       "      <td>...</td>\n",
       "      <td>0</td>\n",
       "      <td>0</td>\n",
       "      <td>0</td>\n",
       "      <td>0</td>\n",
       "      <td>0</td>\n",
       "      <td>0</td>\n",
       "      <td>0</td>\n",
       "      <td>0</td>\n",
       "      <td>0</td>\n",
       "      <td>0</td>\n",
       "      <td>0</td>\n",
       "      <td>1</td>\n",
       "      <td>0</td>\n",
       "      <td>0</td>\n",
       "      <td>0</td>\n",
       "      <td>0</td>\n",
       "      <td>0</td>\n",
       "      <td>1</td>\n",
       "      <td>0</td>\n",
       "      <td>0</td>\n",
       "      <td>0</td>\n",
       "      <td>0</td>\n",
       "      <td>1</td>\n",
       "      <td>0</td>\n",
       "      <td>0</td>\n",
       "      <td>0</td>\n",
       "      <td>1</td>\n",
       "      <td>0</td>\n",
       "      <td>0</td>\n",
       "      <td>0</td>\n",
       "      <td>0</td>\n",
       "      <td>0</td>\n",
       "      <td>0</td>\n",
       "      <td>0</td>\n",
       "      <td>0</td>\n",
       "      <td>1</td>\n",
       "      <td>0</td>\n",
       "      <td>0</td>\n",
       "      <td>1</td>\n",
       "      <td>0</td>\n",
       "      <td>0</td>\n",
       "      <td>0</td>\n",
       "      <td>0</td>\n",
       "      <td>0</td>\n",
       "      <td>0</td>\n",
       "      <td>1</td>\n",
       "      <td>0</td>\n",
       "      <td>0</td>\n",
       "      <td>0</td>\n",
       "      <td>0</td>\n",
       "    </tr>\n",
       "  </tbody>\n",
       "</table>\n",
       "<p>5 rows × 165 columns</p>\n",
       "</div>"
      ],
      "text/plain": [
       "  date_recorded   latitude  longitude  num_private  population  year  month  \\\n",
       "0 2011-03-14    -9.856322   34.938093  0            109         2011  3       \n",
       "1 2013-03-06    -2.147466   34.698766  0            280         2013  3       \n",
       "2 2013-02-25    -3.821329   37.460664  0            250         2013  2       \n",
       "3 2013-01-28    -11.155298  38.486161  0            58          2013  1       \n",
       "4 2011-07-13    -1.825359   31.130847  0            0           2011  7       \n",
       "\n",
       "   day  pre2011  quarterMonth  unknownNeverPaymentType  basin_Internal  \\\n",
       "0  14   0        3             0                        0                \n",
       "1  6    0        3             1                        0                \n",
       "2  25   0        2             0                        0                \n",
       "3  28   0        1             1                        0                \n",
       "4  13   0        1             1                        0                \n",
       "\n",
       "   basin_Lake Nyasa  basin_Lake Rukwa  basin_Lake Tanganyika  \\\n",
       "0  1                 0                 0                       \n",
       "1  0                 0                 0                       \n",
       "2  0                 0                 0                       \n",
       "3  0                 0                 0                       \n",
       "4  0                 0                 0                       \n",
       "\n",
       "   basin_Lake Victoria  basin_Pangani  basin_Rufiji  \\\n",
       "0  0                    0              0              \n",
       "1  1                    0              0              \n",
       "2  0                    1              0              \n",
       "3  0                    0              0              \n",
       "4  1                    0              0              \n",
       "\n",
       "   basin_Ruvuma / Southern Coast  basin_Wami / Ruvu  dataType_test  \\\n",
       "0  0                              0                  0               \n",
       "1  0                              0                  0               \n",
       "2  0                              0                  0               \n",
       "3  1                              0                  0               \n",
       "4  0                              0                  0               \n",
       "\n",
       "   dataType_train  extraction_type_afridev  extraction_type_cemo  \\\n",
       "0  1               0                        0                      \n",
       "1  1               0                        0                      \n",
       "2  1               0                        0                      \n",
       "3  1               0                        0                      \n",
       "4  1               0                        0                      \n",
       "\n",
       "   extraction_type_climax  extraction_type_gravity  \\\n",
       "0  0                       1                         \n",
       "1  0                       1                         \n",
       "2  0                       1                         \n",
       "3  0                       0                         \n",
       "4  0                       1                         \n",
       "\n",
       "   extraction_type_india mark ii  extraction_type_india mark iii  \\\n",
       "0  0                              0                                \n",
       "1  0                              0                                \n",
       "2  0                              0                                \n",
       "3  0                              0                                \n",
       "4  0                              0                                \n",
       "\n",
       "   extraction_type_ksb  extraction_type_mono  extraction_type_nira/tanira  \\\n",
       "0  0                    0                     0                             \n",
       "1  0                    0                     0                             \n",
       "2  0                    0                     0                             \n",
       "3  0                    0                     0                             \n",
       "4  0                    0                     0                             \n",
       "\n",
       "   extraction_type_other  extraction_type_other - mkulima/shinyanga  \\\n",
       "0  0                      0                                           \n",
       "1  0                      0                                           \n",
       "2  0                      0                                           \n",
       "3  0                      0                                           \n",
       "4  0                      0                                           \n",
       "\n",
       "   extraction_type_other - play pump  extraction_type_other - rope pump  \\\n",
       "0  0                                  0                                   \n",
       "1  0                                  0                                   \n",
       "2  0                                  0                                   \n",
       "3  0                                  0                                   \n",
       "4  0                                  0                                   \n",
       "\n",
       "   extraction_type_other - swn 81  extraction_type_submersible  \\\n",
       "0  0                               0                             \n",
       "1  0                               0                             \n",
       "2  0                               0                             \n",
       "3  0                               1                             \n",
       "4  0                               0                             \n",
       "\n",
       "   extraction_type_swn 80  extraction_type_walimi  extraction_type_windmill  \\\n",
       "0  0                       0                       0                          \n",
       "1  0                       0                       0                          \n",
       "2  0                       0                       0                          \n",
       "3  0                       0                       0                          \n",
       "4  0                       0                       0                          \n",
       "\n",
       "   extraction_type_class_gravity  extraction_type_class_handpump  \\\n",
       "0  1                              0                                \n",
       "1  1                              0                                \n",
       "2  1                              0                                \n",
       "3  0                              0                                \n",
       "4  1                              0                                \n",
       "\n",
       "   extraction_type_class_motorpump  extraction_type_class_other  \\\n",
       "0  0                                0                             \n",
       "1  0                                0                             \n",
       "2  0                                0                             \n",
       "3  0                                0                             \n",
       "4  0                                0                             \n",
       "\n",
       "   extraction_type_class_rope pump  extraction_type_class_submersible  \\\n",
       "0  0                                0                                   \n",
       "1  0                                0                                   \n",
       "2  0                                0                                   \n",
       "3  0                                1                                   \n",
       "4  0                                0                                   \n",
       "\n",
       "   extraction_type_class_wind-powered  extraction_type_group_afridev  \\\n",
       "0  0                                   0                               \n",
       "1  0                                   0                               \n",
       "2  0                                   0                               \n",
       "3  0                                   0                               \n",
       "4  0                                   0                               \n",
       "\n",
       "   extraction_type_group_gravity  extraction_type_group_india mark ii  \\\n",
       "0  1                              0                                     \n",
       "1  1                              0                                     \n",
       "2  1                              0                                     \n",
       "3  0                              0                                     \n",
       "4  1                              0                                     \n",
       "\n",
       "              ...               region_Rukwa  region_Ruvuma  region_Shinyanga  \\\n",
       "0             ...               0             0              0                  \n",
       "1             ...               0             0              0                  \n",
       "2             ...               0             0              0                  \n",
       "3             ...               0             0              0                  \n",
       "4             ...               0             0              0                  \n",
       "\n",
       "   region_Singida  region_Tabora  region_Tanga  source_dam  source_hand dtw  \\\n",
       "0  0               0              0             0           0                 \n",
       "1  0               0              0             0           0                 \n",
       "2  0               0              0             1           0                 \n",
       "3  0               0              0             0           0                 \n",
       "4  0               0              0             0           0                 \n",
       "\n",
       "   source_lake  source_machine dbh  source_other  source_rainwater harvesting  \\\n",
       "0  0            0                   0             0                             \n",
       "1  0            0                   0             1                             \n",
       "2  0            0                   0             0                             \n",
       "3  0            1                   0             0                             \n",
       "4  0            0                   0             1                             \n",
       "\n",
       "   source_river  source_shallow well  source_spring  source_unknown  \\\n",
       "0  0             0                    1              0                \n",
       "1  0             0                    0              0                \n",
       "2  0             0                    0              0                \n",
       "3  0             0                    0              0                \n",
       "4  0             0                    0              0                \n",
       "\n",
       "   source_class_groundwater  source_class_surface  source_class_unknown  \\\n",
       "0  1                         0                     0                      \n",
       "1  0                         1                     0                      \n",
       "2  0                         1                     0                      \n",
       "3  1                         0                     0                      \n",
       "4  0                         1                     0                      \n",
       "\n",
       "   source_type_borehole  source_type_dam  source_type_other  \\\n",
       "0  0                     0                0                   \n",
       "1  0                     0                0                   \n",
       "2  0                     1                0                   \n",
       "3  1                     0                0                   \n",
       "4  0                     0                0                   \n",
       "\n",
       "   source_type_rainwater harvesting  source_type_river/lake  \\\n",
       "0  0                                 0                        \n",
       "1  1                                 0                        \n",
       "2  0                                 0                        \n",
       "3  0                                 0                        \n",
       "4  1                                 0                        \n",
       "\n",
       "   source_type_shallow well  source_type_spring  status_group_functional  \\\n",
       "0  0                         1                   1                         \n",
       "1  0                         0                   1                         \n",
       "2  0                         0                   1                         \n",
       "3  0                         0                   0                         \n",
       "4  0                         0                   1                         \n",
       "\n",
       "   status_group_functional needs repair  status_group_non functional  \\\n",
       "0  0                                     0                             \n",
       "1  0                                     0                             \n",
       "2  0                                     0                             \n",
       "3  0                                     1                             \n",
       "4  0                                     0                             \n",
       "\n",
       "   water_quality_coloured  water_quality_fluoride  \\\n",
       "0  0                       0                        \n",
       "1  0                       0                        \n",
       "2  0                       0                        \n",
       "3  0                       0                        \n",
       "4  0                       0                        \n",
       "\n",
       "   water_quality_fluoride abandoned  water_quality_milky  water_quality_salty  \\\n",
       "0  0                                 0                    0                     \n",
       "1  0                                 0                    0                     \n",
       "2  0                                 0                    0                     \n",
       "3  0                                 0                    0                     \n",
       "4  0                                 0                    0                     \n",
       "\n",
       "   water_quality_salty abandoned  water_quality_soft  water_quality_unknown  \\\n",
       "0  0                              1                   0                       \n",
       "1  0                              1                   0                       \n",
       "2  0                              1                   0                       \n",
       "3  0                              1                   0                       \n",
       "4  0                              1                   0                       \n",
       "\n",
       "   waterpoint_type_cattle trough  waterpoint_type_communal standpipe  \\\n",
       "0  0                              1                                    \n",
       "1  0                              1                                    \n",
       "2  0                              0                                    \n",
       "3  0                              0                                    \n",
       "4  0                              1                                    \n",
       "\n",
       "   waterpoint_type_communal standpipe multiple  waterpoint_type_dam  \\\n",
       "0  0                                            0                     \n",
       "1  0                                            0                     \n",
       "2  1                                            0                     \n",
       "3  1                                            0                     \n",
       "4  0                                            0                     \n",
       "\n",
       "   waterpoint_type_hand pump  waterpoint_type_improved spring  \\\n",
       "0  0                          0                                 \n",
       "1  0                          0                                 \n",
       "2  0                          0                                 \n",
       "3  0                          0                                 \n",
       "4  0                          0                                 \n",
       "\n",
       "   waterpoint_type_other  waterpoint_type_group_cattle trough  \\\n",
       "0  0                      0                                     \n",
       "1  0                      0                                     \n",
       "2  0                      0                                     \n",
       "3  0                      0                                     \n",
       "4  0                      0                                     \n",
       "\n",
       "   waterpoint_type_group_communal standpipe  waterpoint_type_group_dam  \\\n",
       "0  1                                         0                           \n",
       "1  1                                         0                           \n",
       "2  1                                         0                           \n",
       "3  1                                         0                           \n",
       "4  1                                         0                           \n",
       "\n",
       "   waterpoint_type_group_hand pump  waterpoint_type_group_improved spring  \\\n",
       "0  0                                0                                       \n",
       "1  0                                0                                       \n",
       "2  0                                0                                       \n",
       "3  0                                0                                       \n",
       "4  0                                0                                       \n",
       "\n",
       "   waterpoint_type_group_other  \n",
       "0  0                            \n",
       "1  0                            \n",
       "2  0                            \n",
       "3  0                            \n",
       "4  0                            \n",
       "\n",
       "[5 rows x 165 columns]"
      ]
     },
     "execution_count": 93,
     "metadata": {},
     "output_type": "execute_result"
    }
   ],
   "source": [
    "trainTest.head()"
   ]
  },
  {
   "cell_type": "code",
   "execution_count": null,
   "metadata": {
    "collapsed": true
   },
   "outputs": [],
   "source": [
    "#NEED TO FIX WHICH DATA I\"M GETTING FROM WHERE\n",
    "#NEED TO GET IT FROM trainTEST, not just target"
   ]
  },
  {
   "cell_type": "code",
   "execution_count": 95,
   "metadata": {
    "collapsed": false
   },
   "outputs": [],
   "source": [
    "#create target variable for validation\n",
    "target = train.status_group\n",
    "\n",
    "#remove target variable from train\n",
    "train = train.drop(['status_group'],axis =1)"
   ]
  },
  {
   "cell_type": "code",
   "execution_count": 96,
   "metadata": {
    "collapsed": true
   },
   "outputs": [],
   "source": [
    "clf_rnf = RandomForestClassifier()"
   ]
  },
  {
   "cell_type": "code",
   "execution_count": 97,
   "metadata": {
    "collapsed": true
   },
   "outputs": [],
   "source": [
    "from sklearn.model_selection import KFold, cross_val_score"
   ]
  },
  {
   "cell_type": "code",
   "execution_count": 99,
   "metadata": {
    "collapsed": false
   },
   "outputs": [
    {
     "ename": "ValueError",
     "evalue": "could not convert string to float: 'hand pump'",
     "output_type": "error",
     "traceback": [
      "\u001b[0;31m---------------------------------------------------------------------------\u001b[0m",
      "\u001b[0;31mValueError\u001b[0m                                Traceback (most recent call last)",
      "\u001b[0;32m<ipython-input-99-2c1a6c29e436>\u001b[0m in \u001b[0;36m<module>\u001b[0;34m()\u001b[0m\n\u001b[0;32m----> 1\u001b[0;31m \u001b[0mmodel_rnf\u001b[0m \u001b[0;34m=\u001b[0m \u001b[0mclf_rnf\u001b[0m\u001b[0;34m.\u001b[0m\u001b[0mfit\u001b[0m\u001b[0;34m(\u001b[0m\u001b[0mtrain\u001b[0m\u001b[0;34m,\u001b[0m\u001b[0mtarget\u001b[0m\u001b[0;34m)\u001b[0m\u001b[0;34m\u001b[0m\u001b[0m\n\u001b[0m",
      "\u001b[0;32m//anaconda/lib/python3.5/site-packages/sklearn/ensemble/forest.py\u001b[0m in \u001b[0;36mfit\u001b[0;34m(self, X, y, sample_weight)\u001b[0m\n\u001b[1;32m    245\u001b[0m         \"\"\"\n\u001b[1;32m    246\u001b[0m         \u001b[0;31m# Validate or convert input data\u001b[0m\u001b[0;34m\u001b[0m\u001b[0;34m\u001b[0m\u001b[0m\n\u001b[0;32m--> 247\u001b[0;31m         \u001b[0mX\u001b[0m \u001b[0;34m=\u001b[0m \u001b[0mcheck_array\u001b[0m\u001b[0;34m(\u001b[0m\u001b[0mX\u001b[0m\u001b[0;34m,\u001b[0m \u001b[0maccept_sparse\u001b[0m\u001b[0;34m=\u001b[0m\u001b[0;34m\"csc\"\u001b[0m\u001b[0;34m,\u001b[0m \u001b[0mdtype\u001b[0m\u001b[0;34m=\u001b[0m\u001b[0mDTYPE\u001b[0m\u001b[0;34m)\u001b[0m\u001b[0;34m\u001b[0m\u001b[0m\n\u001b[0m\u001b[1;32m    248\u001b[0m         \u001b[0my\u001b[0m \u001b[0;34m=\u001b[0m \u001b[0mcheck_array\u001b[0m\u001b[0;34m(\u001b[0m\u001b[0my\u001b[0m\u001b[0;34m,\u001b[0m \u001b[0maccept_sparse\u001b[0m\u001b[0;34m=\u001b[0m\u001b[0;34m'csc'\u001b[0m\u001b[0;34m,\u001b[0m \u001b[0mensure_2d\u001b[0m\u001b[0;34m=\u001b[0m\u001b[0;32mFalse\u001b[0m\u001b[0;34m,\u001b[0m \u001b[0mdtype\u001b[0m\u001b[0;34m=\u001b[0m\u001b[0;32mNone\u001b[0m\u001b[0;34m)\u001b[0m\u001b[0;34m\u001b[0m\u001b[0m\n\u001b[1;32m    249\u001b[0m         \u001b[0;32mif\u001b[0m \u001b[0msample_weight\u001b[0m \u001b[0;32mis\u001b[0m \u001b[0;32mnot\u001b[0m \u001b[0;32mNone\u001b[0m\u001b[0;34m:\u001b[0m\u001b[0;34m\u001b[0m\u001b[0m\n",
      "\u001b[0;32m//anaconda/lib/python3.5/site-packages/sklearn/utils/validation.py\u001b[0m in \u001b[0;36mcheck_array\u001b[0;34m(array, accept_sparse, dtype, order, copy, force_all_finite, ensure_2d, allow_nd, ensure_min_samples, ensure_min_features, warn_on_dtype, estimator)\u001b[0m\n\u001b[1;32m    431\u001b[0m                                       force_all_finite)\n\u001b[1;32m    432\u001b[0m     \u001b[0;32melse\u001b[0m\u001b[0;34m:\u001b[0m\u001b[0;34m\u001b[0m\u001b[0m\n\u001b[0;32m--> 433\u001b[0;31m         \u001b[0marray\u001b[0m \u001b[0;34m=\u001b[0m \u001b[0mnp\u001b[0m\u001b[0;34m.\u001b[0m\u001b[0marray\u001b[0m\u001b[0;34m(\u001b[0m\u001b[0marray\u001b[0m\u001b[0;34m,\u001b[0m \u001b[0mdtype\u001b[0m\u001b[0;34m=\u001b[0m\u001b[0mdtype\u001b[0m\u001b[0;34m,\u001b[0m \u001b[0morder\u001b[0m\u001b[0;34m=\u001b[0m\u001b[0morder\u001b[0m\u001b[0;34m,\u001b[0m \u001b[0mcopy\u001b[0m\u001b[0;34m=\u001b[0m\u001b[0mcopy\u001b[0m\u001b[0;34m)\u001b[0m\u001b[0;34m\u001b[0m\u001b[0m\n\u001b[0m\u001b[1;32m    434\u001b[0m \u001b[0;34m\u001b[0m\u001b[0m\n\u001b[1;32m    435\u001b[0m         \u001b[0;32mif\u001b[0m \u001b[0mensure_2d\u001b[0m\u001b[0;34m:\u001b[0m\u001b[0;34m\u001b[0m\u001b[0m\n",
      "\u001b[0;31mValueError\u001b[0m: could not convert string to float: 'hand pump'"
     ]
    }
   ],
   "source": [
    "#model_rnf = clf_rnf.fit(train,target)"
   ]
  },
  {
   "cell_type": "code",
   "execution_count": 100,
   "metadata": {
    "collapsed": false
   },
   "outputs": [
    {
     "data": {
      "text/html": [
       "<div>\n",
       "<style scoped>\n",
       "    .dataframe tbody tr th:only-of-type {\n",
       "        vertical-align: middle;\n",
       "    }\n",
       "\n",
       "    .dataframe tbody tr th {\n",
       "        vertical-align: top;\n",
       "    }\n",
       "\n",
       "    .dataframe thead th {\n",
       "        text-align: right;\n",
       "    }\n",
       "</style>\n",
       "<table border=\"1\" class=\"dataframe\">\n",
       "  <thead>\n",
       "    <tr style=\"text-align: right;\">\n",
       "      <th></th>\n",
       "      <th>basin</th>\n",
       "      <th>date_recorded</th>\n",
       "      <th>extraction_type</th>\n",
       "      <th>extraction_type_class</th>\n",
       "      <th>extraction_type_group</th>\n",
       "      <th>latitude</th>\n",
       "      <th>longitude</th>\n",
       "      <th>management</th>\n",
       "      <th>management_group</th>\n",
       "      <th>payment_type</th>\n",
       "      <th>population</th>\n",
       "      <th>quality_group</th>\n",
       "      <th>quantity</th>\n",
       "      <th>quantity_group</th>\n",
       "      <th>region</th>\n",
       "      <th>source</th>\n",
       "      <th>source_class</th>\n",
       "      <th>source_type</th>\n",
       "      <th>water_quality</th>\n",
       "      <th>waterpoint_type</th>\n",
       "      <th>waterpoint_type_group</th>\n",
       "      <th>year</th>\n",
       "      <th>month</th>\n",
       "      <th>day</th>\n",
       "      <th>pre2011</th>\n",
       "      <th>quarterMonth</th>\n",
       "      <th>unknownNeverPaymentType</th>\n",
       "    </tr>\n",
       "  </thead>\n",
       "  <tbody>\n",
       "    <tr>\n",
       "      <th>0</th>\n",
       "      <td>Lake Nyasa</td>\n",
       "      <td>2011-03-14</td>\n",
       "      <td>gravity</td>\n",
       "      <td>gravity</td>\n",
       "      <td>gravity</td>\n",
       "      <td>-9.856322</td>\n",
       "      <td>34.938093</td>\n",
       "      <td>vwc</td>\n",
       "      <td>user-group</td>\n",
       "      <td>annually</td>\n",
       "      <td>109</td>\n",
       "      <td>good</td>\n",
       "      <td>enough</td>\n",
       "      <td>enough</td>\n",
       "      <td>Iringa</td>\n",
       "      <td>spring</td>\n",
       "      <td>groundwater</td>\n",
       "      <td>spring</td>\n",
       "      <td>soft</td>\n",
       "      <td>communal standpipe</td>\n",
       "      <td>communal standpipe</td>\n",
       "      <td>2011</td>\n",
       "      <td>3</td>\n",
       "      <td>14</td>\n",
       "      <td>0</td>\n",
       "      <td>3</td>\n",
       "      <td>0</td>\n",
       "    </tr>\n",
       "    <tr>\n",
       "      <th>1</th>\n",
       "      <td>Lake Victoria</td>\n",
       "      <td>2013-03-06</td>\n",
       "      <td>gravity</td>\n",
       "      <td>gravity</td>\n",
       "      <td>gravity</td>\n",
       "      <td>-2.147466</td>\n",
       "      <td>34.698766</td>\n",
       "      <td>wug</td>\n",
       "      <td>user-group</td>\n",
       "      <td>never pay</td>\n",
       "      <td>280</td>\n",
       "      <td>good</td>\n",
       "      <td>insufficient</td>\n",
       "      <td>insufficient</td>\n",
       "      <td>Mara</td>\n",
       "      <td>rainwater harvesting</td>\n",
       "      <td>surface</td>\n",
       "      <td>rainwater harvesting</td>\n",
       "      <td>soft</td>\n",
       "      <td>communal standpipe</td>\n",
       "      <td>communal standpipe</td>\n",
       "      <td>2013</td>\n",
       "      <td>3</td>\n",
       "      <td>6</td>\n",
       "      <td>0</td>\n",
       "      <td>3</td>\n",
       "      <td>1</td>\n",
       "    </tr>\n",
       "    <tr>\n",
       "      <th>2</th>\n",
       "      <td>Pangani</td>\n",
       "      <td>2013-02-25</td>\n",
       "      <td>gravity</td>\n",
       "      <td>gravity</td>\n",
       "      <td>gravity</td>\n",
       "      <td>-3.821329</td>\n",
       "      <td>37.460664</td>\n",
       "      <td>vwc</td>\n",
       "      <td>user-group</td>\n",
       "      <td>per bucket</td>\n",
       "      <td>250</td>\n",
       "      <td>good</td>\n",
       "      <td>enough</td>\n",
       "      <td>enough</td>\n",
       "      <td>Manyara</td>\n",
       "      <td>dam</td>\n",
       "      <td>surface</td>\n",
       "      <td>dam</td>\n",
       "      <td>soft</td>\n",
       "      <td>communal standpipe multiple</td>\n",
       "      <td>communal standpipe</td>\n",
       "      <td>2013</td>\n",
       "      <td>2</td>\n",
       "      <td>25</td>\n",
       "      <td>0</td>\n",
       "      <td>2</td>\n",
       "      <td>0</td>\n",
       "    </tr>\n",
       "    <tr>\n",
       "      <th>3</th>\n",
       "      <td>Ruvuma / Southern Coast</td>\n",
       "      <td>2013-01-28</td>\n",
       "      <td>submersible</td>\n",
       "      <td>submersible</td>\n",
       "      <td>submersible</td>\n",
       "      <td>-11.155298</td>\n",
       "      <td>38.486161</td>\n",
       "      <td>vwc</td>\n",
       "      <td>user-group</td>\n",
       "      <td>never pay</td>\n",
       "      <td>58</td>\n",
       "      <td>good</td>\n",
       "      <td>dry</td>\n",
       "      <td>dry</td>\n",
       "      <td>Mtwara</td>\n",
       "      <td>machine dbh</td>\n",
       "      <td>groundwater</td>\n",
       "      <td>borehole</td>\n",
       "      <td>soft</td>\n",
       "      <td>communal standpipe multiple</td>\n",
       "      <td>communal standpipe</td>\n",
       "      <td>2013</td>\n",
       "      <td>1</td>\n",
       "      <td>28</td>\n",
       "      <td>0</td>\n",
       "      <td>1</td>\n",
       "      <td>1</td>\n",
       "    </tr>\n",
       "    <tr>\n",
       "      <th>4</th>\n",
       "      <td>Lake Victoria</td>\n",
       "      <td>2011-07-13</td>\n",
       "      <td>gravity</td>\n",
       "      <td>gravity</td>\n",
       "      <td>gravity</td>\n",
       "      <td>-1.825359</td>\n",
       "      <td>31.130847</td>\n",
       "      <td>other</td>\n",
       "      <td>other</td>\n",
       "      <td>never pay</td>\n",
       "      <td>0</td>\n",
       "      <td>good</td>\n",
       "      <td>seasonal</td>\n",
       "      <td>seasonal</td>\n",
       "      <td>Kagera</td>\n",
       "      <td>rainwater harvesting</td>\n",
       "      <td>surface</td>\n",
       "      <td>rainwater harvesting</td>\n",
       "      <td>soft</td>\n",
       "      <td>communal standpipe</td>\n",
       "      <td>communal standpipe</td>\n",
       "      <td>2011</td>\n",
       "      <td>7</td>\n",
       "      <td>13</td>\n",
       "      <td>0</td>\n",
       "      <td>1</td>\n",
       "      <td>1</td>\n",
       "    </tr>\n",
       "  </tbody>\n",
       "</table>\n",
       "</div>"
      ],
      "text/plain": [
       "                     basin date_recorded extraction_type  \\\n",
       "0  Lake Nyasa              2011-03-14     gravity          \n",
       "1  Lake Victoria           2013-03-06     gravity          \n",
       "2  Pangani                 2013-02-25     gravity          \n",
       "3  Ruvuma / Southern Coast 2013-01-28     submersible      \n",
       "4  Lake Victoria           2011-07-13     gravity          \n",
       "\n",
       "  extraction_type_class extraction_type_group   latitude  longitude  \\\n",
       "0  gravity               gravity              -9.856322   34.938093   \n",
       "1  gravity               gravity              -2.147466   34.698766   \n",
       "2  gravity               gravity              -3.821329   37.460664   \n",
       "3  submersible           submersible          -11.155298  38.486161   \n",
       "4  gravity               gravity              -1.825359   31.130847   \n",
       "\n",
       "  management management_group payment_type  population quality_group  \\\n",
       "0  vwc        user-group       annually     109         good           \n",
       "1  wug        user-group       never pay    280         good           \n",
       "2  vwc        user-group       per bucket   250         good           \n",
       "3  vwc        user-group       never pay    58          good           \n",
       "4  other      other            never pay    0           good           \n",
       "\n",
       "       quantity quantity_group   region                source source_class  \\\n",
       "0  enough        enough         Iringa   spring                groundwater   \n",
       "1  insufficient  insufficient   Mara     rainwater harvesting  surface       \n",
       "2  enough        enough         Manyara  dam                   surface       \n",
       "3  dry           dry            Mtwara   machine dbh           groundwater   \n",
       "4  seasonal      seasonal       Kagera   rainwater harvesting  surface       \n",
       "\n",
       "            source_type water_quality              waterpoint_type  \\\n",
       "0  spring                soft          communal standpipe            \n",
       "1  rainwater harvesting  soft          communal standpipe            \n",
       "2  dam                   soft          communal standpipe multiple   \n",
       "3  borehole              soft          communal standpipe multiple   \n",
       "4  rainwater harvesting  soft          communal standpipe            \n",
       "\n",
       "  waterpoint_type_group  year  month  day  pre2011  quarterMonth  \\\n",
       "0  communal standpipe    2011  3      14   0        3              \n",
       "1  communal standpipe    2013  3      6    0        3              \n",
       "2  communal standpipe    2013  2      25   0        2              \n",
       "3  communal standpipe    2013  1      28   0        1              \n",
       "4  communal standpipe    2011  7      13   0        1              \n",
       "\n",
       "   unknownNeverPaymentType  \n",
       "0  0                        \n",
       "1  1                        \n",
       "2  0                        \n",
       "3  1                        \n",
       "4  1                        "
      ]
     },
     "execution_count": 100,
     "metadata": {},
     "output_type": "execute_result"
    }
   ],
   "source": [
    "train.head()"
   ]
  },
  {
   "cell_type": "code",
   "execution_count": 98,
   "metadata": {
    "collapsed": false
   },
   "outputs": [
    {
     "ename": "ValueError",
     "evalue": "could not convert string to float: 'hand pump'",
     "output_type": "error",
     "traceback": [
      "\u001b[0;31m---------------------------------------------------------------------------\u001b[0m",
      "\u001b[0;31mValueError\u001b[0m                                Traceback (most recent call last)",
      "\u001b[0;32m<ipython-input-98-bd87d9cdcdcf>\u001b[0m in \u001b[0;36m<module>\u001b[0;34m()\u001b[0m\n\u001b[0;32m----> 1\u001b[0;31m \u001b[0mscores\u001b[0m \u001b[0;34m=\u001b[0m \u001b[0mcross_val_score\u001b[0m\u001b[0;34m(\u001b[0m\u001b[0mclf_rnf\u001b[0m\u001b[0;34m,\u001b[0m \u001b[0mtrain\u001b[0m\u001b[0;34m,\u001b[0m \u001b[0mtarget\u001b[0m\u001b[0;34m,\u001b[0m \u001b[0mcv\u001b[0m \u001b[0;34m=\u001b[0m \u001b[0;36m10\u001b[0m\u001b[0;34m)\u001b[0m\u001b[0;34m\u001b[0m\u001b[0m\n\u001b[0m",
      "\u001b[0;32m//anaconda/lib/python3.5/site-packages/sklearn/model_selection/_validation.py\u001b[0m in \u001b[0;36mcross_val_score\u001b[0;34m(estimator, X, y, groups, scoring, cv, n_jobs, verbose, fit_params, pre_dispatch)\u001b[0m\n\u001b[1;32m    340\u001b[0m                                 \u001b[0mn_jobs\u001b[0m\u001b[0;34m=\u001b[0m\u001b[0mn_jobs\u001b[0m\u001b[0;34m,\u001b[0m \u001b[0mverbose\u001b[0m\u001b[0;34m=\u001b[0m\u001b[0mverbose\u001b[0m\u001b[0;34m,\u001b[0m\u001b[0;34m\u001b[0m\u001b[0m\n\u001b[1;32m    341\u001b[0m                                 \u001b[0mfit_params\u001b[0m\u001b[0;34m=\u001b[0m\u001b[0mfit_params\u001b[0m\u001b[0;34m,\u001b[0m\u001b[0;34m\u001b[0m\u001b[0m\n\u001b[0;32m--> 342\u001b[0;31m                                 pre_dispatch=pre_dispatch)\n\u001b[0m\u001b[1;32m    343\u001b[0m     \u001b[0;32mreturn\u001b[0m \u001b[0mcv_results\u001b[0m\u001b[0;34m[\u001b[0m\u001b[0;34m'test_score'\u001b[0m\u001b[0;34m]\u001b[0m\u001b[0;34m\u001b[0m\u001b[0m\n\u001b[1;32m    344\u001b[0m \u001b[0;34m\u001b[0m\u001b[0m\n",
      "\u001b[0;32m//anaconda/lib/python3.5/site-packages/sklearn/model_selection/_validation.py\u001b[0m in \u001b[0;36mcross_validate\u001b[0;34m(estimator, X, y, groups, scoring, cv, n_jobs, verbose, fit_params, pre_dispatch, return_train_score)\u001b[0m\n\u001b[1;32m    204\u001b[0m             \u001b[0mfit_params\u001b[0m\u001b[0;34m,\u001b[0m \u001b[0mreturn_train_score\u001b[0m\u001b[0;34m=\u001b[0m\u001b[0mreturn_train_score\u001b[0m\u001b[0;34m,\u001b[0m\u001b[0;34m\u001b[0m\u001b[0m\n\u001b[1;32m    205\u001b[0m             return_times=True)\n\u001b[0;32m--> 206\u001b[0;31m         for train, test in cv.split(X, y, groups))\n\u001b[0m\u001b[1;32m    207\u001b[0m \u001b[0;34m\u001b[0m\u001b[0m\n\u001b[1;32m    208\u001b[0m     \u001b[0;32mif\u001b[0m \u001b[0mreturn_train_score\u001b[0m\u001b[0;34m:\u001b[0m\u001b[0;34m\u001b[0m\u001b[0m\n",
      "\u001b[0;32m//anaconda/lib/python3.5/site-packages/sklearn/externals/joblib/parallel.py\u001b[0m in \u001b[0;36m__call__\u001b[0;34m(self, iterable)\u001b[0m\n\u001b[1;32m    777\u001b[0m             \u001b[0;31m# was dispatched. In particular this covers the edge\u001b[0m\u001b[0;34m\u001b[0m\u001b[0;34m\u001b[0m\u001b[0m\n\u001b[1;32m    778\u001b[0m             \u001b[0;31m# case of Parallel used with an exhausted iterator.\u001b[0m\u001b[0;34m\u001b[0m\u001b[0;34m\u001b[0m\u001b[0m\n\u001b[0;32m--> 779\u001b[0;31m             \u001b[0;32mwhile\u001b[0m \u001b[0mself\u001b[0m\u001b[0;34m.\u001b[0m\u001b[0mdispatch_one_batch\u001b[0m\u001b[0;34m(\u001b[0m\u001b[0miterator\u001b[0m\u001b[0;34m)\u001b[0m\u001b[0;34m:\u001b[0m\u001b[0;34m\u001b[0m\u001b[0m\n\u001b[0m\u001b[1;32m    780\u001b[0m                 \u001b[0mself\u001b[0m\u001b[0;34m.\u001b[0m\u001b[0m_iterating\u001b[0m \u001b[0;34m=\u001b[0m \u001b[0;32mTrue\u001b[0m\u001b[0;34m\u001b[0m\u001b[0m\n\u001b[1;32m    781\u001b[0m             \u001b[0;32melse\u001b[0m\u001b[0;34m:\u001b[0m\u001b[0;34m\u001b[0m\u001b[0m\n",
      "\u001b[0;32m//anaconda/lib/python3.5/site-packages/sklearn/externals/joblib/parallel.py\u001b[0m in \u001b[0;36mdispatch_one_batch\u001b[0;34m(self, iterator)\u001b[0m\n\u001b[1;32m    623\u001b[0m                 \u001b[0;32mreturn\u001b[0m \u001b[0;32mFalse\u001b[0m\u001b[0;34m\u001b[0m\u001b[0m\n\u001b[1;32m    624\u001b[0m             \u001b[0;32melse\u001b[0m\u001b[0;34m:\u001b[0m\u001b[0;34m\u001b[0m\u001b[0m\n\u001b[0;32m--> 625\u001b[0;31m                 \u001b[0mself\u001b[0m\u001b[0;34m.\u001b[0m\u001b[0m_dispatch\u001b[0m\u001b[0;34m(\u001b[0m\u001b[0mtasks\u001b[0m\u001b[0;34m)\u001b[0m\u001b[0;34m\u001b[0m\u001b[0m\n\u001b[0m\u001b[1;32m    626\u001b[0m                 \u001b[0;32mreturn\u001b[0m \u001b[0;32mTrue\u001b[0m\u001b[0;34m\u001b[0m\u001b[0m\n\u001b[1;32m    627\u001b[0m \u001b[0;34m\u001b[0m\u001b[0m\n",
      "\u001b[0;32m//anaconda/lib/python3.5/site-packages/sklearn/externals/joblib/parallel.py\u001b[0m in \u001b[0;36m_dispatch\u001b[0;34m(self, batch)\u001b[0m\n\u001b[1;32m    586\u001b[0m         \u001b[0mdispatch_timestamp\u001b[0m \u001b[0;34m=\u001b[0m \u001b[0mtime\u001b[0m\u001b[0;34m.\u001b[0m\u001b[0mtime\u001b[0m\u001b[0;34m(\u001b[0m\u001b[0;34m)\u001b[0m\u001b[0;34m\u001b[0m\u001b[0m\n\u001b[1;32m    587\u001b[0m         \u001b[0mcb\u001b[0m \u001b[0;34m=\u001b[0m \u001b[0mBatchCompletionCallBack\u001b[0m\u001b[0;34m(\u001b[0m\u001b[0mdispatch_timestamp\u001b[0m\u001b[0;34m,\u001b[0m \u001b[0mlen\u001b[0m\u001b[0;34m(\u001b[0m\u001b[0mbatch\u001b[0m\u001b[0;34m)\u001b[0m\u001b[0;34m,\u001b[0m \u001b[0mself\u001b[0m\u001b[0;34m)\u001b[0m\u001b[0;34m\u001b[0m\u001b[0m\n\u001b[0;32m--> 588\u001b[0;31m         \u001b[0mjob\u001b[0m \u001b[0;34m=\u001b[0m \u001b[0mself\u001b[0m\u001b[0;34m.\u001b[0m\u001b[0m_backend\u001b[0m\u001b[0;34m.\u001b[0m\u001b[0mapply_async\u001b[0m\u001b[0;34m(\u001b[0m\u001b[0mbatch\u001b[0m\u001b[0;34m,\u001b[0m \u001b[0mcallback\u001b[0m\u001b[0;34m=\u001b[0m\u001b[0mcb\u001b[0m\u001b[0;34m)\u001b[0m\u001b[0;34m\u001b[0m\u001b[0m\n\u001b[0m\u001b[1;32m    589\u001b[0m         \u001b[0mself\u001b[0m\u001b[0;34m.\u001b[0m\u001b[0m_jobs\u001b[0m\u001b[0;34m.\u001b[0m\u001b[0mappend\u001b[0m\u001b[0;34m(\u001b[0m\u001b[0mjob\u001b[0m\u001b[0;34m)\u001b[0m\u001b[0;34m\u001b[0m\u001b[0m\n\u001b[1;32m    590\u001b[0m \u001b[0;34m\u001b[0m\u001b[0m\n",
      "\u001b[0;32m//anaconda/lib/python3.5/site-packages/sklearn/externals/joblib/_parallel_backends.py\u001b[0m in \u001b[0;36mapply_async\u001b[0;34m(self, func, callback)\u001b[0m\n\u001b[1;32m    109\u001b[0m     \u001b[0;32mdef\u001b[0m \u001b[0mapply_async\u001b[0m\u001b[0;34m(\u001b[0m\u001b[0mself\u001b[0m\u001b[0;34m,\u001b[0m \u001b[0mfunc\u001b[0m\u001b[0;34m,\u001b[0m \u001b[0mcallback\u001b[0m\u001b[0;34m=\u001b[0m\u001b[0;32mNone\u001b[0m\u001b[0;34m)\u001b[0m\u001b[0;34m:\u001b[0m\u001b[0;34m\u001b[0m\u001b[0m\n\u001b[1;32m    110\u001b[0m         \u001b[0;34m\"\"\"Schedule a func to be run\"\"\"\u001b[0m\u001b[0;34m\u001b[0m\u001b[0m\n\u001b[0;32m--> 111\u001b[0;31m         \u001b[0mresult\u001b[0m \u001b[0;34m=\u001b[0m \u001b[0mImmediateResult\u001b[0m\u001b[0;34m(\u001b[0m\u001b[0mfunc\u001b[0m\u001b[0;34m)\u001b[0m\u001b[0;34m\u001b[0m\u001b[0m\n\u001b[0m\u001b[1;32m    112\u001b[0m         \u001b[0;32mif\u001b[0m \u001b[0mcallback\u001b[0m\u001b[0;34m:\u001b[0m\u001b[0;34m\u001b[0m\u001b[0m\n\u001b[1;32m    113\u001b[0m             \u001b[0mcallback\u001b[0m\u001b[0;34m(\u001b[0m\u001b[0mresult\u001b[0m\u001b[0;34m)\u001b[0m\u001b[0;34m\u001b[0m\u001b[0m\n",
      "\u001b[0;32m//anaconda/lib/python3.5/site-packages/sklearn/externals/joblib/_parallel_backends.py\u001b[0m in \u001b[0;36m__init__\u001b[0;34m(self, batch)\u001b[0m\n\u001b[1;32m    330\u001b[0m         \u001b[0;31m# Don't delay the application, to avoid keeping the input\u001b[0m\u001b[0;34m\u001b[0m\u001b[0;34m\u001b[0m\u001b[0m\n\u001b[1;32m    331\u001b[0m         \u001b[0;31m# arguments in memory\u001b[0m\u001b[0;34m\u001b[0m\u001b[0;34m\u001b[0m\u001b[0m\n\u001b[0;32m--> 332\u001b[0;31m         \u001b[0mself\u001b[0m\u001b[0;34m.\u001b[0m\u001b[0mresults\u001b[0m \u001b[0;34m=\u001b[0m \u001b[0mbatch\u001b[0m\u001b[0;34m(\u001b[0m\u001b[0;34m)\u001b[0m\u001b[0;34m\u001b[0m\u001b[0m\n\u001b[0m\u001b[1;32m    333\u001b[0m \u001b[0;34m\u001b[0m\u001b[0m\n\u001b[1;32m    334\u001b[0m     \u001b[0;32mdef\u001b[0m \u001b[0mget\u001b[0m\u001b[0;34m(\u001b[0m\u001b[0mself\u001b[0m\u001b[0;34m)\u001b[0m\u001b[0;34m:\u001b[0m\u001b[0;34m\u001b[0m\u001b[0m\n",
      "\u001b[0;32m//anaconda/lib/python3.5/site-packages/sklearn/externals/joblib/parallel.py\u001b[0m in \u001b[0;36m__call__\u001b[0;34m(self)\u001b[0m\n\u001b[1;32m    129\u001b[0m \u001b[0;34m\u001b[0m\u001b[0m\n\u001b[1;32m    130\u001b[0m     \u001b[0;32mdef\u001b[0m \u001b[0m__call__\u001b[0m\u001b[0;34m(\u001b[0m\u001b[0mself\u001b[0m\u001b[0;34m)\u001b[0m\u001b[0;34m:\u001b[0m\u001b[0;34m\u001b[0m\u001b[0m\n\u001b[0;32m--> 131\u001b[0;31m         \u001b[0;32mreturn\u001b[0m \u001b[0;34m[\u001b[0m\u001b[0mfunc\u001b[0m\u001b[0;34m(\u001b[0m\u001b[0;34m*\u001b[0m\u001b[0margs\u001b[0m\u001b[0;34m,\u001b[0m \u001b[0;34m**\u001b[0m\u001b[0mkwargs\u001b[0m\u001b[0;34m)\u001b[0m \u001b[0;32mfor\u001b[0m \u001b[0mfunc\u001b[0m\u001b[0;34m,\u001b[0m \u001b[0margs\u001b[0m\u001b[0;34m,\u001b[0m \u001b[0mkwargs\u001b[0m \u001b[0;32min\u001b[0m \u001b[0mself\u001b[0m\u001b[0;34m.\u001b[0m\u001b[0mitems\u001b[0m\u001b[0;34m]\u001b[0m\u001b[0;34m\u001b[0m\u001b[0m\n\u001b[0m\u001b[1;32m    132\u001b[0m \u001b[0;34m\u001b[0m\u001b[0m\n\u001b[1;32m    133\u001b[0m     \u001b[0;32mdef\u001b[0m \u001b[0m__len__\u001b[0m\u001b[0;34m(\u001b[0m\u001b[0mself\u001b[0m\u001b[0;34m)\u001b[0m\u001b[0;34m:\u001b[0m\u001b[0;34m\u001b[0m\u001b[0m\n",
      "\u001b[0;32m//anaconda/lib/python3.5/site-packages/sklearn/externals/joblib/parallel.py\u001b[0m in \u001b[0;36m<listcomp>\u001b[0;34m(.0)\u001b[0m\n\u001b[1;32m    129\u001b[0m \u001b[0;34m\u001b[0m\u001b[0m\n\u001b[1;32m    130\u001b[0m     \u001b[0;32mdef\u001b[0m \u001b[0m__call__\u001b[0m\u001b[0;34m(\u001b[0m\u001b[0mself\u001b[0m\u001b[0;34m)\u001b[0m\u001b[0;34m:\u001b[0m\u001b[0;34m\u001b[0m\u001b[0m\n\u001b[0;32m--> 131\u001b[0;31m         \u001b[0;32mreturn\u001b[0m \u001b[0;34m[\u001b[0m\u001b[0mfunc\u001b[0m\u001b[0;34m(\u001b[0m\u001b[0;34m*\u001b[0m\u001b[0margs\u001b[0m\u001b[0;34m,\u001b[0m \u001b[0;34m**\u001b[0m\u001b[0mkwargs\u001b[0m\u001b[0;34m)\u001b[0m \u001b[0;32mfor\u001b[0m \u001b[0mfunc\u001b[0m\u001b[0;34m,\u001b[0m \u001b[0margs\u001b[0m\u001b[0;34m,\u001b[0m \u001b[0mkwargs\u001b[0m \u001b[0;32min\u001b[0m \u001b[0mself\u001b[0m\u001b[0;34m.\u001b[0m\u001b[0mitems\u001b[0m\u001b[0;34m]\u001b[0m\u001b[0;34m\u001b[0m\u001b[0m\n\u001b[0m\u001b[1;32m    132\u001b[0m \u001b[0;34m\u001b[0m\u001b[0m\n\u001b[1;32m    133\u001b[0m     \u001b[0;32mdef\u001b[0m \u001b[0m__len__\u001b[0m\u001b[0;34m(\u001b[0m\u001b[0mself\u001b[0m\u001b[0;34m)\u001b[0m\u001b[0;34m:\u001b[0m\u001b[0;34m\u001b[0m\u001b[0m\n",
      "\u001b[0;32m//anaconda/lib/python3.5/site-packages/sklearn/model_selection/_validation.py\u001b[0m in \u001b[0;36m_fit_and_score\u001b[0;34m(estimator, X, y, scorer, train, test, verbose, parameters, fit_params, return_train_score, return_parameters, return_n_test_samples, return_times, error_score)\u001b[0m\n\u001b[1;32m    456\u001b[0m             \u001b[0mestimator\u001b[0m\u001b[0;34m.\u001b[0m\u001b[0mfit\u001b[0m\u001b[0;34m(\u001b[0m\u001b[0mX_train\u001b[0m\u001b[0;34m,\u001b[0m \u001b[0;34m**\u001b[0m\u001b[0mfit_params\u001b[0m\u001b[0;34m)\u001b[0m\u001b[0;34m\u001b[0m\u001b[0m\n\u001b[1;32m    457\u001b[0m         \u001b[0;32melse\u001b[0m\u001b[0;34m:\u001b[0m\u001b[0;34m\u001b[0m\u001b[0m\n\u001b[0;32m--> 458\u001b[0;31m             \u001b[0mestimator\u001b[0m\u001b[0;34m.\u001b[0m\u001b[0mfit\u001b[0m\u001b[0;34m(\u001b[0m\u001b[0mX_train\u001b[0m\u001b[0;34m,\u001b[0m \u001b[0my_train\u001b[0m\u001b[0;34m,\u001b[0m \u001b[0;34m**\u001b[0m\u001b[0mfit_params\u001b[0m\u001b[0;34m)\u001b[0m\u001b[0;34m\u001b[0m\u001b[0m\n\u001b[0m\u001b[1;32m    459\u001b[0m \u001b[0;34m\u001b[0m\u001b[0m\n\u001b[1;32m    460\u001b[0m     \u001b[0;32mexcept\u001b[0m \u001b[0mException\u001b[0m \u001b[0;32mas\u001b[0m \u001b[0me\u001b[0m\u001b[0;34m:\u001b[0m\u001b[0;34m\u001b[0m\u001b[0m\n",
      "\u001b[0;32m//anaconda/lib/python3.5/site-packages/sklearn/ensemble/forest.py\u001b[0m in \u001b[0;36mfit\u001b[0;34m(self, X, y, sample_weight)\u001b[0m\n\u001b[1;32m    245\u001b[0m         \"\"\"\n\u001b[1;32m    246\u001b[0m         \u001b[0;31m# Validate or convert input data\u001b[0m\u001b[0;34m\u001b[0m\u001b[0;34m\u001b[0m\u001b[0m\n\u001b[0;32m--> 247\u001b[0;31m         \u001b[0mX\u001b[0m \u001b[0;34m=\u001b[0m \u001b[0mcheck_array\u001b[0m\u001b[0;34m(\u001b[0m\u001b[0mX\u001b[0m\u001b[0;34m,\u001b[0m \u001b[0maccept_sparse\u001b[0m\u001b[0;34m=\u001b[0m\u001b[0;34m\"csc\"\u001b[0m\u001b[0;34m,\u001b[0m \u001b[0mdtype\u001b[0m\u001b[0;34m=\u001b[0m\u001b[0mDTYPE\u001b[0m\u001b[0;34m)\u001b[0m\u001b[0;34m\u001b[0m\u001b[0m\n\u001b[0m\u001b[1;32m    248\u001b[0m         \u001b[0my\u001b[0m \u001b[0;34m=\u001b[0m \u001b[0mcheck_array\u001b[0m\u001b[0;34m(\u001b[0m\u001b[0my\u001b[0m\u001b[0;34m,\u001b[0m \u001b[0maccept_sparse\u001b[0m\u001b[0;34m=\u001b[0m\u001b[0;34m'csc'\u001b[0m\u001b[0;34m,\u001b[0m \u001b[0mensure_2d\u001b[0m\u001b[0;34m=\u001b[0m\u001b[0;32mFalse\u001b[0m\u001b[0;34m,\u001b[0m \u001b[0mdtype\u001b[0m\u001b[0;34m=\u001b[0m\u001b[0;32mNone\u001b[0m\u001b[0;34m)\u001b[0m\u001b[0;34m\u001b[0m\u001b[0m\n\u001b[1;32m    249\u001b[0m         \u001b[0;32mif\u001b[0m \u001b[0msample_weight\u001b[0m \u001b[0;32mis\u001b[0m \u001b[0;32mnot\u001b[0m \u001b[0;32mNone\u001b[0m\u001b[0;34m:\u001b[0m\u001b[0;34m\u001b[0m\u001b[0m\n",
      "\u001b[0;32m//anaconda/lib/python3.5/site-packages/sklearn/utils/validation.py\u001b[0m in \u001b[0;36mcheck_array\u001b[0;34m(array, accept_sparse, dtype, order, copy, force_all_finite, ensure_2d, allow_nd, ensure_min_samples, ensure_min_features, warn_on_dtype, estimator)\u001b[0m\n\u001b[1;32m    431\u001b[0m                                       force_all_finite)\n\u001b[1;32m    432\u001b[0m     \u001b[0;32melse\u001b[0m\u001b[0;34m:\u001b[0m\u001b[0;34m\u001b[0m\u001b[0m\n\u001b[0;32m--> 433\u001b[0;31m         \u001b[0marray\u001b[0m \u001b[0;34m=\u001b[0m \u001b[0mnp\u001b[0m\u001b[0;34m.\u001b[0m\u001b[0marray\u001b[0m\u001b[0;34m(\u001b[0m\u001b[0marray\u001b[0m\u001b[0;34m,\u001b[0m \u001b[0mdtype\u001b[0m\u001b[0;34m=\u001b[0m\u001b[0mdtype\u001b[0m\u001b[0;34m,\u001b[0m \u001b[0morder\u001b[0m\u001b[0;34m=\u001b[0m\u001b[0morder\u001b[0m\u001b[0;34m,\u001b[0m \u001b[0mcopy\u001b[0m\u001b[0;34m=\u001b[0m\u001b[0mcopy\u001b[0m\u001b[0;34m)\u001b[0m\u001b[0;34m\u001b[0m\u001b[0m\n\u001b[0m\u001b[1;32m    434\u001b[0m \u001b[0;34m\u001b[0m\u001b[0m\n\u001b[1;32m    435\u001b[0m         \u001b[0;32mif\u001b[0m \u001b[0mensure_2d\u001b[0m\u001b[0;34m:\u001b[0m\u001b[0;34m\u001b[0m\u001b[0m\n",
      "\u001b[0;31mValueError\u001b[0m: could not convert string to float: 'hand pump'"
     ]
    }
   ],
   "source": [
    "scores = cross_val_score(clf_rnf, train, target, cv = 10)"
   ]
  },
  {
   "cell_type": "code",
   "execution_count": null,
   "metadata": {
    "collapsed": true
   },
   "outputs": [],
   "source": [
    "print(scores)\n",
    "print(scores.mean())"
   ]
  }
 ],
 "metadata": {
  "kernelspec": {
   "display_name": "Python 3",
   "language": "python",
   "name": "python3"
  },
  "language_info": {
   "codemirror_mode": {
    "name": "ipython",
    "version": 3
   },
   "file_extension": ".py",
   "mimetype": "text/x-python",
   "name": "python",
   "nbconvert_exporter": "python",
   "pygments_lexer": "ipython3",
   "version": "3.5.2"
  }
 },
 "nbformat": 4,
 "nbformat_minor": 1
}
