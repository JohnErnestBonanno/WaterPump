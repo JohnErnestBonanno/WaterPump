{
 "cells": [
  {
   "cell_type": "code",
   "execution_count": 1,
   "metadata": {
    "collapsed": true
   },
   "outputs": [],
   "source": [
    "#import statements\n",
    "\n",
    "#standard imports\n",
    "import pandas as pd\n",
    "import matplotlib.pyplot as plt\n",
    "import seaborn as sns\n",
    "import numpy as np\n",
    "\n",
    "#standard sklearn imports\n",
    "from sklearn.model_selection import train_test_split\n",
    "from sklearn import preprocessing\n",
    "\n",
    "#sklearn algorithms\n",
    "from sklearn import tree\n",
    "from sklearn.ensemble import RandomForestClassifier\n",
    "\n",
    "%matplotlib inline"
   ]
  },
  {
   "cell_type": "code",
   "execution_count": 2,
   "metadata": {
    "collapsed": true
   },
   "outputs": [],
   "source": [
    "#format pandas for reading\n",
    "pd.set_option('display.max_columns',50)\n",
    "pd.set_option('display.max_colwidth', -1)"
   ]
  },
  {
   "cell_type": "code",
   "execution_count": 3,
   "metadata": {
    "collapsed": false
   },
   "outputs": [],
   "source": [
    "trainTest = pd.read_csv('trainTest.csv',low_memory = False)"
   ]
  },
  {
   "cell_type": "code",
   "execution_count": 4,
   "metadata": {
    "collapsed": true
   },
   "outputs": [],
   "source": [
    "train = trainTest[trainTest['dataType'] == 'train'].copy()\n",
    "test = trainTest[trainTest['dataType'] == 'test'].copy()"
   ]
  },
  {
   "cell_type": "code",
   "execution_count": 6,
   "metadata": {
    "collapsed": false
   },
   "outputs": [
    {
     "data": {
      "text/plain": [
       "0    functional    \n",
       "1    functional    \n",
       "2    functional    \n",
       "3    non functional\n",
       "4    functional    \n",
       "Name: status_group, dtype: object"
      ]
     },
     "execution_count": 6,
     "metadata": {},
     "output_type": "execute_result"
    }
   ],
   "source": [
    "train.status_group.head()"
   ]
  },
  {
   "cell_type": "code",
   "execution_count": 7,
   "metadata": {
    "collapsed": true
   },
   "outputs": [],
   "source": [
    "#load label encoder\n",
    "le = preprocessing.LabelEncoder()"
   ]
  },
  {
   "cell_type": "code",
   "execution_count": 8,
   "metadata": {
    "collapsed": false
   },
   "outputs": [],
   "source": [
    "#apply label encoder to train data\n",
    "train = train.apply(le.fit_transform)\n",
    "\n",
    "#apply label encoder to test data\n",
    "#test = test.apply(le.fit_transform)"
   ]
  },
  {
   "cell_type": "code",
   "execution_count": 9,
   "metadata": {
    "collapsed": false
   },
   "outputs": [
    {
     "data": {
      "text/plain": [
       "0    0\n",
       "1    0\n",
       "2    0\n",
       "3    2\n",
       "4    0\n",
       "Name: status_group, dtype: int64"
      ]
     },
     "execution_count": 9,
     "metadata": {},
     "output_type": "execute_result"
    }
   ],
   "source": [
    "train.status_group.head()"
   ]
  },
  {
   "cell_type": "code",
   "execution_count": 14,
   "metadata": {
    "collapsed": true
   },
   "outputs": [],
   "source": [
    "tel = {'jack': 4098, 'sape': 4139}"
   ]
  },
  {
   "cell_type": "code",
   "execution_count": 16,
   "metadata": {
    "collapsed": false
   },
   "outputs": [
    {
     "data": {
      "text/plain": [
       "4098"
      ]
     },
     "execution_count": 16,
     "metadata": {},
     "output_type": "execute_result"
    }
   ],
   "source": [
    "tel['jack']"
   ]
  },
  {
   "cell_type": "code",
   "execution_count": 21,
   "metadata": {
    "collapsed": false
   },
   "outputs": [],
   "source": [
    "status_group_labels = {0:'functional',\n",
    "                       1:'functional needs repair',\n",
    "                       2:'nonfunctional'}"
   ]
  },
  {
   "cell_type": "code",
   "execution_count": 22,
   "metadata": {
    "collapsed": true
   },
   "outputs": [],
   "source": [
    "#create target variable for validation\n",
    "target = train.status_group\n",
    "\n",
    "#remove target variable from train\n",
    "train = train.drop(['status_group','dataType'],axis =1)"
   ]
  },
  {
   "cell_type": "code",
   "execution_count": 23,
   "metadata": {
    "collapsed": true
   },
   "outputs": [],
   "source": [
    "#create training & test data for validation\n",
    "xTrain, xTest, yTrain, yTest = train_test_split(train,target, test_size = .3)\n",
    "\n",
    "#splits data set into 2 groups of 2 groups\n",
    "\n",
    "#Group 1: train & test\n",
    "#Group 2: x & y\n",
    "\n",
    "#Group 1:\n",
    "#train has 70% of the data according to test_size and test has the remaining 30%\n",
    "#train is what you use to fit the model\n",
    "#test is what you validate it on\n",
    "\n",
    "#Group 2:\n",
    "#x entire data frame to train the model \n",
    "#y the target variables for the model \n",
    "\n",
    "# xTrain inputs for determining yTrain to fit the model\n",
    "# yTest inputs for trying to predict yTest to validate the model"
   ]
  },
  {
   "cell_type": "code",
   "execution_count": 24,
   "metadata": {
    "collapsed": false
   },
   "outputs": [
    {
     "name": "stdout",
     "output_type": "stream",
     "text": [
      "(41580, 36) (41580,)\n",
      "(17820, 36) (17820,)\n"
     ]
    }
   ],
   "source": [
    "print(xTrain.shape, yTrain.shape)\n",
    "print(xTest.shape, yTest.shape)"
   ]
  },
  {
   "cell_type": "code",
   "execution_count": 25,
   "metadata": {
    "collapsed": false
   },
   "outputs": [],
   "source": [
    "#import tree\n",
    "clf_tree = tree.DecisionTreeClassifier()\n",
    "clf_rnf = RandomForestClassifier()"
   ]
  },
  {
   "cell_type": "code",
   "execution_count": 26,
   "metadata": {
    "collapsed": false
   },
   "outputs": [],
   "source": [
    "#fit model\n",
    "model_tree = clf_tree.fit(xTrain,yTrain)\n",
    "model_rnf = clf_rnf.fit(xTrain,yTrain)"
   ]
  },
  {
   "cell_type": "code",
   "execution_count": 27,
   "metadata": {
    "collapsed": true
   },
   "outputs": [],
   "source": [
    "#make predictions\n",
    "predictions_tree = model_tree.predict(xTest)\n",
    "predictions_rnf = model_rnf.predict(xTest)"
   ]
  },
  {
   "cell_type": "code",
   "execution_count": 28,
   "metadata": {
    "collapsed": false
   },
   "outputs": [
    {
     "name": "stdout",
     "output_type": "stream",
     "text": [
      "[2 2 0 0 0 2 2 0 0 0 0 0 0 2 2 2 2 0 2 2 0 2 0 0 2 2 0 0 0 0]\n",
      "[2 2 0 0 0 0 2 0 2 0 0 1 0 2 2 2 2 0 0 0 0 2 0 0 2 0 0 0 0 0]\n"
     ]
    }
   ],
   "source": [
    "#contains a list of predictions for the model\n",
    "print(predictions_tree[0:30])\n",
    "print(predictions_rnf[0:30])"
   ]
  },
  {
   "cell_type": "code",
   "execution_count": 29,
   "metadata": {
    "collapsed": false
   },
   "outputs": [],
   "source": [
    "model_dif = (predictions_tree == predictions_rnf)"
   ]
  },
  {
   "cell_type": "code",
   "execution_count": 30,
   "metadata": {
    "collapsed": false
   },
   "outputs": [
    {
     "data": {
      "text/plain": [
       "2864"
      ]
     },
     "execution_count": 30,
     "metadata": {},
     "output_type": "execute_result"
    }
   ],
   "source": [
    "model_dif.tolist().count(False)\n",
    "#number of instances where rnf disagrees with decision tree"
   ]
  },
  {
   "cell_type": "code",
   "execution_count": 31,
   "metadata": {
    "collapsed": false
   },
   "outputs": [
    {
     "data": {
      "text/plain": [
       "0.16071829405162738"
      ]
     },
     "execution_count": 31,
     "metadata": {},
     "output_type": "execute_result"
    }
   ],
   "source": [
    "model_dif.tolist().count(False)/len(model_dif)\n",
    "#a little more than 14% of the data"
   ]
  },
  {
   "cell_type": "code",
   "execution_count": 32,
   "metadata": {
    "collapsed": false
   },
   "outputs": [],
   "source": [
    "#accuracy score import\n",
    "from sklearn.metrics import accuracy_score\n",
    "\n",
    "#print(tree_model.score(xTest,yTest))\n",
    "#for the tree model, here is how well you predict yTest, given inputs of xTest\n",
    "\n",
    "#print(accuracy_score(yTest,predictions))\n",
    "#here is how the actual values of yTest compare with your predictions"
   ]
  },
  {
   "cell_type": "code",
   "execution_count": 33,
   "metadata": {
    "collapsed": false
   },
   "outputs": [
    {
     "name": "stdout",
     "output_type": "stream",
     "text": [
      "0.751122334456\n",
      "0.788383838384\n"
     ]
    }
   ],
   "source": [
    "print(accuracy_score(yTest,predictions_tree))\n",
    "print(accuracy_score(yTest,predictions_rnf))\n",
    "#find that Random Forest is more accurate\n",
    "#also seems that rnf changes a little bit"
   ]
  },
  {
   "cell_type": "code",
   "execution_count": 35,
   "metadata": {
    "collapsed": true
   },
   "outputs": [],
   "source": [
    "#import confusion matrix\n",
    "from sklearn.metrics import confusion_matrix"
   ]
  },
  {
   "cell_type": "code",
   "execution_count": 36,
   "metadata": {
    "collapsed": false
   },
   "outputs": [
    {
     "name": "stdout",
     "output_type": "stream",
     "text": [
      "[[8483  286  942]\n",
      " [ 692  466  189]\n",
      " [1489  173 5100]]\n"
     ]
    }
   ],
   "source": [
    "#confusion matrix\n",
    "#diagonals are correct predictions\n",
    "#off diagonals are false positives/false negatives\n",
    "\n",
    "cm = confusion_matrix(yTest,predictions_rnf)\n",
    "print(cm)"
   ]
  },
  {
   "cell_type": "code",
   "execution_count": 40,
   "metadata": {
    "collapsed": false
   },
   "outputs": [
    {
     "data": {
      "text/plain": [
       "<matplotlib.axes._subplots.AxesSubplot at 0x111600630>"
      ]
     },
     "execution_count": 40,
     "metadata": {},
     "output_type": "execute_result"
    },
    {
     "data": {
      "image/png": "[encoded data removed]",
      "text/plain": [
       "<Figure size 1080x432 with 2 Axes>"
      ]
     },
     "metadata": {},
     "output_type": "display_data"
    }
   ],
   "source": [
    "plt.rcParams['figure.figsize']=(15,6)\n",
    "sns.heatmap(cm, annot=True, fmt='g')\n",
    "#lighter the color, the more right it is\n",
    "#biggest problem: incorrect classification of functional(0) as nonfunctional(2)\n",
    "#2nd biggest: incorrect nonfunctional(2) as functional(0)\n",
    "#3rd problems classification of functional needs repair "
   ]
  },
  {
   "cell_type": "code",
   "execution_count": 38,
   "metadata": {
    "collapsed": false
   },
   "outputs": [
    {
     "data": {
      "text/plain": [
       "{0: 'functional', 1: 'functional needs repair', 2: 'nonfunctional'}"
      ]
     },
     "execution_count": 38,
     "metadata": {},
     "output_type": "execute_result"
    }
   ],
   "source": [
    "status_group_labels"
   ]
  },
  {
   "cell_type": "code",
   "execution_count": null,
   "metadata": {
    "collapsed": true
   },
   "outputs": [],
   "source": [
    "#http://scikit-learn.org/stable/tutorial/statistical_inference/model_selection.html\n",
    "#https://elitedatascience.com/python-machine-learning-tutorial-scikit-learn#step-4"
   ]
  },
  {
   "cell_type": "code",
   "execution_count": 41,
   "metadata": {
    "collapsed": true
   },
   "outputs": [],
   "source": [
    "#Cross Validation\n",
    "from sklearn.model_selection import KFold # import KFold"
   ]
  },
  {
   "cell_type": "code",
   "execution_count": null,
   "metadata": {
    "collapsed": true
   },
   "outputs": [],
   "source": [
    "#look at this to try and explore kfolds tutorial\n",
    "#http://scikit-learn.org/stable/tutorial/statistical_inference/model_selection.html"
   ]
  },
  {
   "cell_type": "code",
   "execution_count": null,
   "metadata": {
    "collapsed": true
   },
   "outputs": [],
   "source": [
    "#need to split it out ahead of time\n",
    "\n",
    "\"\"\"\n",
    ">>> import numpy as np\n",
    ">>> X_folds = np.array_split(X_digits, 3) #inputs\n",
    ">>> y_folds = np.array_split(y_digits, 3) #outputs\n",
    ">>> scores = list()\n",
    ">>> for k in range(3):\n",
    "...     # We use 'list' to copy, in order to 'pop' later on\n",
    "...     X_train = list(X_folds)\n",
    "...     X_test  = X_train.pop(k)\n",
    "...     X_train = np.concatenate(X_train)\n",
    "...     y_train = list(y_folds)\n",
    "...     y_test  = y_train.pop(k)\n",
    "...     y_train = np.concatenate(y_train)\n",
    "...     scores.append(svc.fit(X_train, y_train).score(X_test, y_test))\n",
    ">>> print(scores)\n",
    "[0.93489148580968284, 0.95659432387312182, 0.93989983305509184]\n",
    "\"\"\""
   ]
  }
 ],
 "metadata": {
  "kernelspec": {
   "display_name": "Python 3",
   "language": "python",
   "name": "python3"
  },
  "language_info": {
   "codemirror_mode": {
    "name": "ipython",
    "version": 3
   },
   "file_extension": ".py",
   "mimetype": "text/x-python",
   "name": "python",
   "nbconvert_exporter": "python",
   "pygments_lexer": "ipython3",
   "version": "3.5.2"
  }
 },
 "nbformat": 4,
 "nbformat_minor": 2
}
