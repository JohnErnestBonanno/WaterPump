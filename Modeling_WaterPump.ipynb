{
 "cells": [
  {
   "cell_type": "code",
   "execution_count": 1,
   "metadata": {
    "collapsed": true
   },
   "outputs": [],
   "source": [
    "#import statements\n",
    "\n",
    "#standard imports\n",
    "import pandas as pd\n",
    "import matplotlib.pyplot as plt\n",
    "import seaborn as sns\n",
    "import numpy as np\n",
    "\n",
    "#standard sklearn imports\n",
    "from sklearn.model_selection import train_test_split\n",
    "from sklearn import preprocessing\n",
    "\n",
    "#sklearn algorithms\n",
    "from sklearn import tree\n",
    "from sklearn.ensemble import RandomForestClassifier\n",
    "\n",
    "%matplotlib inline"
   ]
  },
  {
   "cell_type": "code",
   "execution_count": 2,
   "metadata": {
    "collapsed": true
   },
   "outputs": [],
   "source": [
    "#format pandas for reading\n",
    "pd.set_option('display.max_columns',50)\n",
    "pd.set_option('display.max_colwidth', -1)"
   ]
  },
  {
   "cell_type": "code",
   "execution_count": 3,
   "metadata": {},
   "outputs": [],
   "source": [
    "trainTest = pd.read_csv('trainTest.csv',low_memory = False)"
   ]
  },
  {
   "cell_type": "code",
   "execution_count": 4,
   "metadata": {
    "collapsed": true
   },
   "outputs": [],
   "source": [
    "train = trainTest[trainTest['dataType'] == 'train'].copy()\n",
    "test = trainTest[trainTest['dataType'] == 'test'].copy()"
   ]
  },
  {
   "cell_type": "code",
   "execution_count": 5,
   "metadata": {},
   "outputs": [
    {
     "data": {
      "text/plain": [
       "0    functional    \n",
       "1    functional    \n",
       "2    functional    \n",
       "3    non functional\n",
       "4    functional    \n",
       "Name: status_group, dtype: object"
      ]
     },
     "execution_count": 5,
     "metadata": {},
     "output_type": "execute_result"
    }
   ],
   "source": [
    "train.status_group.head()"
   ]
  },
  {
   "cell_type": "code",
   "execution_count": 6,
   "metadata": {
    "collapsed": true
   },
   "outputs": [],
   "source": [
    "#load label encoder\n",
    "le = preprocessing.LabelEncoder()"
   ]
  },
  {
   "cell_type": "code",
   "execution_count": 7,
   "metadata": {},
   "outputs": [],
   "source": [
    "#apply label encoder to train data\n",
    "train = train.apply(le.fit_transform)\n",
    "\n",
    "#apply label encoder to test data\n",
    "#test = test.apply(le.fit_transform)"
   ]
  },
  {
   "cell_type": "code",
   "execution_count": 8,
   "metadata": {},
   "outputs": [
    {
     "data": {
      "text/plain": [
       "0    0\n",
       "1    0\n",
       "2    0\n",
       "3    2\n",
       "4    0\n",
       "Name: status_group, dtype: int64"
      ]
     },
     "execution_count": 8,
     "metadata": {},
     "output_type": "execute_result"
    }
   ],
   "source": [
    "train.status_group.head()"
   ]
  },
  {
   "cell_type": "code",
   "execution_count": 9,
   "metadata": {},
   "outputs": [],
   "source": [
    "status_group_labels = {0:'functional',\n",
    "                       1:'functional needs repair',\n",
    "                       2:'nonfunctional'}"
   ]
  },
  {
   "cell_type": "code",
   "execution_count": 10,
   "metadata": {
    "collapsed": true
   },
   "outputs": [],
   "source": [
    "#create target variable for validation\n",
    "target = train.status_group\n",
    "\n",
    "#remove target variable from train\n",
    "train = train.drop(['status_group','dataType'],axis =1)"
   ]
  },
  {
   "cell_type": "code",
   "execution_count": null,
   "metadata": {
    "collapsed": true
   },
   "outputs": [],
   "source": [
    "#consider setting random state to see if things get better?"
   ]
  },
  {
   "cell_type": "code",
   "execution_count": 11,
   "metadata": {
    "collapsed": true
   },
   "outputs": [],
   "source": [
    "#create training & test data for validation\n",
    "xTrain, xTest, yTrain, yTest = train_test_split(train,target, test_size = .3)\n",
    "\n",
    "#splits data set into 2 groups of 2 groups\n",
    "\n",
    "#Group 1: train & test\n",
    "#Group 2: x & y\n",
    "\n",
    "#Group 1:\n",
    "#train has 70% of the data according to test_size and test has the remaining 30%\n",
    "#train is what you use to fit the model\n",
    "#test is what you validate it on\n",
    "\n",
    "#Group 2:\n",
    "#x entire data frame to train the model \n",
    "#y the target variables for the model \n",
    "\n",
    "# xTrain inputs for determining yTrain to fit the model\n",
    "# yTest inputs for trying to predict yTest to validate the model"
   ]
  },
  {
   "cell_type": "code",
   "execution_count": 12,
   "metadata": {},
   "outputs": [
    {
     "name": "stdout",
     "output_type": "stream",
     "text": [
      "(41580, 36) (41580,)\n",
      "(17820, 36) (17820,)\n"
     ]
    }
   ],
   "source": [
    "print(xTrain.shape, yTrain.shape)\n",
    "print(xTest.shape, yTest.shape)"
   ]
  },
  {
   "cell_type": "code",
   "execution_count": 13,
   "metadata": {},
   "outputs": [],
   "source": [
    "#import tree\n",
    "clf_tree = tree.DecisionTreeClassifier()\n",
    "clf_rnf = RandomForestClassifier()"
   ]
  },
  {
   "cell_type": "code",
   "execution_count": 14,
   "metadata": {},
   "outputs": [],
   "source": [
    "#fit model\n",
    "model_tree = clf_tree.fit(xTrain,yTrain)\n",
    "model_rnf = clf_rnf.fit(xTrain,yTrain)"
   ]
  },
  {
   "cell_type": "code",
   "execution_count": 15,
   "metadata": {
    "collapsed": true
   },
   "outputs": [],
   "source": [
    "#make predictions\n",
    "predictions_tree = model_tree.predict(xTest)\n",
    "predictions_rnf = model_rnf.predict(xTest)"
   ]
  },
  {
   "cell_type": "code",
   "execution_count": 16,
   "metadata": {},
   "outputs": [
    {
     "name": "stdout",
     "output_type": "stream",
     "text": [
      "[2 2 0 1 0 0 2 0 0 0 2 0 2 0 0 0 1 0 2 0 2 0 0 0 0 2 2 0 0 0]\n",
      "[2 0 0 2 0 0 2 0 0 0 0 0 2 0 0 1 1 0 2 2 2 0 0 0 2 2 2 2 0 0]\n"
     ]
    }
   ],
   "source": [
    "#contains a list of predictions for the model\n",
    "print(predictions_tree[0:30])\n",
    "print(predictions_rnf[0:30])"
   ]
  },
  {
   "cell_type": "code",
   "execution_count": 17,
   "metadata": {},
   "outputs": [],
   "source": [
    "model_dif = (predictions_tree == predictions_rnf)"
   ]
  },
  {
   "cell_type": "code",
   "execution_count": 18,
   "metadata": {},
   "outputs": [
    {
     "data": {
      "text/plain": [
       "2733"
      ]
     },
     "execution_count": 18,
     "metadata": {},
     "output_type": "execute_result"
    }
   ],
   "source": [
    "model_dif.tolist().count(False)\n",
    "#number of instances where rnf disagrees with decision tree"
   ]
  },
  {
   "cell_type": "code",
   "execution_count": 19,
   "metadata": {},
   "outputs": [
    {
     "data": {
      "text/plain": [
       "0.15336700336700337"
      ]
     },
     "execution_count": 19,
     "metadata": {},
     "output_type": "execute_result"
    }
   ],
   "source": [
    "model_dif.tolist().count(False)/len(model_dif)\n",
    "#a little more than 14% of the data"
   ]
  },
  {
   "cell_type": "code",
   "execution_count": 20,
   "metadata": {},
   "outputs": [],
   "source": [
    "#accuracy score import\n",
    "from sklearn.metrics import accuracy_score\n",
    "\n",
    "#print(tree_model.score(xTest,yTest))\n",
    "#for the tree model, here is how well you predict yTest, given inputs of xTest\n",
    "\n",
    "#print(accuracy_score(yTest,predictions))\n",
    "#here is how the actual values of yTest compare with your predictions"
   ]
  },
  {
   "cell_type": "code",
   "execution_count": 21,
   "metadata": {},
   "outputs": [
    {
     "name": "stdout",
     "output_type": "stream",
     "text": [
      "0.751795735129\n",
      "0.790909090909\n"
     ]
    }
   ],
   "source": [
    "print(accuracy_score(yTest,predictions_tree))\n",
    "print(accuracy_score(yTest,predictions_rnf))\n",
    "#find that Random Forest is more accurate\n",
    "#also seems that rnf changes a little bit"
   ]
  },
  {
   "cell_type": "code",
   "execution_count": 22,
   "metadata": {
    "collapsed": true
   },
   "outputs": [],
   "source": [
    "#import confusion matrix\n",
    "from sklearn.metrics import confusion_matrix"
   ]
  },
  {
   "cell_type": "code",
   "execution_count": 23,
   "metadata": {},
   "outputs": [
    {
     "name": "stdout",
     "output_type": "stream",
     "text": [
      "[[8407  342  883]\n",
      " [ 683  454  188]\n",
      " [1488  142 5233]]\n"
     ]
    }
   ],
   "source": [
    "#confusion matrix\n",
    "#diagonals are correct predictions\n",
    "#off diagonals are false positives/false negatives\n",
    "\n",
    "cm = confusion_matrix(yTest,predictions_rnf)\n",
    "print(cm)"
   ]
  },
  {
   "cell_type": "code",
   "execution_count": 24,
   "metadata": {},
   "outputs": [
    {
     "data": {
      "text/plain": [
       "<matplotlib.axes._subplots.AxesSubplot at 0x15f5b1d16a0>"
      ]
     },
     "execution_count": 24,
     "metadata": {},
     "output_type": "execute_result"
    },
    {
     "data": {
      "image/png": "[encoded data removed]",
      "text/plain": [
       "<Figure size 1080x432 with 2 Axes>"
      ]
     },
     "metadata": {},
     "output_type": "display_data"
    }
   ],
   "source": [
    "plt.rcParams['figure.figsize']=(15,6)\n",
    "sns.heatmap(cm, annot=True, fmt='g')\n",
    "#lighter the color, the more right it is\n",
    "#biggest problem: incorrect classification of functional(0) as nonfunctional(2)\n",
    "#2nd biggest: incorrect nonfunctional(2) as functional(0)\n",
    "#3rd problems classification of functional needs repair "
   ]
  },
  {
   "cell_type": "code",
   "execution_count": 25,
   "metadata": {},
   "outputs": [
    {
     "data": {
      "text/plain": [
       "{0: 'functional', 1: 'functional needs repair', 2: 'nonfunctional'}"
      ]
     },
     "execution_count": 25,
     "metadata": {},
     "output_type": "execute_result"
    }
   ],
   "source": [
    "status_group_labels"
   ]
  },
  {
   "cell_type": "code",
   "execution_count": 26,
   "metadata": {
    "collapsed": true
   },
   "outputs": [],
   "source": [
    "#http://scikit-learn.org/stable/tutorial/statistical_inference/model_selection.html\n",
    "#https://elitedatascience.com/python-machine-learning-tutorial-scikit-learn#step-4"
   ]
  },
  {
   "cell_type": "code",
   "execution_count": 28,
   "metadata": {
    "collapsed": true
   },
   "outputs": [],
   "source": [
    "#look at this to try and explore kfolds tutorial\n",
    "#http://scikit-learn.org/stable/tutorial/statistical_inference/model_selection.html"
   ]
  },
  {
   "cell_type": "code",
   "execution_count": 47,
   "metadata": {},
   "outputs": [
    {
     "name": "stdout",
     "output_type": "stream",
     "text": [
      "[0.80134680134680136, 0.80353535353535355, 0.79713804713804715, 0.79074074074074074, 0.81178451178451183, 0.79360269360269364, 0.80959595959595965, 0.79090909090909089, 0.79074074074074074, 0.80000000000000004]\n",
      "0.798939393939\n"
     ]
    }
   ],
   "source": [
    "#need to split it out ahead of time\n",
    "folds = 10\n",
    "\n",
    "X_folds = np.array_split(train, folds) #inputs\n",
    "y_folds = np.array_split(target, folds) #outputs\n",
    "scores = list()\n",
    "\n",
    "for k in range(folds):\n",
    "     # We use 'list' to copy, in order to 'pop' later on\n",
    "        #pop returns the element present at the given index\n",
    "        #but removes the element at the given index and updates the list\n",
    "        \n",
    "        #in other words, pop simuletanously\n",
    "        #creates the test data by returning the index\n",
    "        #updates the train data by removing the test from it\n",
    "     X_train = list(X_folds)\n",
    "     X_test  = X_train.pop(k) \n",
    "     X_train = np.concatenate(X_train) #joins the 2 train arrays into a single array\n",
    "     y_train = list(y_folds)\n",
    "     y_test  = y_train.pop(k)\n",
    "     y_train = np.concatenate(y_train)\n",
    "     scores.append(clf_rnf.fit(X_train, y_train).score(X_test, y_test))\n",
    "print(scores)\n",
    "print(np.mean(scores))"
   ]
  },
  {
   "cell_type": "code",
   "execution_count": 48,
   "metadata": {},
   "outputs": [
    {
     "name": "stdout",
     "output_type": "stream",
     "text": [
      "[ 0.80306346  0.80525164  0.79599394  0.7926275   0.80740741  0.79141414\n",
      "  0.8043771   0.78582253  0.78986361  0.80010104]\n",
      "0.797592238244\n"
     ]
    }
   ],
   "source": [
    "#this does the same thing as above, but in less code (I think)\n",
    "\n",
    "#http://scikit-learn.org/stable/modules/cross_validation.html\n",
    "clf_rnf = RandomForestClassifier()\n",
    "scores = cross_val_score(clf_rnf, train, target, cv =10)\n",
    "print(scores) #gives each of the scores\n",
    "print(scores.mean()) #averages everything out\n",
    "\n",
    "#does am I fitting the model during this step?  Or just seeing if it is working?"
   ]
  },
  {
   "cell_type": "code",
   "execution_count": 50,
   "metadata": {},
   "outputs": [
    {
     "name": "stdout",
     "output_type": "stream",
     "text": [
      "0.001686180084772297\n"
     ]
    }
   ],
   "source": [
    "#so functionally the same\n",
    "v1 = 0.798939393939\n",
    "v2 = 0.797592238244\n",
    "print((v1-v2)/v1)\n"
   ]
  },
  {
   "cell_type": "code",
   "execution_count": null,
   "metadata": {},
   "outputs": [],
   "source": [
    "#so how does this work\n",
    "#my understanding\n",
    "\n",
    "#fit/trained the rnf 10 different times, but they are independent and didn't affect one another\n",
    "#now need to average the results - is this a straight average?  Or does something else happen?"
   ]
  },
  {
   "cell_type": "code",
   "execution_count": 30,
   "metadata": {
    "collapsed": true
   },
   "outputs": [],
   "source": [
    "#Cross Validation Imports\n",
    "from sklearn.model_selection import KFold, cross_val_score"
   ]
  },
  {
   "cell_type": "code",
   "execution_count": 51,
   "metadata": {
    "collapsed": true
   },
   "outputs": [],
   "source": [
    "from sklearn.model_selection import cross_val_predict"
   ]
  },
  {
   "cell_type": "code",
   "execution_count": 52,
   "metadata": {
    "collapsed": true
   },
   "outputs": [],
   "source": [
    "predictions2 = cross_val_predict(clf_rnf,train,target,cv=10)"
   ]
  },
  {
   "cell_type": "code",
   "execution_count": 53,
   "metadata": {},
   "outputs": [
    {
     "data": {
      "text/plain": [
       "0.79868686868686867"
      ]
     },
     "execution_count": 53,
     "metadata": {},
     "output_type": "execute_result"
    }
   ],
   "source": [
    "from sklearn import metrics\n",
    "metrics.accuracy_score(target, predictions2)"
   ]
  },
  {
   "cell_type": "code",
   "execution_count": 35,
   "metadata": {},
   "outputs": [
    {
     "name": "stdout",
     "output_type": "stream",
     "text": [
      "Train: [19800 19801 19802 ..., 59397 59398 59399] | test: [    0     1     2 ..., 19797 19798 19799]\n",
      "Train: [    0     1     2 ..., 59397 59398 59399] | test: [19800 19801 19802 ..., 39597 39598 39599]\n",
      "Train: [    0     1     2 ..., 39597 39598 39599] | test: [39600 39601 39602 ..., 59397 59398 59399]\n"
     ]
    }
   ],
   "source": [
    "#example 2 splitting the data using k_fold split?  \n",
    "X = train\n",
    "k_fold = KFold(n_splits=3)\n",
    "for train_indices, test_indices in k_fold.split(X): #Generate indices to split data into training and test set\n",
    "      print('Train: %s | test: %s' % (train_indices, test_indices))"
   ]
  }
 ],
 "metadata": {
  "kernelspec": {
   "display_name": "Python 3",
   "language": "python",
   "name": "python3"
  },
  "language_info": {
   "codemirror_mode": {
    "name": "ipython",
    "version": 3
   },
   "file_extension": ".py",
   "mimetype": "text/x-python",
   "name": "python",
   "nbconvert_exporter": "python",
   "pygments_lexer": "ipython3",
   "version": "3.6.3"
  }
 },
 "nbformat": 4,
 "nbformat_minor": 2
}
