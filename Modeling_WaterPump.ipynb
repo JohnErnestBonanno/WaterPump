{
 "cells": [
  {
   "cell_type": "code",
   "execution_count": 1,
   "metadata": {
    "collapsed": true
   },
   "outputs": [],
   "source": [
    "#import statements\n",
    "\n",
    "#standard imports\n",
    "import pandas as pd\n",
    "import matplotlib.pyplot as plt\n",
    "import seaborn as sns\n",
    "import numpy as np\n",
    "\n",
    "#standard sklearn imports\n",
    "from sklearn.model_selection import train_test_split\n",
    "from sklearn import preprocessing\n",
    "\n",
    "#sklearn algorithms\n",
    "from sklearn import tree\n",
    "from sklearn.ensemble import RandomForestClassifier\n",
    "\n",
    "%matplotlib inline"
   ]
  },
  {
   "cell_type": "code",
   "execution_count": 2,
   "metadata": {
    "collapsed": true
   },
   "outputs": [],
   "source": [
    "#format pandas for reading\n",
    "pd.set_option('display.max_columns',50)\n",
    "pd.set_option('display.max_colwidth', -1)"
   ]
  },
  {
   "cell_type": "code",
   "execution_count": 3,
   "metadata": {
    "collapsed": false
   },
   "outputs": [],
   "source": [
    "trainTest = pd.read_csv('trainTest.csv',low_memory = False)"
   ]
  },
  {
   "cell_type": "code",
   "execution_count": 4,
   "metadata": {
    "collapsed": true
   },
   "outputs": [],
   "source": [
    "train = trainTest[trainTest['dataType'] == 'train'].copy()\n",
    "test = trainTest[trainTest['dataType'] == 'test'].copy()"
   ]
  },
  {
   "cell_type": "code",
   "execution_count": 5,
   "metadata": {
    "collapsed": true
   },
   "outputs": [],
   "source": [
    "#load label encoder\n",
    "le = preprocessing.LabelEncoder()"
   ]
  },
  {
   "cell_type": "code",
   "execution_count": 6,
   "metadata": {
    "collapsed": false
   },
   "outputs": [],
   "source": [
    "#apply label encoder to train data\n",
    "train = train.apply(le.fit_transform)\n",
    "\n",
    "#apply label encoder to test data\n",
    "#test = test.apply(le.fit_transform)"
   ]
  },
  {
   "cell_type": "code",
   "execution_count": 7,
   "metadata": {
    "collapsed": false
   },
   "outputs": [
    {
     "data": {
      "text/html": [
       "<div>\n",
       "<style scoped>\n",
       "    .dataframe tbody tr th:only-of-type {\n",
       "        vertical-align: middle;\n",
       "    }\n",
       "\n",
       "    .dataframe tbody tr th {\n",
       "        vertical-align: top;\n",
       "    }\n",
       "\n",
       "    .dataframe thead th {\n",
       "        text-align: right;\n",
       "    }\n",
       "</style>\n",
       "<table border=\"1\" class=\"dataframe\">\n",
       "  <thead>\n",
       "    <tr style=\"text-align: right;\">\n",
       "      <th></th>\n",
       "      <th>basin</th>\n",
       "      <th>construction_year</th>\n",
       "      <th>dataType</th>\n",
       "      <th>date_recorded</th>\n",
       "      <th>district_code</th>\n",
       "      <th>extraction_type</th>\n",
       "      <th>extraction_type_class</th>\n",
       "      <th>extraction_type_group</th>\n",
       "      <th>latitude</th>\n",
       "      <th>longitude</th>\n",
       "      <th>management</th>\n",
       "      <th>management_group</th>\n",
       "      <th>num_private</th>\n",
       "      <th>payment_type</th>\n",
       "      <th>population</th>\n",
       "      <th>quality_group</th>\n",
       "      <th>quantity</th>\n",
       "      <th>quantity_group</th>\n",
       "      <th>region</th>\n",
       "      <th>region_code</th>\n",
       "      <th>source</th>\n",
       "      <th>source_class</th>\n",
       "      <th>source_type</th>\n",
       "      <th>status_group</th>\n",
       "      <th>water_quality</th>\n",
       "      <th>waterpoint_type</th>\n",
       "      <th>waterpoint_type_group</th>\n",
       "      <th>year</th>\n",
       "      <th>month</th>\n",
       "      <th>day</th>\n",
       "      <th>pre2011</th>\n",
       "      <th>quarterMonth</th>\n",
       "      <th>otherExtractionType</th>\n",
       "      <th>unknownManagmentGroup</th>\n",
       "      <th>unknownNeverPaymentType</th>\n",
       "      <th>dryQuantityGroup</th>\n",
       "      <th>unknownQuantityGroup</th>\n",
       "      <th>otherWaterType</th>\n",
       "    </tr>\n",
       "  </thead>\n",
       "  <tbody>\n",
       "    <tr>\n",
       "      <th>0</th>\n",
       "      <td>1</td>\n",
       "      <td>40</td>\n",
       "      <td>0</td>\n",
       "      <td>47</td>\n",
       "      <td>5</td>\n",
       "      <td>3</td>\n",
       "      <td>0</td>\n",
       "      <td>1</td>\n",
       "      <td>5513</td>\n",
       "      <td>28152</td>\n",
       "      <td>7</td>\n",
       "      <td>4</td>\n",
       "      <td>0</td>\n",
       "      <td>0</td>\n",
       "      <td>109</td>\n",
       "      <td>2</td>\n",
       "      <td>1</td>\n",
       "      <td>1</td>\n",
       "      <td>3</td>\n",
       "      <td>10</td>\n",
       "      <td>8</td>\n",
       "      <td>0</td>\n",
       "      <td>6</td>\n",
       "      <td>0</td>\n",
       "      <td>6</td>\n",
       "      <td>1</td>\n",
       "      <td>1</td>\n",
       "      <td>2</td>\n",
       "      <td>2</td>\n",
       "      <td>13</td>\n",
       "      <td>0</td>\n",
       "      <td>2</td>\n",
       "      <td>0</td>\n",
       "      <td>0</td>\n",
       "      <td>0</td>\n",
       "      <td>0</td>\n",
       "      <td>0</td>\n",
       "      <td>0</td>\n",
       "    </tr>\n",
       "    <tr>\n",
       "      <th>1</th>\n",
       "      <td>4</td>\n",
       "      <td>51</td>\n",
       "      <td>0</td>\n",
       "      <td>309</td>\n",
       "      <td>2</td>\n",
       "      <td>3</td>\n",
       "      <td>0</td>\n",
       "      <td>1</td>\n",
       "      <td>53253</td>\n",
       "      <td>25573</td>\n",
       "      <td>11</td>\n",
       "      <td>4</td>\n",
       "      <td>0</td>\n",
       "      <td>2</td>\n",
       "      <td>276</td>\n",
       "      <td>2</td>\n",
       "      <td>2</td>\n",
       "      <td>2</td>\n",
       "      <td>9</td>\n",
       "      <td>19</td>\n",
       "      <td>5</td>\n",
       "      <td>1</td>\n",
       "      <td>3</td>\n",
       "      <td>0</td>\n",
       "      <td>6</td>\n",
       "      <td>1</td>\n",
       "      <td>1</td>\n",
       "      <td>4</td>\n",
       "      <td>2</td>\n",
       "      <td>5</td>\n",
       "      <td>0</td>\n",
       "      <td>2</td>\n",
       "      <td>0</td>\n",
       "      <td>0</td>\n",
       "      <td>1</td>\n",
       "      <td>0</td>\n",
       "      <td>0</td>\n",
       "      <td>0</td>\n",
       "    </tr>\n",
       "    <tr>\n",
       "      <th>2</th>\n",
       "      <td>5</td>\n",
       "      <td>50</td>\n",
       "      <td>0</td>\n",
       "      <td>300</td>\n",
       "      <td>4</td>\n",
       "      <td>3</td>\n",
       "      <td>0</td>\n",
       "      <td>1</td>\n",
       "      <td>38862</td>\n",
       "      <td>44704</td>\n",
       "      <td>7</td>\n",
       "      <td>4</td>\n",
       "      <td>0</td>\n",
       "      <td>5</td>\n",
       "      <td>247</td>\n",
       "      <td>2</td>\n",
       "      <td>1</td>\n",
       "      <td>1</td>\n",
       "      <td>8</td>\n",
       "      <td>20</td>\n",
       "      <td>0</td>\n",
       "      <td>1</td>\n",
       "      <td>1</td>\n",
       "      <td>0</td>\n",
       "      <td>6</td>\n",
       "      <td>2</td>\n",
       "      <td>1</td>\n",
       "      <td>4</td>\n",
       "      <td>1</td>\n",
       "      <td>24</td>\n",
       "      <td>0</td>\n",
       "      <td>1</td>\n",
       "      <td>0</td>\n",
       "      <td>0</td>\n",
       "      <td>0</td>\n",
       "      <td>0</td>\n",
       "      <td>0</td>\n",
       "      <td>0</td>\n",
       "    </tr>\n",
       "    <tr>\n",
       "      <th>3</th>\n",
       "      <td>7</td>\n",
       "      <td>27</td>\n",
       "      <td>0</td>\n",
       "      <td>272</td>\n",
       "      <td>17</td>\n",
       "      <td>14</td>\n",
       "      <td>5</td>\n",
       "      <td>10</td>\n",
       "      <td>474</td>\n",
       "      <td>50370</td>\n",
       "      <td>7</td>\n",
       "      <td>4</td>\n",
       "      <td>0</td>\n",
       "      <td>2</td>\n",
       "      <td>58</td>\n",
       "      <td>2</td>\n",
       "      <td>0</td>\n",
       "      <td>0</td>\n",
       "      <td>12</td>\n",
       "      <td>25</td>\n",
       "      <td>3</td>\n",
       "      <td>0</td>\n",
       "      <td>0</td>\n",
       "      <td>2</td>\n",
       "      <td>6</td>\n",
       "      <td>2</td>\n",
       "      <td>1</td>\n",
       "      <td>4</td>\n",
       "      <td>0</td>\n",
       "      <td>27</td>\n",
       "      <td>0</td>\n",
       "      <td>0</td>\n",
       "      <td>0</td>\n",
       "      <td>0</td>\n",
       "      <td>1</td>\n",
       "      <td>1</td>\n",
       "      <td>0</td>\n",
       "      <td>0</td>\n",
       "    </tr>\n",
       "    <tr>\n",
       "      <th>4</th>\n",
       "      <td>4</td>\n",
       "      <td>0</td>\n",
       "      <td>0</td>\n",
       "      <td>104</td>\n",
       "      <td>1</td>\n",
       "      <td>3</td>\n",
       "      <td>0</td>\n",
       "      <td>1</td>\n",
       "      <td>54521</td>\n",
       "      <td>4772</td>\n",
       "      <td>1</td>\n",
       "      <td>1</td>\n",
       "      <td>0</td>\n",
       "      <td>2</td>\n",
       "      <td>0</td>\n",
       "      <td>2</td>\n",
       "      <td>3</td>\n",
       "      <td>3</td>\n",
       "      <td>4</td>\n",
       "      <td>17</td>\n",
       "      <td>5</td>\n",
       "      <td>1</td>\n",
       "      <td>3</td>\n",
       "      <td>0</td>\n",
       "      <td>6</td>\n",
       "      <td>1</td>\n",
       "      <td>1</td>\n",
       "      <td>2</td>\n",
       "      <td>6</td>\n",
       "      <td>12</td>\n",
       "      <td>0</td>\n",
       "      <td>0</td>\n",
       "      <td>0</td>\n",
       "      <td>0</td>\n",
       "      <td>1</td>\n",
       "      <td>0</td>\n",
       "      <td>0</td>\n",
       "      <td>0</td>\n",
       "    </tr>\n",
       "  </tbody>\n",
       "</table>\n",
       "</div>"
      ],
      "text/plain": [
       "   basin  construction_year  dataType  date_recorded  district_code  \\\n",
       "0  1      40                 0         47             5               \n",
       "1  4      51                 0         309            2               \n",
       "2  5      50                 0         300            4               \n",
       "3  7      27                 0         272            17              \n",
       "4  4      0                  0         104            1               \n",
       "\n",
       "   extraction_type  extraction_type_class  extraction_type_group  latitude  \\\n",
       "0  3                0                      1                      5513       \n",
       "1  3                0                      1                      53253      \n",
       "2  3                0                      1                      38862      \n",
       "3  14               5                      10                     474        \n",
       "4  3                0                      1                      54521      \n",
       "\n",
       "   longitude  management  management_group  num_private  payment_type  \\\n",
       "0  28152      7           4                 0            0              \n",
       "1  25573      11          4                 0            2              \n",
       "2  44704      7           4                 0            5              \n",
       "3  50370      7           4                 0            2              \n",
       "4  4772       1           1                 0            2              \n",
       "\n",
       "   population  quality_group  quantity  quantity_group  region  region_code  \\\n",
       "0  109         2              1         1               3       10            \n",
       "1  276         2              2         2               9       19            \n",
       "2  247         2              1         1               8       20            \n",
       "3  58          2              0         0               12      25            \n",
       "4  0           2              3         3               4       17            \n",
       "\n",
       "   source  source_class  source_type  status_group  water_quality  \\\n",
       "0  8       0             6            0             6               \n",
       "1  5       1             3            0             6               \n",
       "2  0       1             1            0             6               \n",
       "3  3       0             0            2             6               \n",
       "4  5       1             3            0             6               \n",
       "\n",
       "   waterpoint_type  waterpoint_type_group  year  month  day  pre2011  \\\n",
       "0  1                1                      2     2      13   0         \n",
       "1  1                1                      4     2      5    0         \n",
       "2  2                1                      4     1      24   0         \n",
       "3  2                1                      4     0      27   0         \n",
       "4  1                1                      2     6      12   0         \n",
       "\n",
       "   quarterMonth  otherExtractionType  unknownManagmentGroup  \\\n",
       "0  2             0                    0                       \n",
       "1  2             0                    0                       \n",
       "2  1             0                    0                       \n",
       "3  0             0                    0                       \n",
       "4  0             0                    0                       \n",
       "\n",
       "   unknownNeverPaymentType  dryQuantityGroup  unknownQuantityGroup  \\\n",
       "0  0                        0                 0                      \n",
       "1  1                        0                 0                      \n",
       "2  0                        0                 0                      \n",
       "3  1                        1                 0                      \n",
       "4  1                        0                 0                      \n",
       "\n",
       "   otherWaterType  \n",
       "0  0               \n",
       "1  0               \n",
       "2  0               \n",
       "3  0               \n",
       "4  0               "
      ]
     },
     "execution_count": 7,
     "metadata": {},
     "output_type": "execute_result"
    }
   ],
   "source": [
    "train.head()"
   ]
  },
  {
   "cell_type": "code",
   "execution_count": 8,
   "metadata": {
    "collapsed": true
   },
   "outputs": [],
   "source": [
    "#create target variable for validation\n",
    "target = train.status_group\n",
    "\n",
    "#remove target variable from train\n",
    "train = train.drop(['status_group','dataType'],axis =1)"
   ]
  },
  {
   "cell_type": "code",
   "execution_count": 10,
   "metadata": {
    "collapsed": true
   },
   "outputs": [],
   "source": [
    "#create training & test data for validation\n",
    "xTrain, xTest, yTrain, yTest = train_test_split(train,target, test_size = .3)\n",
    "\n",
    "#splits data set into 2 groups of 2 groups\n",
    "\n",
    "#Group 1: train & test\n",
    "#Group 2: x & y\n",
    "\n",
    "#Group 1:\n",
    "#train has 70% of the data according to test_size and test has the remaining 30%\n",
    "#train is what you use to fit the model\n",
    "#test is what you validate it on\n",
    "\n",
    "#Group 2:\n",
    "#x entire data frame to train the model \n",
    "#y the target variables for the model \n",
    "\n",
    "# xTrain inputs for determining yTrain to fit the model\n",
    "# yTest inputs for trying to predict yTest to validate the model"
   ]
  },
  {
   "cell_type": "code",
   "execution_count": 11,
   "metadata": {
    "collapsed": false
   },
   "outputs": [
    {
     "name": "stdout",
     "output_type": "stream",
     "text": [
      "(41580, 36) (41580,)\n",
      "(17820, 36) (17820,)\n"
     ]
    }
   ],
   "source": [
    "print(xTrain.shape, yTrain.shape)\n",
    "print(xTest.shape, yTest.shape)"
   ]
  },
  {
   "cell_type": "code",
   "execution_count": 13,
   "metadata": {
    "collapsed": false
   },
   "outputs": [],
   "source": [
    "#import tree\n",
    "clf_tree = tree.DecisionTreeClassifier()\n",
    "clf_rnf = RandomForestClassifier()"
   ]
  },
  {
   "cell_type": "code",
   "execution_count": 15,
   "metadata": {
    "collapsed": false
   },
   "outputs": [],
   "source": [
    "#fit model\n",
    "model_tree = clf_tree.fit(xTrain,yTrain)\n",
    "model_rnf = clf_rnf.fit(xTrain,yTrain)"
   ]
  },
  {
   "cell_type": "code",
   "execution_count": 16,
   "metadata": {
    "collapsed": true
   },
   "outputs": [],
   "source": [
    "#make predictions\n",
    "predictions_tree = model_tree.predict(xTest)\n",
    "predictions_rnf = model_rnf.predict(xTest)"
   ]
  },
  {
   "cell_type": "code",
   "execution_count": 19,
   "metadata": {
    "collapsed": false
   },
   "outputs": [
    {
     "name": "stdout",
     "output_type": "stream",
     "text": [
      "[0 2 0 0 1 0 2 0 1 2 0 0 2 1 0 0 0 0 0 0 2 2 2 2 2 0 2 0 0 0]\n",
      "[2 2 0 0 1 0 2 0 2 2 0 0 0 1 0 0 0 0 0 0 0 2 0 0 2 0 2 2 0 0]\n"
     ]
    }
   ],
   "source": [
    "#contains a list of predictions for the model\n",
    "print(predictions_tree[0:30])\n",
    "print(predictions_rnf[0:30])"
   ]
  },
  {
   "cell_type": "code",
   "execution_count": 48,
   "metadata": {
    "collapsed": false
   },
   "outputs": [],
   "source": [
    "model_dif = (predictions_tree == predictions_rnf)"
   ]
  },
  {
   "cell_type": "code",
   "execution_count": 59,
   "metadata": {
    "collapsed": false
   },
   "outputs": [
    {
     "data": {
      "text/plain": [
       "2608"
      ]
     },
     "execution_count": 59,
     "metadata": {},
     "output_type": "execute_result"
    }
   ],
   "source": [
    "model_dif.tolist().count(False)\n",
    "#number of instances where rnf disagrees with decision tree"
   ]
  },
  {
   "cell_type": "code",
   "execution_count": 60,
   "metadata": {
    "collapsed": false
   },
   "outputs": [
    {
     "data": {
      "text/plain": [
       "0.1463524130190797"
      ]
     },
     "execution_count": 60,
     "metadata": {},
     "output_type": "execute_result"
    }
   ],
   "source": [
    "model_dif.tolist().count(False)/len(model_dif)\n",
    "#a little more than 14% of the data"
   ]
  },
  {
   "cell_type": "code",
   "execution_count": 61,
   "metadata": {
    "collapsed": false
   },
   "outputs": [],
   "source": [
    "#accuracy score import\n",
    "from sklearn.metrics import accuracy_score\n",
    "\n",
    "#print(tree_model.score(xTest,yTest))\n",
    "#for the tree model, here is how well you predict yTest, given inputs of xTest\n",
    "\n",
    "#print(accuracy_score(yTest,predictions))\n",
    "#here is how the actual values of yTest compare with your predictions"
   ]
  },
  {
   "cell_type": "code",
   "execution_count": 62,
   "metadata": {
    "collapsed": false
   },
   "outputs": [
    {
     "name": "stdout",
     "output_type": "stream",
     "text": [
      "0.758417508418\n",
      "0.795061728395\n"
     ]
    }
   ],
   "source": [
    "print(accuracy_score(yTest,predictions_tree))\n",
    "print(accuracy_score(yTest,predictions_rnf))\n",
    "#find that Random Forest is more accurate"
   ]
  },
  {
   "cell_type": "code",
   "execution_count": 63,
   "metadata": {
    "collapsed": false
   },
   "outputs": [
    {
     "data": {
      "text/plain": [
       "Text(0,0.5,'Predictions')"
      ]
     },
     "execution_count": 63,
     "metadata": {},
     "output_type": "execute_result"
    },
    {
     "data": {
      "image/png": "[encoded data removed]",
      "text/plain": [
       "<Figure size 432x288 with 1 Axes>"
      ]
     },
     "metadata": {},
     "output_type": "display_data"
    }
   ],
   "source": [
    "sns.regplot(x=yTest, \n",
    "            y=predictions_tree, \n",
    "            x_jitter=.2, \n",
    "            y_jitter=.2, \n",
    "            scatter_kws={'alpha': .05})\n",
    "plt.xlabel(\"Actual\")\n",
    "plt.ylabel(\"Predictions\")\n",
    "\n",
    "#not 100% sure what this means.  Hard to interpret"
   ]
  },
  {
   "cell_type": "code",
   "execution_count": 64,
   "metadata": {
    "collapsed": false
   },
   "outputs": [
    {
     "data": {
      "text/plain": [
       "Text(0,0.5,'Predictions')"
      ]
     },
     "execution_count": 64,
     "metadata": {},
     "output_type": "execute_result"
    },
    {
     "data": {
      "image/png": "[encoded data removed]",
      "text/plain": [
       "<Figure size 432x288 with 1 Axes>"
      ]
     },
     "metadata": {},
     "output_type": "display_data"
    }
   ],
   "source": [
    "sns.regplot(x=yTest, \n",
    "            y=predictions_rnf, \n",
    "            x_jitter=.2, \n",
    "            y_jitter=.2, \n",
    "            scatter_kws={'alpha': .05})\n",
    "plt.xlabel(\"Actual\")\n",
    "plt.ylabel(\"Predictions\")"
   ]
  },
  {
   "cell_type": "code",
   "execution_count": null,
   "metadata": {
    "collapsed": true
   },
   "outputs": [],
   "source": [
    "#http://scikit-learn.org/stable/tutorial/statistical_inference/model_selection.html\n",
    "#https://elitedatascience.com/python-machine-learning-tutorial-scikit-learn#step-4"
   ]
  }
 ],
 "metadata": {
  "kernelspec": {
   "display_name": "Python 3",
   "language": "python",
   "name": "python3"
  },
  "language_info": {
   "codemirror_mode": {
    "name": "ipython",
    "version": 3
   },
   "file_extension": ".py",
   "mimetype": "text/x-python",
   "name": "python",
   "nbconvert_exporter": "python",
   "pygments_lexer": "ipython3",
   "version": "3.5.2"
  }
 },
 "nbformat": 4,
 "nbformat_minor": 2
}
