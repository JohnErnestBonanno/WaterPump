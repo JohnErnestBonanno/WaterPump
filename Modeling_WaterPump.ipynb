{
 "cells": [
  {
   "cell_type": "code",
   "execution_count": 1,
   "metadata": {
    "collapsed": true
   },
   "outputs": [],
   "source": [
    "#import statements\n",
    "\n",
    "#standard imports\n",
    "import pandas as pd\n",
    "import matplotlib.pyplot as plt\n",
    "import seaborn as sns\n",
    "import numpy as np\n",
    "\n",
    "#standard sklearn imports\n",
    "from sklearn.model_selection import train_test_split\n",
    "from sklearn import preprocessing\n",
    "\n",
    "#sklearn algorithms\n",
    "from sklearn import tree\n",
    "from sklearn.ensemble import RandomForestClassifier\n",
    "from sklearn.ensemble import GradientBoostingClassifier\n",
    "\n",
    "%matplotlib inline"
   ]
  },
  {
   "cell_type": "code",
   "execution_count": 2,
   "metadata": {
    "collapsed": true
   },
   "outputs": [],
   "source": [
    "#format pandas for reading\n",
    "pd.set_option('display.max_columns',50)\n",
    "pd.set_option('display.max_colwidth', -1)"
   ]
  },
  {
   "cell_type": "code",
   "execution_count": 3,
   "metadata": {
    "collapsed": true
   },
   "outputs": [],
   "source": [
    "trainTest = pd.read_csv('trainTest.csv',low_memory = False)\n",
    "test = pd.read_csv(\"test.csv\")"
   ]
  },
  {
   "cell_type": "code",
   "execution_count": 4,
   "metadata": {
    "collapsed": true
   },
   "outputs": [],
   "source": [
    "testids = test['id']"
   ]
  },
  {
   "cell_type": "code",
   "execution_count": 5,
   "metadata": {
    "collapsed": true
   },
   "outputs": [],
   "source": [
    "train = trainTest[trainTest['dataType'] == 'train'].copy()\n",
    "test = trainTest[trainTest['dataType'] == 'test'].copy()"
   ]
  },
  {
   "cell_type": "code",
   "execution_count": 6,
   "metadata": {},
   "outputs": [
    {
     "data": {
      "text/plain": [
       "0    functional    \n",
       "1    functional    \n",
       "2    functional    \n",
       "3    non functional\n",
       "4    functional    \n",
       "Name: status_group, dtype: object"
      ]
     },
     "execution_count": 6,
     "metadata": {},
     "output_type": "execute_result"
    }
   ],
   "source": [
    "train.status_group.head()"
   ]
  },
  {
   "cell_type": "code",
   "execution_count": 7,
   "metadata": {
    "collapsed": true
   },
   "outputs": [],
   "source": [
    "#load label encoder\n",
    "le = preprocessing.LabelEncoder()"
   ]
  },
  {
   "cell_type": "code",
   "execution_count": 8,
   "metadata": {
    "collapsed": true
   },
   "outputs": [],
   "source": [
    "#apply label encoder to train data\n",
    "train = train.apply(le.fit_transform)\n",
    "\n",
    "#apply label encoder to test data\n",
    "#test = test.apply(le.fit_transform)"
   ]
  },
  {
   "cell_type": "code",
   "execution_count": 9,
   "metadata": {},
   "outputs": [
    {
     "data": {
      "text/plain": [
       "0    0\n",
       "1    0\n",
       "2    0\n",
       "3    2\n",
       "4    0\n",
       "Name: status_group, dtype: int64"
      ]
     },
     "execution_count": 9,
     "metadata": {},
     "output_type": "execute_result"
    }
   ],
   "source": [
    "train.status_group.head()"
   ]
  },
  {
   "cell_type": "code",
   "execution_count": 10,
   "metadata": {
    "collapsed": true
   },
   "outputs": [],
   "source": [
    "status_group_labels = {0:'functional',\n",
    "                       1:'functional needs repair',\n",
    "                       2:'nonfunctional'}"
   ]
  },
  {
   "cell_type": "code",
   "execution_count": 11,
   "metadata": {
    "collapsed": true
   },
   "outputs": [],
   "source": [
    "#create target variable for validation\n",
    "target = train.status_group\n",
    "\n",
    "#remove target variable from train\n",
    "train = train.drop(['status_group','dataType'],axis =1)"
   ]
  },
  {
   "cell_type": "code",
   "execution_count": 12,
   "metadata": {
    "collapsed": true
   },
   "outputs": [],
   "source": [
    "#consider setting random state to see if things get better?"
   ]
  },
  {
   "cell_type": "code",
   "execution_count": 13,
   "metadata": {
    "collapsed": true
   },
   "outputs": [],
   "source": [
    "#create training & test data for validation\n",
    "xTrain, xTest, yTrain, yTest = train_test_split(train,target, test_size = .3)\n",
    "\n",
    "#splits data set into 2 groups of 2 groups\n",
    "\n",
    "#Group 1: train & test\n",
    "#Group 2: x & y\n",
    "\n",
    "#Group 1:\n",
    "#train has 70% of the data according to test_size and test has the remaining 30%\n",
    "#train is what you use to fit the model\n",
    "#test is what you validate it on\n",
    "\n",
    "#Group 2:\n",
    "#x entire data frame to train the model \n",
    "#y the target variables for the model \n",
    "\n",
    "# xTrain inputs for determining yTrain to fit the model\n",
    "# yTest inputs for trying to predict yTest to validate the model"
   ]
  },
  {
   "cell_type": "code",
   "execution_count": 14,
   "metadata": {},
   "outputs": [
    {
     "name": "stdout",
     "output_type": "stream",
     "text": [
      "(41580, 36) (41580,)\n",
      "(17820, 36) (17820,)\n"
     ]
    }
   ],
   "source": [
    "print(xTrain.shape, yTrain.shape)\n",
    "print(xTest.shape, yTest.shape)"
   ]
  },
  {
   "cell_type": "code",
   "execution_count": 15,
   "metadata": {
    "collapsed": true
   },
   "outputs": [],
   "source": [
    "#import ML algorithms\n",
    "clf_tree = tree.DecisionTreeClassifier()\n",
    "clf_rnf = RandomForestClassifier()\n",
    "clf_gbc = GradientBoostingClassifier()"
   ]
  },
  {
   "cell_type": "code",
   "execution_count": 15,
   "metadata": {
    "collapsed": true
   },
   "outputs": [],
   "source": [
    "#fit model\n",
    "model_tree = clf_tree.fit(xTrain,yTrain)\n",
    "model_rnf = clf_rnf.fit(xTrain,yTrain)\n",
    "model_gbc = clf_gbc.fit(xTrain,yTrain)"
   ]
  },
  {
   "cell_type": "code",
   "execution_count": 16,
   "metadata": {
    "collapsed": true
   },
   "outputs": [],
   "source": [
    "#make predictions\n",
    "predictions_tree = model_tree.predict(xTest)\n",
    "predictions_rnf = model_rnf.predict(xTest)\n",
    "predictions_gbc = model_gbc.predict(xTest)"
   ]
  },
  {
   "cell_type": "code",
   "execution_count": 17,
   "metadata": {},
   "outputs": [
    {
     "name": "stdout",
     "output_type": "stream",
     "text": [
      "[0 0 0 2 0 0 0 2 0 0 0 2 2 2 2 2 0 0 1 0 2 0 2 2 0 2 0 0 0 0]\n",
      "[0 0 0 2 0 0 0 2 0 0 0 0 2 0 2 2 0 0 1 0 2 0 2 2 0 2 0 0 0 0]\n",
      "[0 0 0 2 0 0 0 2 0 0 0 0 2 0 2 2 0 0 0 0 2 0 2 0 0 2 0 0 0 0]\n"
     ]
    }
   ],
   "source": [
    "#contains a list of predictions for the model\n",
    "print(predictions_tree[0:30])\n",
    "print(predictions_rnf[0:30])\n",
    "print(predictions_gbc[0:30])"
   ]
  },
  {
   "cell_type": "code",
   "execution_count": 18,
   "metadata": {
    "collapsed": true
   },
   "outputs": [],
   "source": [
    "model_dif = (predictions_tree == predictions_rnf)"
   ]
  },
  {
   "cell_type": "code",
   "execution_count": 19,
   "metadata": {},
   "outputs": [
    {
     "data": {
      "text/plain": [
       "2733"
      ]
     },
     "execution_count": 19,
     "metadata": {},
     "output_type": "execute_result"
    }
   ],
   "source": [
    "model_dif.tolist().count(False)\n",
    "#number of instances where rnf disagrees with decision tree"
   ]
  },
  {
   "cell_type": "code",
   "execution_count": 20,
   "metadata": {},
   "outputs": [
    {
     "data": {
      "text/plain": [
       "0.15336700336700337"
      ]
     },
     "execution_count": 20,
     "metadata": {},
     "output_type": "execute_result"
    }
   ],
   "source": [
    "model_dif.tolist().count(False)/len(model_dif)\n",
    "#a little more than 14% of the data"
   ]
  },
  {
   "cell_type": "code",
   "execution_count": 21,
   "metadata": {
    "collapsed": true
   },
   "outputs": [],
   "source": [
    "#accuracy score import\n",
    "from sklearn.metrics import accuracy_score\n",
    "\n",
    "#print(tree_model.score(xTest,yTest))\n",
    "#for the tree model, here is how well you predict yTest, given inputs of xTest\n",
    "\n",
    "#print(accuracy_score(yTest,predictions))\n",
    "#here is how the actual values of yTest compare with your predictions"
   ]
  },
  {
   "cell_type": "code",
   "execution_count": 22,
   "metadata": {},
   "outputs": [
    {
     "name": "stdout",
     "output_type": "stream",
     "text": [
      "0.756060606061\n",
      "0.790965207632\n",
      "0.745510662177\n"
     ]
    }
   ],
   "source": [
    "print(accuracy_score(yTest,predictions_tree))\n",
    "print(accuracy_score(yTest,predictions_rnf))\n",
    "print(accuracy_score(yTest,predictions_gbc))\n",
    "#find that Random Forest is more accurate\n",
    "#also seems that rnf changes a little bit"
   ]
  },
  {
   "cell_type": "code",
   "execution_count": 23,
   "metadata": {
    "collapsed": true
   },
   "outputs": [],
   "source": [
    "#import confusion matrix\n",
    "from sklearn.metrics import confusion_matrix"
   ]
  },
  {
   "cell_type": "code",
   "execution_count": 24,
   "metadata": {},
   "outputs": [
    {
     "name": "stdout",
     "output_type": "stream",
     "text": [
      "[[8425  323  902]\n",
      " [ 671  449  169]\n",
      " [1497  163 5221]]\n"
     ]
    }
   ],
   "source": [
    "#confusion matrix\n",
    "#diagonals are correct predictions\n",
    "#off diagonals are false positives/false negatives\n",
    "\n",
    "cm = confusion_matrix(yTest,predictions_rnf)\n",
    "print(cm)"
   ]
  },
  {
   "cell_type": "code",
   "execution_count": 25,
   "metadata": {},
   "outputs": [
    {
     "data": {
      "text/plain": [
       "<matplotlib.axes._subplots.AxesSubplot at 0x265ea174eb8>"
      ]
     },
     "execution_count": 25,
     "metadata": {},
     "output_type": "execute_result"
    },
    {
     "data": {
      "image/png": "[encoded data removed]",
      "text/plain": [
       "<Figure size 1080x432 with 2 Axes>"
      ]
     },
     "metadata": {},
     "output_type": "display_data"
    }
   ],
   "source": [
    "plt.rcParams['figure.figsize']=(15,6)\n",
    "sns.heatmap(cm, annot=True, fmt='g')\n",
    "#lighter the color, the more right it is\n",
    "#biggest problem: incorrect classification of functional(0) as nonfunctional(2)\n",
    "#2nd biggest: incorrect nonfunctional(2) as functional(0)\n",
    "#3rd problems classification of functional needs repair "
   ]
  },
  {
   "cell_type": "code",
   "execution_count": 26,
   "metadata": {},
   "outputs": [
    {
     "data": {
      "text/plain": [
       "{0: 'functional', 1: 'functional needs repair', 2: 'nonfunctional'}"
      ]
     },
     "execution_count": 26,
     "metadata": {},
     "output_type": "execute_result"
    }
   ],
   "source": [
    "status_group_labels"
   ]
  },
  {
   "cell_type": "code",
   "execution_count": 27,
   "metadata": {
    "collapsed": true
   },
   "outputs": [],
   "source": [
    "#http://scikit-learn.org/stable/tutorial/statistical_inference/model_selection.html\n",
    "#https://elitedatascience.com/python-machine-learning-tutorial-scikit-learn#step-4"
   ]
  },
  {
   "cell_type": "code",
   "execution_count": 28,
   "metadata": {
    "collapsed": true
   },
   "outputs": [],
   "source": [
    "#look at this to try and explore kfolds tutorial\n",
    "#http://scikit-learn.org/stable/tutorial/statistical_inference/model_selection.html"
   ]
  },
  {
   "cell_type": "code",
   "execution_count": 29,
   "metadata": {},
   "outputs": [
    {
     "name": "stdout",
     "output_type": "stream",
     "text": [
      "[0.79898989898989903, 0.80555555555555558, 0.788047138047138, 0.79343434343434338, 0.8101010101010101, 0.79158249158249161, 0.80101010101010106, 0.79090909090909089, 0.80235690235690238, 0.80134680134680136]\n",
      "0.798333333333\n"
     ]
    }
   ],
   "source": [
    "#need to split it out ahead of time\n",
    "folds = 10\n",
    "\n",
    "X_folds = np.array_split(train, folds) #inputs\n",
    "y_folds = np.array_split(target, folds) #outputs\n",
    "scores = list()\n",
    "\n",
    "for k in range(folds):\n",
    "     # We use 'list' to copy, in order to 'pop' later on\n",
    "        #pop returns the element present at the given index\n",
    "        #but removes the element at the given index and updates the list\n",
    "        \n",
    "        #in other words, pop simuletanously\n",
    "        #creates the test data by returning the index\n",
    "        #updates the train data by removing the test from it\n",
    "     X_train = list(X_folds)\n",
    "     X_test  = X_train.pop(k) \n",
    "     X_train = np.concatenate(X_train) #joins the 2 train arrays into a single array\n",
    "     y_train = list(y_folds)\n",
    "     y_test  = y_train.pop(k)\n",
    "     y_train = np.concatenate(y_train)\n",
    "     scores.append(clf_rnf.fit(X_train, y_train).score(X_test, y_test))\n",
    "print(scores)\n",
    "print(np.mean(scores))"
   ]
  },
  {
   "cell_type": "code",
   "execution_count": 31,
   "metadata": {
    "collapsed": true
   },
   "outputs": [],
   "source": [
    "from sklearn.model_selection import KFold, cross_val_score"
   ]
  },
  {
   "cell_type": "code",
   "execution_count": 32,
   "metadata": {},
   "outputs": [
    {
     "name": "stdout",
     "output_type": "stream",
     "text": [
      "[ 0.80642989  0.804915    0.79128093  0.79330079  0.80218855  0.7956229\n",
      "  0.80387205  0.79272605  0.78969523  0.80262715]\n",
      "0.79826585436\n"
     ]
    }
   ],
   "source": [
    "#this does the same thing as above, but in less code (I think)\n",
    "\n",
    "#http://scikit-learn.org/stable/modules/cross_validation.html\n",
    "clf_rnf = RandomForestClassifier()\n",
    "scores = cross_val_score(clf_rnf, train, target, cv =10)\n",
    "print(scores) #gives each of the scores\n",
    "print(scores.mean()) #averages everything out\n",
    "\n",
    "#does am I fitting the model during this step?  Or just seeing if it is working?"
   ]
  },
  {
   "cell_type": "code",
   "execution_count": 39,
   "metadata": {},
   "outputs": [
    {
     "name": "stdout",
     "output_type": "stream",
     "text": [
      "Starting Folds: 3\n",
      "Kfold Average: 0.7926430976430977\n",
      "Starting Folds: 6\n",
      "Kfold Average: 0.7969862425295334\n",
      "Starting Folds: 9\n",
      "Kfold Average: 0.7982150106729878\n",
      "Starting Folds: 12\n",
      "Kfold Average: 0.7981647240180498\n",
      "Starting Folds: 15\n",
      "Kfold Average: 0.7994107751615858\n"
     ]
    }
   ],
   "source": [
    "#test to see how increase in folds modify values\n",
    "starting_folds = 3\n",
    "\n",
    "for x in range(5):\n",
    "    scores = cross_val_score(clf_rnf, train, target, cv = starting_folds)\n",
    "    print(\"Starting Folds: {}\".format(starting_folds))\n",
    "    print(\"Kfold Average: {}\".format(scores.mean()))\n",
    "    starting_folds = (starting_folds+3)"
   ]
  },
  {
   "cell_type": "code",
   "execution_count": null,
   "metadata": {
    "collapsed": true
   },
   "outputs": [],
   "source": [
    "#above shows that additional folds show the model is getting better "
   ]
  },
  {
   "cell_type": "code",
   "execution_count": null,
   "metadata": {
    "collapsed": true
   },
   "outputs": [],
   "source": [
    "#so how does this work\n",
    "#my understanding\n",
    "\n",
    "#fit/trained the rnf 10 different times, but they are independent and didn't affect one another\n",
    "#now need to average the results - is this a straight average?  Or does something else happen?"
   ]
  },
  {
   "cell_type": "code",
   "execution_count": 51,
   "metadata": {
    "collapsed": true
   },
   "outputs": [],
   "source": [
    "#from sklearn.model_selection import cross_val_predict"
   ]
  },
  {
   "cell_type": "code",
   "execution_count": 52,
   "metadata": {
    "collapsed": true
   },
   "outputs": [],
   "source": [
    "#predictions2 = cross_val_predict(clf_rnf,train,target,cv=10)"
   ]
  },
  {
   "cell_type": "code",
   "execution_count": 41,
   "metadata": {
    "collapsed": true
   },
   "outputs": [],
   "source": [
    "#from sklearn import metrics\n",
    "#metrics.accuracy_score(target, predictions2)"
   ]
  },
  {
   "cell_type": "code",
   "execution_count": 16,
   "metadata": {
    "collapsed": true
   },
   "outputs": [],
   "source": [
    "#trying hyperparatmer grid using RandomziedSearchCV\n",
    "n_estimators = [10, 20, 30, 40, 50, 60, 70, 80, 90, 100]\n",
    "\n",
    "#max_depth = [5, 10, 15, 'None']\n",
    "\n",
    "min_samples_split = [2,3,4]\n",
    "\n",
    "min_samples_leaf = [1,2,3,4]"
   ]
  },
  {
   "cell_type": "code",
   "execution_count": 17,
   "metadata": {
    "collapsed": true
   },
   "outputs": [],
   "source": [
    "hyperparameter_grid = {\n",
    "    'n_estimators': n_estimators,\n",
    "    #'max_depth': max_depth,\n",
    "    'min_samples_split': min_samples_split,\n",
    "    'min_samples_leaf': min_samples_leaf\n",
    "}"
   ]
  },
  {
   "cell_type": "code",
   "execution_count": 73,
   "metadata": {
    "collapsed": true
   },
   "outputs": [],
   "source": [
    "model_rfc = RandomForestClassifier()"
   ]
  },
  {
   "cell_type": "code",
   "execution_count": 66,
   "metadata": {
    "collapsed": true
   },
   "outputs": [],
   "source": [
    "from sklearn.model_selection import RandomizedSearchCV, GridSearchCV"
   ]
  },
  {
   "cell_type": "code",
   "execution_count": 74,
   "metadata": {
    "collapsed": true
   },
   "outputs": [],
   "source": [
    "random_cv = RandomizedSearchCV(estimator = model_rfc,\n",
    "                               param_distributions=hyperparameter_grid,\n",
    "                               cv=4, \n",
    "                               n_iter=10, \n",
    "                               scoring = 'accuracy',\n",
    "                               n_jobs = -1, verbose = 1, \n",
    "                               return_train_score = True,\n",
    "                               random_state=42)"
   ]
  },
  {
   "cell_type": "code",
   "execution_count": 75,
   "metadata": {},
   "outputs": [
    {
     "name": "stdout",
     "output_type": "stream",
     "text": [
      "Fitting 4 folds for each of 10 candidates, totalling 40 fits\n"
     ]
    },
    {
     "name": "stderr",
     "output_type": "stream",
     "text": [
      "[Parallel(n_jobs=-1)]: Done  40 out of  40 | elapsed:  1.0min finished\n"
     ]
    },
    {
     "data": {
      "text/plain": [
       "RandomizedSearchCV(cv=4, error_score='raise',\n",
       "          estimator=RandomForestClassifier(bootstrap=True, class_weight=None, criterion='gini',\n",
       "            max_depth=None, max_features='auto', max_leaf_nodes=None,\n",
       "            min_impurity_decrease=0.0, min_impurity_split=None,\n",
       "            min_samples_leaf=1, min_samples_split=2,\n",
       "            min_weight_fraction_leaf=0.0, n_estimators=10, n_jobs=1,\n",
       "            oob_score=False, random_state=None, verbose=0,\n",
       "            warm_start=False),\n",
       "          fit_params=None, iid=True, n_iter=10, n_jobs=-1,\n",
       "          param_distributions={'n_estimators': [10, 20, 30, 40, 50, 60, 70, 80, 90, 100], 'min_samples_split': [2, 3, 4], 'min_samples_leaf': [1, 2, 3, 4]},\n",
       "          pre_dispatch='2*n_jobs', random_state=42, refit=True,\n",
       "          return_train_score=True, scoring='accuracy', verbose=1)"
      ]
     },
     "execution_count": 75,
     "metadata": {},
     "output_type": "execute_result"
    }
   ],
   "source": [
    "random_cv.fit(xTrain,yTrain)\n",
    "#worked for one example \n",
    "\n",
    "#need to find what a RandomizedGrid Does"
   ]
  },
  {
   "cell_type": "code",
   "execution_count": 76,
   "metadata": {},
   "outputs": [
    {
     "data": {
      "text/plain": [
       "RandomForestClassifier(bootstrap=True, class_weight=None, criterion='gini',\n",
       "            max_depth=None, max_features='auto', max_leaf_nodes=None,\n",
       "            min_impurity_decrease=0.0, min_impurity_split=None,\n",
       "            min_samples_leaf=2, min_samples_split=4,\n",
       "            min_weight_fraction_leaf=0.0, n_estimators=60, n_jobs=1,\n",
       "            oob_score=False, random_state=None, verbose=0,\n",
       "            warm_start=False)"
      ]
     },
     "execution_count": 76,
     "metadata": {},
     "output_type": "execute_result"
    }
   ],
   "source": [
    "random_cv.best_estimator_"
   ]
  },
  {
   "cell_type": "code",
   "execution_count": null,
   "metadata": {
    "collapsed": true
   },
   "outputs": [],
   "source": [
    "#should I just make a new model with all this stuff optimized? and include it"
   ]
  },
  {
   "cell_type": "code",
   "execution_count": 18,
   "metadata": {
    "collapsed": true
   },
   "outputs": [],
   "source": [
    "clf_rnf_cv = RandomForestClassifier(bootstrap=True, class_weight=None, criterion='gini',\n",
    "            max_depth=None, max_features='auto', max_leaf_nodes=None,\n",
    "            min_impurity_decrease=0.0, min_impurity_split=None,\n",
    "            min_samples_leaf=2, min_samples_split=4,\n",
    "            min_weight_fraction_leaf=0.0, n_estimators=60, n_jobs=1,\n",
    "            oob_score=False, random_state=None, verbose=0,\n",
    "            warm_start=False)"
   ]
  },
  {
   "cell_type": "code",
   "execution_count": 79,
   "metadata": {},
   "outputs": [
    {
     "data": {
      "text/plain": [
       "RandomForestClassifier(bootstrap=True, class_weight=None, criterion='gini',\n",
       "            max_depth=None, max_features='auto', max_leaf_nodes=None,\n",
       "            min_impurity_decrease=0.0, min_impurity_split=None,\n",
       "            min_samples_leaf=2, min_samples_split=4,\n",
       "            min_weight_fraction_leaf=0.0, n_estimators=60, n_jobs=1,\n",
       "            oob_score=False, random_state=None, verbose=0,\n",
       "            warm_start=False)"
      ]
     },
     "execution_count": 79,
     "metadata": {},
     "output_type": "execute_result"
    }
   ],
   "source": [
    "clf_rnf_cv.fit(xTrain,yTrain)"
   ]
  },
  {
   "cell_type": "code",
   "execution_count": 82,
   "metadata": {
    "collapsed": true
   },
   "outputs": [],
   "source": [
    "random_cv_scores = cross_val_score(clf_rnf_cv, train, target, cv =10)"
   ]
  },
  {
   "cell_type": "code",
   "execution_count": 81,
   "metadata": {},
   "outputs": [
    {
     "name": "stdout",
     "output_type": "stream",
     "text": [
      "[ 0.80656566  0.80853535  0.80616162]\n",
      "0.807087542088\n"
     ]
    }
   ],
   "source": [
    "print(random_cv_scores)\n",
    "print(random_cv_scores.mean())"
   ]
  },
  {
   "cell_type": "code",
   "execution_count": null,
   "metadata": {
    "collapsed": true
   },
   "outputs": [],
   "source": [
    "#looks like that messing around with some of the funcitons improved the performance by a tiny amount"
   ]
  },
  {
   "cell_type": "code",
   "execution_count": null,
   "metadata": {
    "collapsed": true
   },
   "outputs": [],
   "source": [
    "#making a new prediction with all the data"
   ]
  },
  {
   "cell_type": "code",
   "execution_count": 83,
   "metadata": {},
   "outputs": [
    {
     "data": {
      "text/html": [
       "<div>\n",
       "<style scoped>\n",
       "    .dataframe tbody tr th:only-of-type {\n",
       "        vertical-align: middle;\n",
       "    }\n",
       "\n",
       "    .dataframe tbody tr th {\n",
       "        vertical-align: top;\n",
       "    }\n",
       "\n",
       "    .dataframe thead th {\n",
       "        text-align: right;\n",
       "    }\n",
       "</style>\n",
       "<table border=\"1\" class=\"dataframe\">\n",
       "  <thead>\n",
       "    <tr style=\"text-align: right;\">\n",
       "      <th></th>\n",
       "      <th>basin</th>\n",
       "      <th>construction_year</th>\n",
       "      <th>dataType</th>\n",
       "      <th>date_recorded</th>\n",
       "      <th>district_code</th>\n",
       "      <th>extraction_type</th>\n",
       "      <th>extraction_type_class</th>\n",
       "      <th>extraction_type_group</th>\n",
       "      <th>latitude</th>\n",
       "      <th>longitude</th>\n",
       "      <th>management</th>\n",
       "      <th>management_group</th>\n",
       "      <th>num_private</th>\n",
       "      <th>payment_type</th>\n",
       "      <th>population</th>\n",
       "      <th>quality_group</th>\n",
       "      <th>quantity</th>\n",
       "      <th>quantity_group</th>\n",
       "      <th>region</th>\n",
       "      <th>region_code</th>\n",
       "      <th>source</th>\n",
       "      <th>source_class</th>\n",
       "      <th>source_type</th>\n",
       "      <th>status_group</th>\n",
       "      <th>water_quality</th>\n",
       "      <th>waterpoint_type</th>\n",
       "      <th>waterpoint_type_group</th>\n",
       "      <th>year</th>\n",
       "      <th>month</th>\n",
       "      <th>day</th>\n",
       "      <th>pre2011</th>\n",
       "      <th>quarterMonth</th>\n",
       "      <th>otherExtractionType</th>\n",
       "      <th>unknownManagmentGroup</th>\n",
       "      <th>unknownNeverPaymentType</th>\n",
       "      <th>dryQuantityGroup</th>\n",
       "      <th>unknownQuantityGroup</th>\n",
       "      <th>otherWaterType</th>\n",
       "    </tr>\n",
       "  </thead>\n",
       "  <tbody>\n",
       "    <tr>\n",
       "      <th>59400</th>\n",
       "      <td>Internal</td>\n",
       "      <td>2012</td>\n",
       "      <td>test</td>\n",
       "      <td>2013-02-04</td>\n",
       "      <td>3</td>\n",
       "      <td>other</td>\n",
       "      <td>other</td>\n",
       "      <td>other</td>\n",
       "      <td>-4.059696</td>\n",
       "      <td>35.290799</td>\n",
       "      <td>parastatal</td>\n",
       "      <td>parastatal</td>\n",
       "      <td>0</td>\n",
       "      <td>never pay</td>\n",
       "      <td>321</td>\n",
       "      <td>good</td>\n",
       "      <td>seasonal</td>\n",
       "      <td>seasonal</td>\n",
       "      <td>Manyara</td>\n",
       "      <td>21</td>\n",
       "      <td>rainwater harvesting</td>\n",
       "      <td>surface</td>\n",
       "      <td>rainwater harvesting</td>\n",
       "      <td>NaN</td>\n",
       "      <td>soft</td>\n",
       "      <td>other</td>\n",
       "      <td>other</td>\n",
       "      <td>2013</td>\n",
       "      <td>2</td>\n",
       "      <td>4</td>\n",
       "      <td>0</td>\n",
       "      <td>2</td>\n",
       "      <td>1</td>\n",
       "      <td>0</td>\n",
       "      <td>1</td>\n",
       "      <td>0</td>\n",
       "      <td>0</td>\n",
       "      <td>1</td>\n",
       "    </tr>\n",
       "    <tr>\n",
       "      <th>59401</th>\n",
       "      <td>Pangani</td>\n",
       "      <td>2000</td>\n",
       "      <td>test</td>\n",
       "      <td>2013-02-04</td>\n",
       "      <td>2</td>\n",
       "      <td>gravity</td>\n",
       "      <td>gravity</td>\n",
       "      <td>gravity</td>\n",
       "      <td>-3.309214</td>\n",
       "      <td>36.656709</td>\n",
       "      <td>vwc</td>\n",
       "      <td>user-group</td>\n",
       "      <td>0</td>\n",
       "      <td>never pay</td>\n",
       "      <td>300</td>\n",
       "      <td>good</td>\n",
       "      <td>insufficient</td>\n",
       "      <td>insufficient</td>\n",
       "      <td>Arusha</td>\n",
       "      <td>2</td>\n",
       "      <td>spring</td>\n",
       "      <td>groundwater</td>\n",
       "      <td>spring</td>\n",
       "      <td>NaN</td>\n",
       "      <td>soft</td>\n",
       "      <td>communal standpipe</td>\n",
       "      <td>communal standpipe</td>\n",
       "      <td>2013</td>\n",
       "      <td>2</td>\n",
       "      <td>4</td>\n",
       "      <td>0</td>\n",
       "      <td>2</td>\n",
       "      <td>0</td>\n",
       "      <td>0</td>\n",
       "      <td>1</td>\n",
       "      <td>0</td>\n",
       "      <td>0</td>\n",
       "      <td>0</td>\n",
       "    </tr>\n",
       "    <tr>\n",
       "      <th>59402</th>\n",
       "      <td>Internal</td>\n",
       "      <td>2010</td>\n",
       "      <td>test</td>\n",
       "      <td>2013-02-01</td>\n",
       "      <td>2</td>\n",
       "      <td>other</td>\n",
       "      <td>other</td>\n",
       "      <td>other</td>\n",
       "      <td>-5.004344</td>\n",
       "      <td>34.767863</td>\n",
       "      <td>vwc</td>\n",
       "      <td>user-group</td>\n",
       "      <td>0</td>\n",
       "      <td>never pay</td>\n",
       "      <td>500</td>\n",
       "      <td>good</td>\n",
       "      <td>insufficient</td>\n",
       "      <td>insufficient</td>\n",
       "      <td>Singida</td>\n",
       "      <td>13</td>\n",
       "      <td>rainwater harvesting</td>\n",
       "      <td>surface</td>\n",
       "      <td>rainwater harvesting</td>\n",
       "      <td>NaN</td>\n",
       "      <td>soft</td>\n",
       "      <td>other</td>\n",
       "      <td>other</td>\n",
       "      <td>2013</td>\n",
       "      <td>2</td>\n",
       "      <td>1</td>\n",
       "      <td>0</td>\n",
       "      <td>2</td>\n",
       "      <td>1</td>\n",
       "      <td>0</td>\n",
       "      <td>1</td>\n",
       "      <td>0</td>\n",
       "      <td>0</td>\n",
       "      <td>1</td>\n",
       "    </tr>\n",
       "    <tr>\n",
       "      <th>59403</th>\n",
       "      <td>Ruvuma / Southern Coast</td>\n",
       "      <td>1987</td>\n",
       "      <td>test</td>\n",
       "      <td>2013-01-22</td>\n",
       "      <td>43</td>\n",
       "      <td>other</td>\n",
       "      <td>other</td>\n",
       "      <td>other</td>\n",
       "      <td>-9.418672</td>\n",
       "      <td>38.058046</td>\n",
       "      <td>vwc</td>\n",
       "      <td>user-group</td>\n",
       "      <td>0</td>\n",
       "      <td>unknown</td>\n",
       "      <td>250</td>\n",
       "      <td>good</td>\n",
       "      <td>dry</td>\n",
       "      <td>dry</td>\n",
       "      <td>Lindi</td>\n",
       "      <td>80</td>\n",
       "      <td>shallow well</td>\n",
       "      <td>groundwater</td>\n",
       "      <td>shallow well</td>\n",
       "      <td>NaN</td>\n",
       "      <td>soft</td>\n",
       "      <td>other</td>\n",
       "      <td>other</td>\n",
       "      <td>2013</td>\n",
       "      <td>1</td>\n",
       "      <td>22</td>\n",
       "      <td>0</td>\n",
       "      <td>1</td>\n",
       "      <td>1</td>\n",
       "      <td>0</td>\n",
       "      <td>1</td>\n",
       "      <td>1</td>\n",
       "      <td>0</td>\n",
       "      <td>1</td>\n",
       "    </tr>\n",
       "    <tr>\n",
       "      <th>59404</th>\n",
       "      <td>Ruvuma / Southern Coast</td>\n",
       "      <td>2000</td>\n",
       "      <td>test</td>\n",
       "      <td>2013-03-27</td>\n",
       "      <td>3</td>\n",
       "      <td>gravity</td>\n",
       "      <td>gravity</td>\n",
       "      <td>gravity</td>\n",
       "      <td>-10.950412</td>\n",
       "      <td>35.006123</td>\n",
       "      <td>water board</td>\n",
       "      <td>user-group</td>\n",
       "      <td>0</td>\n",
       "      <td>monthly</td>\n",
       "      <td>60</td>\n",
       "      <td>good</td>\n",
       "      <td>enough</td>\n",
       "      <td>enough</td>\n",
       "      <td>Ruvuma</td>\n",
       "      <td>10</td>\n",
       "      <td>spring</td>\n",
       "      <td>groundwater</td>\n",
       "      <td>spring</td>\n",
       "      <td>NaN</td>\n",
       "      <td>soft</td>\n",
       "      <td>communal standpipe</td>\n",
       "      <td>communal standpipe</td>\n",
       "      <td>2013</td>\n",
       "      <td>3</td>\n",
       "      <td>27</td>\n",
       "      <td>0</td>\n",
       "      <td>3</td>\n",
       "      <td>0</td>\n",
       "      <td>0</td>\n",
       "      <td>0</td>\n",
       "      <td>0</td>\n",
       "      <td>0</td>\n",
       "      <td>0</td>\n",
       "    </tr>\n",
       "  </tbody>\n",
       "</table>\n",
       "</div>"
      ],
      "text/plain": [
       "                         basin  construction_year dataType date_recorded  \\\n",
       "59400  Internal                 2012               test     2013-02-04     \n",
       "59401  Pangani                  2000               test     2013-02-04     \n",
       "59402  Internal                 2010               test     2013-02-01     \n",
       "59403  Ruvuma / Southern Coast  1987               test     2013-01-22     \n",
       "59404  Ruvuma / Southern Coast  2000               test     2013-03-27     \n",
       "\n",
       "       district_code extraction_type extraction_type_class  \\\n",
       "59400  3              other           other                  \n",
       "59401  2              gravity         gravity                \n",
       "59402  2              other           other                  \n",
       "59403  43             other           other                  \n",
       "59404  3              gravity         gravity                \n",
       "\n",
       "      extraction_type_group   latitude  longitude   management  \\\n",
       "59400  other                -4.059696   35.290799  parastatal    \n",
       "59401  gravity              -3.309214   36.656709  vwc           \n",
       "59402  other                -5.004344   34.767863  vwc           \n",
       "59403  other                -9.418672   38.058046  vwc           \n",
       "59404  gravity              -10.950412  35.006123  water board   \n",
       "\n",
       "      management_group  num_private payment_type  population quality_group  \\\n",
       "59400  parastatal       0            never pay    321         good           \n",
       "59401  user-group       0            never pay    300         good           \n",
       "59402  user-group       0            never pay    500         good           \n",
       "59403  user-group       0            unknown      250         good           \n",
       "59404  user-group       0            monthly      60          good           \n",
       "\n",
       "           quantity quantity_group   region  region_code  \\\n",
       "59400  seasonal      seasonal       Manyara  21            \n",
       "59401  insufficient  insufficient   Arusha   2             \n",
       "59402  insufficient  insufficient   Singida  13            \n",
       "59403  dry           dry            Lindi    80            \n",
       "59404  enough        enough         Ruvuma   10            \n",
       "\n",
       "                     source source_class           source_type status_group  \\\n",
       "59400  rainwater harvesting  surface      rainwater harvesting  NaN           \n",
       "59401  spring                groundwater  spring                NaN           \n",
       "59402  rainwater harvesting  surface      rainwater harvesting  NaN           \n",
       "59403  shallow well          groundwater  shallow well          NaN           \n",
       "59404  spring                groundwater  spring                NaN           \n",
       "\n",
       "      water_quality     waterpoint_type waterpoint_type_group  year  month  \\\n",
       "59400  soft          other               other                 2013  2       \n",
       "59401  soft          communal standpipe  communal standpipe    2013  2       \n",
       "59402  soft          other               other                 2013  2       \n",
       "59403  soft          other               other                 2013  1       \n",
       "59404  soft          communal standpipe  communal standpipe    2013  3       \n",
       "\n",
       "       day  pre2011  quarterMonth  otherExtractionType  unknownManagmentGroup  \\\n",
       "59400  4    0        2             1                    0                       \n",
       "59401  4    0        2             0                    0                       \n",
       "59402  1    0        2             1                    0                       \n",
       "59403  22   0        1             1                    0                       \n",
       "59404  27   0        3             0                    0                       \n",
       "\n",
       "       unknownNeverPaymentType  dryQuantityGroup  unknownQuantityGroup  \\\n",
       "59400  1                        0                 0                      \n",
       "59401  1                        0                 0                      \n",
       "59402  1                        0                 0                      \n",
       "59403  1                        1                 0                      \n",
       "59404  0                        0                 0                      \n",
       "\n",
       "       otherWaterType  \n",
       "59400  1               \n",
       "59401  0               \n",
       "59402  1               \n",
       "59403  1               \n",
       "59404  0               "
      ]
     },
     "execution_count": 83,
     "metadata": {},
     "output_type": "execute_result"
    }
   ],
   "source": [
    "test.head()"
   ]
  },
  {
   "cell_type": "code",
   "execution_count": 25,
   "metadata": {
    "collapsed": true
   },
   "outputs": [],
   "source": [
    "test = test.drop(['status_group','dataType'],axis =1)"
   ]
  },
  {
   "cell_type": "code",
   "execution_count": 26,
   "metadata": {},
   "outputs": [
    {
     "data": {
      "text/html": [
       "<div>\n",
       "<style scoped>\n",
       "    .dataframe tbody tr th:only-of-type {\n",
       "        vertical-align: middle;\n",
       "    }\n",
       "\n",
       "    .dataframe tbody tr th {\n",
       "        vertical-align: top;\n",
       "    }\n",
       "\n",
       "    .dataframe thead th {\n",
       "        text-align: right;\n",
       "    }\n",
       "</style>\n",
       "<table border=\"1\" class=\"dataframe\">\n",
       "  <thead>\n",
       "    <tr style=\"text-align: right;\">\n",
       "      <th></th>\n",
       "      <th>basin</th>\n",
       "      <th>construction_year</th>\n",
       "      <th>date_recorded</th>\n",
       "      <th>district_code</th>\n",
       "      <th>extraction_type</th>\n",
       "      <th>extraction_type_class</th>\n",
       "      <th>extraction_type_group</th>\n",
       "      <th>latitude</th>\n",
       "      <th>longitude</th>\n",
       "      <th>management</th>\n",
       "      <th>management_group</th>\n",
       "      <th>num_private</th>\n",
       "      <th>payment_type</th>\n",
       "      <th>population</th>\n",
       "      <th>quality_group</th>\n",
       "      <th>quantity</th>\n",
       "      <th>quantity_group</th>\n",
       "      <th>region</th>\n",
       "      <th>region_code</th>\n",
       "      <th>source</th>\n",
       "      <th>source_class</th>\n",
       "      <th>source_type</th>\n",
       "      <th>water_quality</th>\n",
       "      <th>waterpoint_type</th>\n",
       "      <th>waterpoint_type_group</th>\n",
       "      <th>year</th>\n",
       "      <th>month</th>\n",
       "      <th>day</th>\n",
       "      <th>pre2011</th>\n",
       "      <th>quarterMonth</th>\n",
       "      <th>otherExtractionType</th>\n",
       "      <th>unknownManagmentGroup</th>\n",
       "      <th>unknownNeverPaymentType</th>\n",
       "      <th>dryQuantityGroup</th>\n",
       "      <th>unknownQuantityGroup</th>\n",
       "      <th>otherWaterType</th>\n",
       "    </tr>\n",
       "  </thead>\n",
       "  <tbody>\n",
       "    <tr>\n",
       "      <th>59400</th>\n",
       "      <td>0</td>\n",
       "      <td>53</td>\n",
       "      <td>255</td>\n",
       "      <td>3</td>\n",
       "      <td>9</td>\n",
       "      <td>3</td>\n",
       "      <td>6</td>\n",
       "      <td>9393</td>\n",
       "      <td>7522</td>\n",
       "      <td>3</td>\n",
       "      <td>2</td>\n",
       "      <td>0</td>\n",
       "      <td>2</td>\n",
       "      <td>260</td>\n",
       "      <td>2</td>\n",
       "      <td>3</td>\n",
       "      <td>3</td>\n",
       "      <td>8</td>\n",
       "      <td>20</td>\n",
       "      <td>5</td>\n",
       "      <td>1</td>\n",
       "      <td>3</td>\n",
       "      <td>6</td>\n",
       "      <td>6</td>\n",
       "      <td>5</td>\n",
       "      <td>4</td>\n",
       "      <td>1</td>\n",
       "      <td>3</td>\n",
       "      <td>0</td>\n",
       "      <td>1</td>\n",
       "      <td>1</td>\n",
       "      <td>0</td>\n",
       "      <td>1</td>\n",
       "      <td>0</td>\n",
       "      <td>0</td>\n",
       "      <td>1</td>\n",
       "    </tr>\n",
       "    <tr>\n",
       "      <th>59401</th>\n",
       "      <td>5</td>\n",
       "      <td>41</td>\n",
       "      <td>255</td>\n",
       "      <td>2</td>\n",
       "      <td>3</td>\n",
       "      <td>0</td>\n",
       "      <td>1</td>\n",
       "      <td>11210</td>\n",
       "      <td>9367</td>\n",
       "      <td>7</td>\n",
       "      <td>4</td>\n",
       "      <td>0</td>\n",
       "      <td>2</td>\n",
       "      <td>248</td>\n",
       "      <td>2</td>\n",
       "      <td>2</td>\n",
       "      <td>2</td>\n",
       "      <td>0</td>\n",
       "      <td>1</td>\n",
       "      <td>8</td>\n",
       "      <td>0</td>\n",
       "      <td>6</td>\n",
       "      <td>6</td>\n",
       "      <td>1</td>\n",
       "      <td>1</td>\n",
       "      <td>4</td>\n",
       "      <td>1</td>\n",
       "      <td>3</td>\n",
       "      <td>0</td>\n",
       "      <td>1</td>\n",
       "      <td>0</td>\n",
       "      <td>0</td>\n",
       "      <td>1</td>\n",
       "      <td>0</td>\n",
       "      <td>0</td>\n",
       "      <td>0</td>\n",
       "    </tr>\n",
       "    <tr>\n",
       "      <th>59402</th>\n",
       "      <td>0</td>\n",
       "      <td>51</td>\n",
       "      <td>252</td>\n",
       "      <td>2</td>\n",
       "      <td>9</td>\n",
       "      <td>3</td>\n",
       "      <td>6</td>\n",
       "      <td>7494</td>\n",
       "      <td>6673</td>\n",
       "      <td>7</td>\n",
       "      <td>4</td>\n",
       "      <td>0</td>\n",
       "      <td>2</td>\n",
       "      <td>360</td>\n",
       "      <td>2</td>\n",
       "      <td>2</td>\n",
       "      <td>2</td>\n",
       "      <td>18</td>\n",
       "      <td>12</td>\n",
       "      <td>5</td>\n",
       "      <td>1</td>\n",
       "      <td>3</td>\n",
       "      <td>6</td>\n",
       "      <td>6</td>\n",
       "      <td>5</td>\n",
       "      <td>4</td>\n",
       "      <td>1</td>\n",
       "      <td>0</td>\n",
       "      <td>0</td>\n",
       "      <td>1</td>\n",
       "      <td>1</td>\n",
       "      <td>0</td>\n",
       "      <td>1</td>\n",
       "      <td>0</td>\n",
       "      <td>0</td>\n",
       "      <td>1</td>\n",
       "    </tr>\n",
       "    <tr>\n",
       "      <th>59403</th>\n",
       "      <td>7</td>\n",
       "      <td>28</td>\n",
       "      <td>242</td>\n",
       "      <td>13</td>\n",
       "      <td>9</td>\n",
       "      <td>3</td>\n",
       "      <td>6</td>\n",
       "      <td>1843</td>\n",
       "      <td>12106</td>\n",
       "      <td>7</td>\n",
       "      <td>4</td>\n",
       "      <td>0</td>\n",
       "      <td>6</td>\n",
       "      <td>209</td>\n",
       "      <td>2</td>\n",
       "      <td>0</td>\n",
       "      <td>0</td>\n",
       "      <td>7</td>\n",
       "      <td>23</td>\n",
       "      <td>7</td>\n",
       "      <td>0</td>\n",
       "      <td>5</td>\n",
       "      <td>6</td>\n",
       "      <td>6</td>\n",
       "      <td>5</td>\n",
       "      <td>4</td>\n",
       "      <td>0</td>\n",
       "      <td>21</td>\n",
       "      <td>0</td>\n",
       "      <td>0</td>\n",
       "      <td>1</td>\n",
       "      <td>0</td>\n",
       "      <td>1</td>\n",
       "      <td>1</td>\n",
       "      <td>0</td>\n",
       "      <td>1</td>\n",
       "    </tr>\n",
       "    <tr>\n",
       "      <th>59404</th>\n",
       "      <td>7</td>\n",
       "      <td>41</td>\n",
       "      <td>306</td>\n",
       "      <td>3</td>\n",
       "      <td>3</td>\n",
       "      <td>0</td>\n",
       "      <td>1</td>\n",
       "      <td>295</td>\n",
       "      <td>7187</td>\n",
       "      <td>9</td>\n",
       "      <td>4</td>\n",
       "      <td>0</td>\n",
       "      <td>1</td>\n",
       "      <td>52</td>\n",
       "      <td>2</td>\n",
       "      <td>1</td>\n",
       "      <td>1</td>\n",
       "      <td>16</td>\n",
       "      <td>9</td>\n",
       "      <td>8</td>\n",
       "      <td>0</td>\n",
       "      <td>6</td>\n",
       "      <td>6</td>\n",
       "      <td>1</td>\n",
       "      <td>1</td>\n",
       "      <td>4</td>\n",
       "      <td>2</td>\n",
       "      <td>26</td>\n",
       "      <td>0</td>\n",
       "      <td>2</td>\n",
       "      <td>0</td>\n",
       "      <td>0</td>\n",
       "      <td>0</td>\n",
       "      <td>0</td>\n",
       "      <td>0</td>\n",
       "      <td>0</td>\n",
       "    </tr>\n",
       "  </tbody>\n",
       "</table>\n",
       "</div>"
      ],
      "text/plain": [
       "       basin  construction_year  date_recorded  district_code  \\\n",
       "59400  0      53                 255            3               \n",
       "59401  5      41                 255            2               \n",
       "59402  0      51                 252            2               \n",
       "59403  7      28                 242            13              \n",
       "59404  7      41                 306            3               \n",
       "\n",
       "       extraction_type  extraction_type_class  extraction_type_group  \\\n",
       "59400  9                3                      6                       \n",
       "59401  3                0                      1                       \n",
       "59402  9                3                      6                       \n",
       "59403  9                3                      6                       \n",
       "59404  3                0                      1                       \n",
       "\n",
       "       latitude  longitude  management  management_group  num_private  \\\n",
       "59400  9393      7522       3           2                 0             \n",
       "59401  11210     9367       7           4                 0             \n",
       "59402  7494      6673       7           4                 0             \n",
       "59403  1843      12106      7           4                 0             \n",
       "59404  295       7187       9           4                 0             \n",
       "\n",
       "       payment_type  population  quality_group  quantity  quantity_group  \\\n",
       "59400  2             260         2              3         3                \n",
       "59401  2             248         2              2         2                \n",
       "59402  2             360         2              2         2                \n",
       "59403  6             209         2              0         0                \n",
       "59404  1             52          2              1         1                \n",
       "\n",
       "       region  region_code  source  source_class  source_type  water_quality  \\\n",
       "59400  8       20           5       1             3            6               \n",
       "59401  0       1            8       0             6            6               \n",
       "59402  18      12           5       1             3            6               \n",
       "59403  7       23           7       0             5            6               \n",
       "59404  16      9            8       0             6            6               \n",
       "\n",
       "       waterpoint_type  waterpoint_type_group  year  month  day  pre2011  \\\n",
       "59400  6                5                      4     1      3    0         \n",
       "59401  1                1                      4     1      3    0         \n",
       "59402  6                5                      4     1      0    0         \n",
       "59403  6                5                      4     0      21   0         \n",
       "59404  1                1                      4     2      26   0         \n",
       "\n",
       "       quarterMonth  otherExtractionType  unknownManagmentGroup  \\\n",
       "59400  1             1                    0                       \n",
       "59401  1             0                    0                       \n",
       "59402  1             1                    0                       \n",
       "59403  0             1                    0                       \n",
       "59404  2             0                    0                       \n",
       "\n",
       "       unknownNeverPaymentType  dryQuantityGroup  unknownQuantityGroup  \\\n",
       "59400  1                        0                 0                      \n",
       "59401  1                        0                 0                      \n",
       "59402  1                        0                 0                      \n",
       "59403  1                        1                 0                      \n",
       "59404  0                        0                 0                      \n",
       "\n",
       "       otherWaterType  \n",
       "59400  1               \n",
       "59401  0               \n",
       "59402  1               \n",
       "59403  1               \n",
       "59404  0               "
      ]
     },
     "execution_count": 26,
     "metadata": {},
     "output_type": "execute_result"
    }
   ],
   "source": [
    "test.head()"
   ]
  },
  {
   "cell_type": "code",
   "execution_count": 19,
   "metadata": {},
   "outputs": [
    {
     "data": {
      "text/html": [
       "<div>\n",
       "<style scoped>\n",
       "    .dataframe tbody tr th:only-of-type {\n",
       "        vertical-align: middle;\n",
       "    }\n",
       "\n",
       "    .dataframe tbody tr th {\n",
       "        vertical-align: top;\n",
       "    }\n",
       "\n",
       "    .dataframe thead th {\n",
       "        text-align: right;\n",
       "    }\n",
       "</style>\n",
       "<table border=\"1\" class=\"dataframe\">\n",
       "  <thead>\n",
       "    <tr style=\"text-align: right;\">\n",
       "      <th></th>\n",
       "      <th>basin</th>\n",
       "      <th>construction_year</th>\n",
       "      <th>dataType</th>\n",
       "      <th>date_recorded</th>\n",
       "      <th>district_code</th>\n",
       "      <th>extraction_type</th>\n",
       "      <th>extraction_type_class</th>\n",
       "      <th>extraction_type_group</th>\n",
       "      <th>latitude</th>\n",
       "      <th>longitude</th>\n",
       "      <th>management</th>\n",
       "      <th>management_group</th>\n",
       "      <th>num_private</th>\n",
       "      <th>payment_type</th>\n",
       "      <th>population</th>\n",
       "      <th>quality_group</th>\n",
       "      <th>quantity</th>\n",
       "      <th>quantity_group</th>\n",
       "      <th>region</th>\n",
       "      <th>region_code</th>\n",
       "      <th>source</th>\n",
       "      <th>source_class</th>\n",
       "      <th>source_type</th>\n",
       "      <th>status_group</th>\n",
       "      <th>water_quality</th>\n",
       "      <th>waterpoint_type</th>\n",
       "      <th>waterpoint_type_group</th>\n",
       "      <th>year</th>\n",
       "      <th>month</th>\n",
       "      <th>day</th>\n",
       "      <th>pre2011</th>\n",
       "      <th>quarterMonth</th>\n",
       "      <th>otherExtractionType</th>\n",
       "      <th>unknownManagmentGroup</th>\n",
       "      <th>unknownNeverPaymentType</th>\n",
       "      <th>dryQuantityGroup</th>\n",
       "      <th>unknownQuantityGroup</th>\n",
       "      <th>otherWaterType</th>\n",
       "    </tr>\n",
       "  </thead>\n",
       "  <tbody>\n",
       "    <tr>\n",
       "      <th>59400</th>\n",
       "      <td>0</td>\n",
       "      <td>53</td>\n",
       "      <td>0</td>\n",
       "      <td>255</td>\n",
       "      <td>3</td>\n",
       "      <td>9</td>\n",
       "      <td>3</td>\n",
       "      <td>6</td>\n",
       "      <td>9393</td>\n",
       "      <td>7522</td>\n",
       "      <td>3</td>\n",
       "      <td>2</td>\n",
       "      <td>0</td>\n",
       "      <td>2</td>\n",
       "      <td>260</td>\n",
       "      <td>2</td>\n",
       "      <td>3</td>\n",
       "      <td>3</td>\n",
       "      <td>8</td>\n",
       "      <td>20</td>\n",
       "      <td>5</td>\n",
       "      <td>1</td>\n",
       "      <td>3</td>\n",
       "      <td>0</td>\n",
       "      <td>6</td>\n",
       "      <td>6</td>\n",
       "      <td>5</td>\n",
       "      <td>4</td>\n",
       "      <td>1</td>\n",
       "      <td>3</td>\n",
       "      <td>0</td>\n",
       "      <td>1</td>\n",
       "      <td>1</td>\n",
       "      <td>0</td>\n",
       "      <td>1</td>\n",
       "      <td>0</td>\n",
       "      <td>0</td>\n",
       "      <td>1</td>\n",
       "    </tr>\n",
       "    <tr>\n",
       "      <th>59401</th>\n",
       "      <td>5</td>\n",
       "      <td>41</td>\n",
       "      <td>0</td>\n",
       "      <td>255</td>\n",
       "      <td>2</td>\n",
       "      <td>3</td>\n",
       "      <td>0</td>\n",
       "      <td>1</td>\n",
       "      <td>11210</td>\n",
       "      <td>9367</td>\n",
       "      <td>7</td>\n",
       "      <td>4</td>\n",
       "      <td>0</td>\n",
       "      <td>2</td>\n",
       "      <td>248</td>\n",
       "      <td>2</td>\n",
       "      <td>2</td>\n",
       "      <td>2</td>\n",
       "      <td>0</td>\n",
       "      <td>1</td>\n",
       "      <td>8</td>\n",
       "      <td>0</td>\n",
       "      <td>6</td>\n",
       "      <td>9891</td>\n",
       "      <td>6</td>\n",
       "      <td>1</td>\n",
       "      <td>1</td>\n",
       "      <td>4</td>\n",
       "      <td>1</td>\n",
       "      <td>3</td>\n",
       "      <td>0</td>\n",
       "      <td>1</td>\n",
       "      <td>0</td>\n",
       "      <td>0</td>\n",
       "      <td>1</td>\n",
       "      <td>0</td>\n",
       "      <td>0</td>\n",
       "      <td>0</td>\n",
       "    </tr>\n",
       "    <tr>\n",
       "      <th>59402</th>\n",
       "      <td>0</td>\n",
       "      <td>51</td>\n",
       "      <td>0</td>\n",
       "      <td>252</td>\n",
       "      <td>2</td>\n",
       "      <td>9</td>\n",
       "      <td>3</td>\n",
       "      <td>6</td>\n",
       "      <td>7494</td>\n",
       "      <td>6673</td>\n",
       "      <td>7</td>\n",
       "      <td>4</td>\n",
       "      <td>0</td>\n",
       "      <td>2</td>\n",
       "      <td>360</td>\n",
       "      <td>2</td>\n",
       "      <td>2</td>\n",
       "      <td>2</td>\n",
       "      <td>18</td>\n",
       "      <td>12</td>\n",
       "      <td>5</td>\n",
       "      <td>1</td>\n",
       "      <td>3</td>\n",
       "      <td>9892</td>\n",
       "      <td>6</td>\n",
       "      <td>6</td>\n",
       "      <td>5</td>\n",
       "      <td>4</td>\n",
       "      <td>1</td>\n",
       "      <td>0</td>\n",
       "      <td>0</td>\n",
       "      <td>1</td>\n",
       "      <td>1</td>\n",
       "      <td>0</td>\n",
       "      <td>1</td>\n",
       "      <td>0</td>\n",
       "      <td>0</td>\n",
       "      <td>1</td>\n",
       "    </tr>\n",
       "    <tr>\n",
       "      <th>59403</th>\n",
       "      <td>7</td>\n",
       "      <td>28</td>\n",
       "      <td>0</td>\n",
       "      <td>242</td>\n",
       "      <td>13</td>\n",
       "      <td>9</td>\n",
       "      <td>3</td>\n",
       "      <td>6</td>\n",
       "      <td>1843</td>\n",
       "      <td>12106</td>\n",
       "      <td>7</td>\n",
       "      <td>4</td>\n",
       "      <td>0</td>\n",
       "      <td>6</td>\n",
       "      <td>209</td>\n",
       "      <td>2</td>\n",
       "      <td>0</td>\n",
       "      <td>0</td>\n",
       "      <td>7</td>\n",
       "      <td>23</td>\n",
       "      <td>7</td>\n",
       "      <td>0</td>\n",
       "      <td>5</td>\n",
       "      <td>9893</td>\n",
       "      <td>6</td>\n",
       "      <td>6</td>\n",
       "      <td>5</td>\n",
       "      <td>4</td>\n",
       "      <td>0</td>\n",
       "      <td>21</td>\n",
       "      <td>0</td>\n",
       "      <td>0</td>\n",
       "      <td>1</td>\n",
       "      <td>0</td>\n",
       "      <td>1</td>\n",
       "      <td>1</td>\n",
       "      <td>0</td>\n",
       "      <td>1</td>\n",
       "    </tr>\n",
       "    <tr>\n",
       "      <th>59404</th>\n",
       "      <td>7</td>\n",
       "      <td>41</td>\n",
       "      <td>0</td>\n",
       "      <td>306</td>\n",
       "      <td>3</td>\n",
       "      <td>3</td>\n",
       "      <td>0</td>\n",
       "      <td>1</td>\n",
       "      <td>295</td>\n",
       "      <td>7187</td>\n",
       "      <td>9</td>\n",
       "      <td>4</td>\n",
       "      <td>0</td>\n",
       "      <td>1</td>\n",
       "      <td>52</td>\n",
       "      <td>2</td>\n",
       "      <td>1</td>\n",
       "      <td>1</td>\n",
       "      <td>16</td>\n",
       "      <td>9</td>\n",
       "      <td>8</td>\n",
       "      <td>0</td>\n",
       "      <td>6</td>\n",
       "      <td>9894</td>\n",
       "      <td>6</td>\n",
       "      <td>1</td>\n",
       "      <td>1</td>\n",
       "      <td>4</td>\n",
       "      <td>2</td>\n",
       "      <td>26</td>\n",
       "      <td>0</td>\n",
       "      <td>2</td>\n",
       "      <td>0</td>\n",
       "      <td>0</td>\n",
       "      <td>0</td>\n",
       "      <td>0</td>\n",
       "      <td>0</td>\n",
       "      <td>0</td>\n",
       "    </tr>\n",
       "  </tbody>\n",
       "</table>\n",
       "</div>"
      ],
      "text/plain": [
       "       basin  construction_year  dataType  date_recorded  district_code  \\\n",
       "59400  0      53                 0         255            3               \n",
       "59401  5      41                 0         255            2               \n",
       "59402  0      51                 0         252            2               \n",
       "59403  7      28                 0         242            13              \n",
       "59404  7      41                 0         306            3               \n",
       "\n",
       "       extraction_type  extraction_type_class  extraction_type_group  \\\n",
       "59400  9                3                      6                       \n",
       "59401  3                0                      1                       \n",
       "59402  9                3                      6                       \n",
       "59403  9                3                      6                       \n",
       "59404  3                0                      1                       \n",
       "\n",
       "       latitude  longitude  management  management_group  num_private  \\\n",
       "59400  9393      7522       3           2                 0             \n",
       "59401  11210     9367       7           4                 0             \n",
       "59402  7494      6673       7           4                 0             \n",
       "59403  1843      12106      7           4                 0             \n",
       "59404  295       7187       9           4                 0             \n",
       "\n",
       "       payment_type  population  quality_group  quantity  quantity_group  \\\n",
       "59400  2             260         2              3         3                \n",
       "59401  2             248         2              2         2                \n",
       "59402  2             360         2              2         2                \n",
       "59403  6             209         2              0         0                \n",
       "59404  1             52          2              1         1                \n",
       "\n",
       "       region  region_code  source  source_class  source_type  status_group  \\\n",
       "59400  8       20           5       1             3            0              \n",
       "59401  0       1            8       0             6            9891           \n",
       "59402  18      12           5       1             3            9892           \n",
       "59403  7       23           7       0             5            9893           \n",
       "59404  16      9            8       0             6            9894           \n",
       "\n",
       "       water_quality  waterpoint_type  waterpoint_type_group  year  month  \\\n",
       "59400  6              6                5                      4     1       \n",
       "59401  6              1                1                      4     1       \n",
       "59402  6              6                5                      4     1       \n",
       "59403  6              6                5                      4     0       \n",
       "59404  6              1                1                      4     2       \n",
       "\n",
       "       day  pre2011  quarterMonth  otherExtractionType  unknownManagmentGroup  \\\n",
       "59400  3    0        1             1                    0                       \n",
       "59401  3    0        1             0                    0                       \n",
       "59402  0    0        1             1                    0                       \n",
       "59403  21   0        0             1                    0                       \n",
       "59404  26   0        2             0                    0                       \n",
       "\n",
       "       unknownNeverPaymentType  dryQuantityGroup  unknownQuantityGroup  \\\n",
       "59400  1                        0                 0                      \n",
       "59401  1                        0                 0                      \n",
       "59402  1                        0                 0                      \n",
       "59403  1                        1                 0                      \n",
       "59404  0                        0                 0                      \n",
       "\n",
       "       otherWaterType  \n",
       "59400  1               \n",
       "59401  0               \n",
       "59402  1               \n",
       "59403  1               \n",
       "59404  0               "
      ]
     },
     "execution_count": 19,
     "metadata": {},
     "output_type": "execute_result"
    }
   ],
   "source": [
    "#apply label encoder to train data\n",
    "test = test.apply(le.fit_transform)\n",
    "test.head()"
   ]
  },
  {
   "cell_type": "code",
   "execution_count": 20,
   "metadata": {
    "collapsed": true
   },
   "outputs": [],
   "source": [
    "#train on all the data I have"
   ]
  },
  {
   "cell_type": "code",
   "execution_count": 21,
   "metadata": {},
   "outputs": [
    {
     "data": {
      "text/html": [
       "<div>\n",
       "<style scoped>\n",
       "    .dataframe tbody tr th:only-of-type {\n",
       "        vertical-align: middle;\n",
       "    }\n",
       "\n",
       "    .dataframe tbody tr th {\n",
       "        vertical-align: top;\n",
       "    }\n",
       "\n",
       "    .dataframe thead th {\n",
       "        text-align: right;\n",
       "    }\n",
       "</style>\n",
       "<table border=\"1\" class=\"dataframe\">\n",
       "  <thead>\n",
       "    <tr style=\"text-align: right;\">\n",
       "      <th></th>\n",
       "      <th>basin</th>\n",
       "      <th>construction_year</th>\n",
       "      <th>date_recorded</th>\n",
       "      <th>district_code</th>\n",
       "      <th>extraction_type</th>\n",
       "      <th>extraction_type_class</th>\n",
       "      <th>extraction_type_group</th>\n",
       "      <th>latitude</th>\n",
       "      <th>longitude</th>\n",
       "      <th>management</th>\n",
       "      <th>management_group</th>\n",
       "      <th>num_private</th>\n",
       "      <th>payment_type</th>\n",
       "      <th>population</th>\n",
       "      <th>quality_group</th>\n",
       "      <th>quantity</th>\n",
       "      <th>quantity_group</th>\n",
       "      <th>region</th>\n",
       "      <th>region_code</th>\n",
       "      <th>source</th>\n",
       "      <th>source_class</th>\n",
       "      <th>source_type</th>\n",
       "      <th>water_quality</th>\n",
       "      <th>waterpoint_type</th>\n",
       "      <th>waterpoint_type_group</th>\n",
       "      <th>year</th>\n",
       "      <th>month</th>\n",
       "      <th>day</th>\n",
       "      <th>pre2011</th>\n",
       "      <th>quarterMonth</th>\n",
       "      <th>otherExtractionType</th>\n",
       "      <th>unknownManagmentGroup</th>\n",
       "      <th>unknownNeverPaymentType</th>\n",
       "      <th>dryQuantityGroup</th>\n",
       "      <th>unknownQuantityGroup</th>\n",
       "      <th>otherWaterType</th>\n",
       "    </tr>\n",
       "  </thead>\n",
       "  <tbody>\n",
       "    <tr>\n",
       "      <th>0</th>\n",
       "      <td>1</td>\n",
       "      <td>40</td>\n",
       "      <td>47</td>\n",
       "      <td>5</td>\n",
       "      <td>3</td>\n",
       "      <td>0</td>\n",
       "      <td>1</td>\n",
       "      <td>5513</td>\n",
       "      <td>28152</td>\n",
       "      <td>7</td>\n",
       "      <td>4</td>\n",
       "      <td>0</td>\n",
       "      <td>0</td>\n",
       "      <td>109</td>\n",
       "      <td>2</td>\n",
       "      <td>1</td>\n",
       "      <td>1</td>\n",
       "      <td>3</td>\n",
       "      <td>10</td>\n",
       "      <td>8</td>\n",
       "      <td>0</td>\n",
       "      <td>6</td>\n",
       "      <td>6</td>\n",
       "      <td>1</td>\n",
       "      <td>1</td>\n",
       "      <td>2</td>\n",
       "      <td>2</td>\n",
       "      <td>13</td>\n",
       "      <td>0</td>\n",
       "      <td>2</td>\n",
       "      <td>0</td>\n",
       "      <td>0</td>\n",
       "      <td>0</td>\n",
       "      <td>0</td>\n",
       "      <td>0</td>\n",
       "      <td>0</td>\n",
       "    </tr>\n",
       "    <tr>\n",
       "      <th>1</th>\n",
       "      <td>4</td>\n",
       "      <td>51</td>\n",
       "      <td>309</td>\n",
       "      <td>2</td>\n",
       "      <td>3</td>\n",
       "      <td>0</td>\n",
       "      <td>1</td>\n",
       "      <td>53253</td>\n",
       "      <td>25573</td>\n",
       "      <td>11</td>\n",
       "      <td>4</td>\n",
       "      <td>0</td>\n",
       "      <td>2</td>\n",
       "      <td>276</td>\n",
       "      <td>2</td>\n",
       "      <td>2</td>\n",
       "      <td>2</td>\n",
       "      <td>9</td>\n",
       "      <td>19</td>\n",
       "      <td>5</td>\n",
       "      <td>1</td>\n",
       "      <td>3</td>\n",
       "      <td>6</td>\n",
       "      <td>1</td>\n",
       "      <td>1</td>\n",
       "      <td>4</td>\n",
       "      <td>2</td>\n",
       "      <td>5</td>\n",
       "      <td>0</td>\n",
       "      <td>2</td>\n",
       "      <td>0</td>\n",
       "      <td>0</td>\n",
       "      <td>1</td>\n",
       "      <td>0</td>\n",
       "      <td>0</td>\n",
       "      <td>0</td>\n",
       "    </tr>\n",
       "    <tr>\n",
       "      <th>2</th>\n",
       "      <td>5</td>\n",
       "      <td>50</td>\n",
       "      <td>300</td>\n",
       "      <td>4</td>\n",
       "      <td>3</td>\n",
       "      <td>0</td>\n",
       "      <td>1</td>\n",
       "      <td>38862</td>\n",
       "      <td>44704</td>\n",
       "      <td>7</td>\n",
       "      <td>4</td>\n",
       "      <td>0</td>\n",
       "      <td>5</td>\n",
       "      <td>247</td>\n",
       "      <td>2</td>\n",
       "      <td>1</td>\n",
       "      <td>1</td>\n",
       "      <td>8</td>\n",
       "      <td>20</td>\n",
       "      <td>0</td>\n",
       "      <td>1</td>\n",
       "      <td>1</td>\n",
       "      <td>6</td>\n",
       "      <td>2</td>\n",
       "      <td>1</td>\n",
       "      <td>4</td>\n",
       "      <td>1</td>\n",
       "      <td>24</td>\n",
       "      <td>0</td>\n",
       "      <td>1</td>\n",
       "      <td>0</td>\n",
       "      <td>0</td>\n",
       "      <td>0</td>\n",
       "      <td>0</td>\n",
       "      <td>0</td>\n",
       "      <td>0</td>\n",
       "    </tr>\n",
       "    <tr>\n",
       "      <th>3</th>\n",
       "      <td>7</td>\n",
       "      <td>27</td>\n",
       "      <td>272</td>\n",
       "      <td>17</td>\n",
       "      <td>14</td>\n",
       "      <td>5</td>\n",
       "      <td>10</td>\n",
       "      <td>474</td>\n",
       "      <td>50370</td>\n",
       "      <td>7</td>\n",
       "      <td>4</td>\n",
       "      <td>0</td>\n",
       "      <td>2</td>\n",
       "      <td>58</td>\n",
       "      <td>2</td>\n",
       "      <td>0</td>\n",
       "      <td>0</td>\n",
       "      <td>12</td>\n",
       "      <td>25</td>\n",
       "      <td>3</td>\n",
       "      <td>0</td>\n",
       "      <td>0</td>\n",
       "      <td>6</td>\n",
       "      <td>2</td>\n",
       "      <td>1</td>\n",
       "      <td>4</td>\n",
       "      <td>0</td>\n",
       "      <td>27</td>\n",
       "      <td>0</td>\n",
       "      <td>0</td>\n",
       "      <td>0</td>\n",
       "      <td>0</td>\n",
       "      <td>1</td>\n",
       "      <td>1</td>\n",
       "      <td>0</td>\n",
       "      <td>0</td>\n",
       "    </tr>\n",
       "    <tr>\n",
       "      <th>4</th>\n",
       "      <td>4</td>\n",
       "      <td>0</td>\n",
       "      <td>104</td>\n",
       "      <td>1</td>\n",
       "      <td>3</td>\n",
       "      <td>0</td>\n",
       "      <td>1</td>\n",
       "      <td>54521</td>\n",
       "      <td>4772</td>\n",
       "      <td>1</td>\n",
       "      <td>1</td>\n",
       "      <td>0</td>\n",
       "      <td>2</td>\n",
       "      <td>0</td>\n",
       "      <td>2</td>\n",
       "      <td>3</td>\n",
       "      <td>3</td>\n",
       "      <td>4</td>\n",
       "      <td>17</td>\n",
       "      <td>5</td>\n",
       "      <td>1</td>\n",
       "      <td>3</td>\n",
       "      <td>6</td>\n",
       "      <td>1</td>\n",
       "      <td>1</td>\n",
       "      <td>2</td>\n",
       "      <td>6</td>\n",
       "      <td>12</td>\n",
       "      <td>0</td>\n",
       "      <td>0</td>\n",
       "      <td>0</td>\n",
       "      <td>0</td>\n",
       "      <td>1</td>\n",
       "      <td>0</td>\n",
       "      <td>0</td>\n",
       "      <td>0</td>\n",
       "    </tr>\n",
       "  </tbody>\n",
       "</table>\n",
       "</div>"
      ],
      "text/plain": [
       "   basin  construction_year  date_recorded  district_code  extraction_type  \\\n",
       "0  1      40                 47             5              3                 \n",
       "1  4      51                 309            2              3                 \n",
       "2  5      50                 300            4              3                 \n",
       "3  7      27                 272            17             14                \n",
       "4  4      0                  104            1              3                 \n",
       "\n",
       "   extraction_type_class  extraction_type_group  latitude  longitude  \\\n",
       "0  0                      1                      5513      28152       \n",
       "1  0                      1                      53253     25573       \n",
       "2  0                      1                      38862     44704       \n",
       "3  5                      10                     474       50370       \n",
       "4  0                      1                      54521     4772        \n",
       "\n",
       "   management  management_group  num_private  payment_type  population  \\\n",
       "0  7           4                 0            0             109          \n",
       "1  11          4                 0            2             276          \n",
       "2  7           4                 0            5             247          \n",
       "3  7           4                 0            2             58           \n",
       "4  1           1                 0            2             0            \n",
       "\n",
       "   quality_group  quantity  quantity_group  region  region_code  source  \\\n",
       "0  2              1         1               3       10           8        \n",
       "1  2              2         2               9       19           5        \n",
       "2  2              1         1               8       20           0        \n",
       "3  2              0         0               12      25           3        \n",
       "4  2              3         3               4       17           5        \n",
       "\n",
       "   source_class  source_type  water_quality  waterpoint_type  \\\n",
       "0  0             6            6              1                 \n",
       "1  1             3            6              1                 \n",
       "2  1             1            6              2                 \n",
       "3  0             0            6              2                 \n",
       "4  1             3            6              1                 \n",
       "\n",
       "   waterpoint_type_group  year  month  day  pre2011  quarterMonth  \\\n",
       "0  1                      2     2      13   0        2              \n",
       "1  1                      4     2      5    0        2              \n",
       "2  1                      4     1      24   0        1              \n",
       "3  1                      4     0      27   0        0              \n",
       "4  1                      2     6      12   0        0              \n",
       "\n",
       "   otherExtractionType  unknownManagmentGroup  unknownNeverPaymentType  \\\n",
       "0  0                    0                      0                         \n",
       "1  0                    0                      1                         \n",
       "2  0                    0                      0                         \n",
       "3  0                    0                      1                         \n",
       "4  0                    0                      1                         \n",
       "\n",
       "   dryQuantityGroup  unknownQuantityGroup  otherWaterType  \n",
       "0  0                 0                     0               \n",
       "1  0                 0                     0               \n",
       "2  0                 0                     0               \n",
       "3  1                 0                     0               \n",
       "4  0                 0                     0               "
      ]
     },
     "execution_count": 21,
     "metadata": {},
     "output_type": "execute_result"
    }
   ],
   "source": [
    "train.head()"
   ]
  },
  {
   "cell_type": "code",
   "execution_count": 22,
   "metadata": {
    "collapsed": true
   },
   "outputs": [],
   "source": [
    "xTrainFinal = train\n",
    "yTrainFinal = target"
   ]
  },
  {
   "cell_type": "code",
   "execution_count": 27,
   "metadata": {},
   "outputs": [
    {
     "data": {
      "text/plain": [
       "RandomForestClassifier(bootstrap=True, class_weight=None, criterion='gini',\n",
       "            max_depth=None, max_features='auto', max_leaf_nodes=None,\n",
       "            min_impurity_decrease=0.0, min_impurity_split=None,\n",
       "            min_samples_leaf=2, min_samples_split=4,\n",
       "            min_weight_fraction_leaf=0.0, n_estimators=60, n_jobs=1,\n",
       "            oob_score=False, random_state=None, verbose=0,\n",
       "            warm_start=False)"
      ]
     },
     "execution_count": 27,
     "metadata": {},
     "output_type": "execute_result"
    }
   ],
   "source": [
    "clf_rnf_cv.fit(xTrainFinal,yTrainFinal)"
   ]
  },
  {
   "cell_type": "code",
   "execution_count": 28,
   "metadata": {
    "collapsed": true
   },
   "outputs": [],
   "source": [
    "#make final predictions\n",
    "predictions_clf_rnf_cv = clf_rnf_cv.predict(test)"
   ]
  },
  {
   "cell_type": "code",
   "execution_count": 29,
   "metadata": {},
   "outputs": [
    {
     "data": {
      "text/plain": [
       "array([2, 0, 0, 2, 0, 0, 0, 2, 0, 0], dtype=int64)"
      ]
     },
     "execution_count": 29,
     "metadata": {},
     "output_type": "execute_result"
    }
   ],
   "source": [
    "predictions_clf_rnf_cv[0:10]"
   ]
  },
  {
   "cell_type": "code",
   "execution_count": 30,
   "metadata": {
    "collapsed": true
   },
   "outputs": [],
   "source": [
    "#{0: 'functional', 1: 'functional needs repair', 2: 'nonfunctional'}\n",
    "\n",
    "def decode(x):\n",
    "    if x == 0:\n",
    "        return('functional')\n",
    "    if x == 1:\n",
    "        return('functional needs repair')\n",
    "    if x == 2:\n",
    "        return('nonfunctional')\n",
    "    else:\n",
    "        return('error')"
   ]
  },
  {
   "cell_type": "code",
   "execution_count": 31,
   "metadata": {
    "collapsed": true
   },
   "outputs": [],
   "source": [
    "rnf_predictions = pd.DataFrame(predictions_clf_rnf_cv)"
   ]
  },
  {
   "cell_type": "code",
   "execution_count": 32,
   "metadata": {},
   "outputs": [
    {
     "data": {
      "text/plain": [
       "pandas.core.frame.DataFrame"
      ]
     },
     "execution_count": 32,
     "metadata": {},
     "output_type": "execute_result"
    }
   ],
   "source": [
    "type(rnf_predictions)"
   ]
  },
  {
   "cell_type": "code",
   "execution_count": 33,
   "metadata": {},
   "outputs": [
    {
     "data": {
      "text/html": [
       "<div>\n",
       "<style scoped>\n",
       "    .dataframe tbody tr th:only-of-type {\n",
       "        vertical-align: middle;\n",
       "    }\n",
       "\n",
       "    .dataframe tbody tr th {\n",
       "        vertical-align: top;\n",
       "    }\n",
       "\n",
       "    .dataframe thead th {\n",
       "        text-align: right;\n",
       "    }\n",
       "</style>\n",
       "<table border=\"1\" class=\"dataframe\">\n",
       "  <thead>\n",
       "    <tr style=\"text-align: right;\">\n",
       "      <th></th>\n",
       "      <th>0</th>\n",
       "    </tr>\n",
       "  </thead>\n",
       "  <tbody>\n",
       "    <tr>\n",
       "      <th>0</th>\n",
       "      <td>2</td>\n",
       "    </tr>\n",
       "    <tr>\n",
       "      <th>1</th>\n",
       "      <td>0</td>\n",
       "    </tr>\n",
       "    <tr>\n",
       "      <th>2</th>\n",
       "      <td>0</td>\n",
       "    </tr>\n",
       "    <tr>\n",
       "      <th>3</th>\n",
       "      <td>2</td>\n",
       "    </tr>\n",
       "    <tr>\n",
       "      <th>4</th>\n",
       "      <td>0</td>\n",
       "    </tr>\n",
       "  </tbody>\n",
       "</table>\n",
       "</div>"
      ],
      "text/plain": [
       "   0\n",
       "0  2\n",
       "1  0\n",
       "2  0\n",
       "3  2\n",
       "4  0"
      ]
     },
     "execution_count": 33,
     "metadata": {},
     "output_type": "execute_result"
    }
   ],
   "source": [
    "rnf_predictions.head()"
   ]
  },
  {
   "cell_type": "code",
   "execution_count": 35,
   "metadata": {
    "collapsed": true
   },
   "outputs": [],
   "source": [
    "rnf_predictions.columns = ['status_group']"
   ]
  },
  {
   "cell_type": "code",
   "execution_count": 36,
   "metadata": {},
   "outputs": [
    {
     "data": {
      "text/html": [
       "<div>\n",
       "<style scoped>\n",
       "    .dataframe tbody tr th:only-of-type {\n",
       "        vertical-align: middle;\n",
       "    }\n",
       "\n",
       "    .dataframe tbody tr th {\n",
       "        vertical-align: top;\n",
       "    }\n",
       "\n",
       "    .dataframe thead th {\n",
       "        text-align: right;\n",
       "    }\n",
       "</style>\n",
       "<table border=\"1\" class=\"dataframe\">\n",
       "  <thead>\n",
       "    <tr style=\"text-align: right;\">\n",
       "      <th></th>\n",
       "      <th>status_group</th>\n",
       "    </tr>\n",
       "  </thead>\n",
       "  <tbody>\n",
       "    <tr>\n",
       "      <th>0</th>\n",
       "      <td>2</td>\n",
       "    </tr>\n",
       "    <tr>\n",
       "      <th>1</th>\n",
       "      <td>0</td>\n",
       "    </tr>\n",
       "    <tr>\n",
       "      <th>2</th>\n",
       "      <td>0</td>\n",
       "    </tr>\n",
       "    <tr>\n",
       "      <th>3</th>\n",
       "      <td>2</td>\n",
       "    </tr>\n",
       "    <tr>\n",
       "      <th>4</th>\n",
       "      <td>0</td>\n",
       "    </tr>\n",
       "  </tbody>\n",
       "</table>\n",
       "</div>"
      ],
      "text/plain": [
       "   status_group\n",
       "0  2           \n",
       "1  0           \n",
       "2  0           \n",
       "3  2           \n",
       "4  0           "
      ]
     },
     "execution_count": 36,
     "metadata": {},
     "output_type": "execute_result"
    }
   ],
   "source": [
    "rnf_predictions.head()"
   ]
  },
  {
   "cell_type": "code",
   "execution_count": 37,
   "metadata": {
    "collapsed": true
   },
   "outputs": [],
   "source": [
    "rnf_predictions['status_group'] = rnf_predictions['status_group'].apply(decode)"
   ]
  },
  {
   "cell_type": "code",
   "execution_count": 38,
   "metadata": {},
   "outputs": [
    {
     "data": {
      "text/html": [
       "<div>\n",
       "<style scoped>\n",
       "    .dataframe tbody tr th:only-of-type {\n",
       "        vertical-align: middle;\n",
       "    }\n",
       "\n",
       "    .dataframe tbody tr th {\n",
       "        vertical-align: top;\n",
       "    }\n",
       "\n",
       "    .dataframe thead th {\n",
       "        text-align: right;\n",
       "    }\n",
       "</style>\n",
       "<table border=\"1\" class=\"dataframe\">\n",
       "  <thead>\n",
       "    <tr style=\"text-align: right;\">\n",
       "      <th></th>\n",
       "      <th>status_group</th>\n",
       "    </tr>\n",
       "  </thead>\n",
       "  <tbody>\n",
       "    <tr>\n",
       "      <th>0</th>\n",
       "      <td>nonfunctional</td>\n",
       "    </tr>\n",
       "    <tr>\n",
       "      <th>1</th>\n",
       "      <td>functional</td>\n",
       "    </tr>\n",
       "    <tr>\n",
       "      <th>2</th>\n",
       "      <td>functional</td>\n",
       "    </tr>\n",
       "    <tr>\n",
       "      <th>3</th>\n",
       "      <td>nonfunctional</td>\n",
       "    </tr>\n",
       "    <tr>\n",
       "      <th>4</th>\n",
       "      <td>functional</td>\n",
       "    </tr>\n",
       "  </tbody>\n",
       "</table>\n",
       "</div>"
      ],
      "text/plain": [
       "    status_group\n",
       "0  nonfunctional\n",
       "1  functional   \n",
       "2  functional   \n",
       "3  nonfunctional\n",
       "4  functional   "
      ]
     },
     "execution_count": 38,
     "metadata": {},
     "output_type": "execute_result"
    }
   ],
   "source": [
    "rnf_predictions.head()"
   ]
  },
  {
   "cell_type": "code",
   "execution_count": 39,
   "metadata": {
    "collapsed": true
   },
   "outputs": [],
   "source": [
    "rnfPred = pd.concat([testids, rnf_predictions], axis = 1)"
   ]
  },
  {
   "cell_type": "code",
   "execution_count": 40,
   "metadata": {},
   "outputs": [
    {
     "data": {
      "text/html": [
       "<div>\n",
       "<style scoped>\n",
       "    .dataframe tbody tr th:only-of-type {\n",
       "        vertical-align: middle;\n",
       "    }\n",
       "\n",
       "    .dataframe tbody tr th {\n",
       "        vertical-align: top;\n",
       "    }\n",
       "\n",
       "    .dataframe thead th {\n",
       "        text-align: right;\n",
       "    }\n",
       "</style>\n",
       "<table border=\"1\" class=\"dataframe\">\n",
       "  <thead>\n",
       "    <tr style=\"text-align: right;\">\n",
       "      <th></th>\n",
       "      <th>id</th>\n",
       "      <th>status_group</th>\n",
       "    </tr>\n",
       "  </thead>\n",
       "  <tbody>\n",
       "    <tr>\n",
       "      <th>0</th>\n",
       "      <td>50785</td>\n",
       "      <td>nonfunctional</td>\n",
       "    </tr>\n",
       "    <tr>\n",
       "      <th>1</th>\n",
       "      <td>51630</td>\n",
       "      <td>functional</td>\n",
       "    </tr>\n",
       "    <tr>\n",
       "      <th>2</th>\n",
       "      <td>17168</td>\n",
       "      <td>functional</td>\n",
       "    </tr>\n",
       "    <tr>\n",
       "      <th>3</th>\n",
       "      <td>45559</td>\n",
       "      <td>nonfunctional</td>\n",
       "    </tr>\n",
       "    <tr>\n",
       "      <th>4</th>\n",
       "      <td>49871</td>\n",
       "      <td>functional</td>\n",
       "    </tr>\n",
       "  </tbody>\n",
       "</table>\n",
       "</div>"
      ],
      "text/plain": [
       "      id   status_group\n",
       "0  50785  nonfunctional\n",
       "1  51630  functional   \n",
       "2  17168  functional   \n",
       "3  45559  nonfunctional\n",
       "4  49871  functional   "
      ]
     },
     "execution_count": 40,
     "metadata": {},
     "output_type": "execute_result"
    }
   ],
   "source": [
    "rnfPred.head()"
   ]
  },
  {
   "cell_type": "code",
   "execution_count": 41,
   "metadata": {
    "collapsed": true
   },
   "outputs": [],
   "source": [
    "#results wasn't very good.  Maybe just try standard random forest and XG boost to get some baselines\n",
    "rnfPred.to_csv('rnfPred.csv',index=False)"
   ]
  }
 ],
 "metadata": {
  "kernelspec": {
   "display_name": "Python 3",
   "language": "python",
   "name": "python3"
  },
  "language_info": {
   "codemirror_mode": {
    "name": "ipython",
    "version": 3
   },
   "file_extension": ".py",
   "mimetype": "text/x-python",
   "name": "python",
   "nbconvert_exporter": "python",
   "pygments_lexer": "ipython3",
   "version": "3.6.3"
  }
 },
 "nbformat": 4,
 "nbformat_minor": 2
}
