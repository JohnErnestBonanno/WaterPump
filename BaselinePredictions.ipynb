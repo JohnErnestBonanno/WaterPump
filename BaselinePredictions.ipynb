{
 "cells": [
  {
   "cell_type": "code",
   "execution_count": 1,
   "metadata": {
    "collapsed": true
   },
   "outputs": [],
   "source": [
    "import random\n",
    "import pandas as pd"
   ]
  },
  {
   "cell_type": "code",
   "execution_count": 2,
   "metadata": {},
   "outputs": [],
   "source": [
    "test = pd.read_csv(\"test.csv\")"
   ]
  },
  {
   "cell_type": "code",
   "execution_count": 3,
   "metadata": {},
   "outputs": [],
   "source": [
    "testids = test['id']"
   ]
  },
  {
   "cell_type": "code",
   "execution_count": 4,
   "metadata": {},
   "outputs": [],
   "source": [
    "def equalchance():\n",
    "    x = random.random()\n",
    "    if x <= 1/3:\n",
    "        return('functional')\n",
    "    if x >= 2/3:\n",
    "        return('non functional')\n",
    "    if (x > 1/3) and (x < 2/3):\n",
    "        return('functional needs repair')"
   ]
  },
  {
   "cell_type": "code",
   "execution_count": 5,
   "metadata": {},
   "outputs": [],
   "source": [
    "equalChancePred = []"
   ]
  },
  {
   "cell_type": "code",
   "execution_count": 6,
   "metadata": {},
   "outputs": [],
   "source": [
    "for x in range(len(testids)):\n",
    "    value = equalchance()\n",
    "    equalChancePred.append(value)"
   ]
  },
  {
   "cell_type": "code",
   "execution_count": 7,
   "metadata": {},
   "outputs": [],
   "source": [
    "equalChancePred = pd.Series(equalChancePred)"
   ]
  },
  {
   "cell_type": "code",
   "execution_count": 13,
   "metadata": {},
   "outputs": [],
   "source": [
    "equalChancedf = testids"
   ]
  },
  {
   "cell_type": "code",
   "execution_count": 15,
   "metadata": {},
   "outputs": [
    {
     "data": {
      "text/plain": [
       "pandas.core.series.Series"
      ]
     },
     "execution_count": 15,
     "metadata": {},
     "output_type": "execute_result"
    }
   ],
   "source": [
    "type(equalChancedf)"
   ]
  },
  {
   "cell_type": "code",
   "execution_count": 12,
   "metadata": {},
   "outputs": [
    {
     "data": {
      "text/plain": [
       "0        functional needs repair\n",
       "1                 non functional\n",
       "2                 non functional\n",
       "3        functional needs repair\n",
       "4        functional needs repair\n",
       "5                     functional\n",
       "6        functional needs repair\n",
       "7                     functional\n",
       "8                     functional\n",
       "9        functional needs repair\n",
       "10                non functional\n",
       "11       functional needs repair\n",
       "12                non functional\n",
       "13                non functional\n",
       "14                non functional\n",
       "15                    functional\n",
       "16       functional needs repair\n",
       "17                non functional\n",
       "18       functional needs repair\n",
       "19                non functional\n",
       "20       functional needs repair\n",
       "21                non functional\n",
       "22       functional needs repair\n",
       "23                non functional\n",
       "24       functional needs repair\n",
       "25                non functional\n",
       "26                    functional\n",
       "27                non functional\n",
       "28       functional needs repair\n",
       "29                    functional\n",
       "                  ...           \n",
       "14820             non functional\n",
       "14821                 functional\n",
       "14822    functional needs repair\n",
       "14823             non functional\n",
       "14824                 functional\n",
       "14825    functional needs repair\n",
       "14826    functional needs repair\n",
       "14827             non functional\n",
       "14828    functional needs repair\n",
       "14829             non functional\n",
       "14830    functional needs repair\n",
       "14831                 functional\n",
       "14832                 functional\n",
       "14833             non functional\n",
       "14834                 functional\n",
       "14835             non functional\n",
       "14836    functional needs repair\n",
       "14837             non functional\n",
       "14838             non functional\n",
       "14839                 functional\n",
       "14840                 functional\n",
       "14841                 functional\n",
       "14842    functional needs repair\n",
       "14843    functional needs repair\n",
       "14844             non functional\n",
       "14845    functional needs repair\n",
       "14846    functional needs repair\n",
       "14847                 functional\n",
       "14848             non functional\n",
       "14849             non functional\n",
       "Length: 14850, dtype: object"
      ]
     },
     "execution_count": 12,
     "metadata": {},
     "output_type": "execute_result"
    }
   ],
   "source": [
    "equalChancePred"
   ]
  },
  {
   "cell_type": "code",
   "execution_count": 9,
   "metadata": {},
   "outputs": [],
   "source": [
    "equalChancedf['status_group'] = equalChancePred"
   ]
  },
  {
   "cell_type": "code",
   "execution_count": 10,
   "metadata": {},
   "outputs": [
    {
     "data": {
      "text/plain": [
       "0    50785\n",
       "1    51630\n",
       "2    17168\n",
       "3    45559\n",
       "4    49871\n",
       "Name: id, dtype: object"
      ]
     },
     "execution_count": 10,
     "metadata": {},
     "output_type": "execute_result"
    }
   ],
   "source": [
    "equalChancedf.head()"
   ]
  },
  {
   "cell_type": "code",
   "execution_count": 37,
   "metadata": {},
   "outputs": [],
   "source": [
    "columnNames = ['id','status_group']"
   ]
  },
  {
   "cell_type": "code",
   "execution_count": 38,
   "metadata": {
    "collapsed": true
   },
   "outputs": [],
   "source": [
    "equalChancedf.columns = columnNames"
   ]
  },
  {
   "cell_type": "code",
   "execution_count": 40,
   "metadata": {},
   "outputs": [
    {
     "data": {
      "text/plain": [
       "0    50785\n",
       "1    51630\n",
       "2    17168\n",
       "3    45559\n",
       "4    49871\n",
       "Name: id, dtype: object"
      ]
     },
     "execution_count": 40,
     "metadata": {},
     "output_type": "execute_result"
    }
   ],
   "source": [
    "equalChancedf.head()"
   ]
  }
 ],
 "metadata": {
  "kernelspec": {
   "display_name": "Python 3",
   "language": "python",
   "name": "python3"
  },
  "language_info": {
   "codemirror_mode": {
    "name": "ipython",
    "version": 3
   },
   "file_extension": ".py",
   "mimetype": "text/x-python",
   "name": "python",
   "nbconvert_exporter": "python",
   "pygments_lexer": "ipython3",
   "version": "3.6.3"
  }
 },
 "nbformat": 4,
 "nbformat_minor": 2
}
